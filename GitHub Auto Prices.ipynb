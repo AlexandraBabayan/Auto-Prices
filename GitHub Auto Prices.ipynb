{
 "cells": [
  {
   "cell_type": "markdown",
   "metadata": {},
   "source": [
    "# Определение стоимости автомобилей"
   ]
  },
  {
   "cell_type": "markdown",
   "metadata": {},
   "source": [
    "Сервис по продаже автомобилей с пробегом «Не бит, не крашен» разрабатывает приложение для привлечения новых клиентов. В нём можно быстро узнать рыночную стоимость своего автомобиля. В вашем распоряжении исторические данные: технические характеристики, комплектации и цены автомобилей. Вам нужно построить модель для определения стоимости. \n",
    "\n",
    "Заказчику важны:\n",
    "\n",
    "- качество предсказания;\n",
    "- скорость предсказания;\n",
    "- время обучения."
   ]
  },
  {
   "cell_type": "markdown",
   "metadata": {},
   "source": [
    "**Цель проекта** - построить модель, которая будет определять рыночную стоимость автомобиля.\n",
    "\n",
    "**Задачи проекта:**\n",
    "\n",
    "***1)*** Загрузить данные, заполнить пропущенные значения, обработать аномалии в столбцах, при необходиомсти удалить неиформативные столбцы.\n",
    "\n",
    "***2)*** Подготовить выборки для обучения моделей.\n",
    "\n",
    "***3)*** Обучить разные модели, одна из которых — LightGBM, как минимум одна — не бустинг.\n",
    "\n",
    "***4)*** Проанализировать время обучения, время предсказания и качество моделей.\n",
    "\n",
    "***5)*** Выбрать лучшую модель, Опираясь на критерии заказчика:\n",
    "- качество предсказания;\n",
    "- время обучения модели;\n",
    "- время предсказания модели.\n",
    "\n",
    "***6)*** Проверить качество лучшей модели на тестовой выборке."
   ]
  },
  {
   "cell_type": "markdown",
   "metadata": {},
   "source": [
    "## Подготовка данных"
   ]
  },
  {
   "cell_type": "code",
   "execution_count": 1,
   "metadata": {},
   "outputs": [
    {
     "name": "stderr",
     "output_type": "stream",
     "text": [
      "ERROR: Invalid requirement: '##'\n"
     ]
    }
   ],
   "source": [
    "!pip install scikit-learn==1.1.3 -q  ## Установка версии sklearn\n",
    "\n",
    "!pip install phik -q\n",
    "import phik\n",
    "from phik import resources, report\n",
    "\n",
    "!pip install category_encoders -q\n",
    "from category_encoders import MEstimateEncoder\n"
   ]
  },
  {
   "cell_type": "code",
   "execution_count": 2,
   "metadata": {},
   "outputs": [],
   "source": [
    "import time\n",
    "import warnings\n",
    "\n",
    "import numpy as np\n",
    "import pandas as pd\n",
    "import seaborn as sns\n",
    "import lightgbm as lgb\n",
    "import matplotlib.pyplot as plt\n",
    "\n",
    "from catboost import CatBoostRegressor\n",
    "from lightgbm import LGBMRegressor\n",
    "from random import randint\n",
    "from sklearn. linear_model import Ridge\n",
    "from sklearn. linear_model import RidgeCV\n",
    "from sklearn.metrics import mean_squared_error\n",
    "from sklearn.linear_model import LinearRegression\n",
    "from sklearn.model_selection import KFold, train_test_split, RepeatedKFold\n",
    "from sklearn.preprocessing import OneHotEncoder, StandardScaler, LabelEncoder\n",
    "from tqdm import tqdm_notebook"
   ]
  },
  {
   "cell_type": "code",
   "execution_count": 3,
   "metadata": {},
   "outputs": [],
   "source": [
    "# Снимаем ограничения на количесвто столбцов, которые будут выводиться при обращении к датафреймам\n",
    "pd.set_option('display.max_columns', None)  \n",
    "\n",
    "# Задаем количество знаков после запятой для всех значений в датафрейме\n",
    "pd.set_option('float_format', '{:.2f}'.format) \n"
   ]
  },
  {
   "cell_type": "code",
   "execution_count": 4,
   "metadata": {},
   "outputs": [],
   "source": [
    "#Загрузим данные\n",
    "data_main = pd.read_csv('https://code.s3.yandex.net/datasets/autos.csv')\n",
    "\n"
   ]
  },
  {
   "cell_type": "code",
   "execution_count": 5,
   "metadata": {
    "scrolled": true
   },
   "outputs": [
    {
     "data": {
      "text/html": [
       "<div>\n",
       "<style scoped>\n",
       "    .dataframe tbody tr th:only-of-type {\n",
       "        vertical-align: middle;\n",
       "    }\n",
       "\n",
       "    .dataframe tbody tr th {\n",
       "        vertical-align: top;\n",
       "    }\n",
       "\n",
       "    .dataframe thead th {\n",
       "        text-align: right;\n",
       "    }\n",
       "</style>\n",
       "<table border=\"1\" class=\"dataframe\">\n",
       "  <thead>\n",
       "    <tr style=\"text-align: right;\">\n",
       "      <th></th>\n",
       "      <th>DateCrawled</th>\n",
       "      <th>Price</th>\n",
       "      <th>VehicleType</th>\n",
       "      <th>RegistrationYear</th>\n",
       "      <th>Gearbox</th>\n",
       "      <th>Power</th>\n",
       "      <th>Model</th>\n",
       "      <th>Kilometer</th>\n",
       "      <th>RegistrationMonth</th>\n",
       "      <th>FuelType</th>\n",
       "      <th>Brand</th>\n",
       "      <th>Repaired</th>\n",
       "      <th>DateCreated</th>\n",
       "      <th>NumberOfPictures</th>\n",
       "      <th>PostalCode</th>\n",
       "      <th>LastSeen</th>\n",
       "    </tr>\n",
       "  </thead>\n",
       "  <tbody>\n",
       "    <tr>\n",
       "      <th>0</th>\n",
       "      <td>2016-03-24 11:52:17</td>\n",
       "      <td>480</td>\n",
       "      <td>NaN</td>\n",
       "      <td>1993</td>\n",
       "      <td>manual</td>\n",
       "      <td>0</td>\n",
       "      <td>golf</td>\n",
       "      <td>150000</td>\n",
       "      <td>0</td>\n",
       "      <td>petrol</td>\n",
       "      <td>volkswagen</td>\n",
       "      <td>NaN</td>\n",
       "      <td>2016-03-24 00:00:00</td>\n",
       "      <td>0</td>\n",
       "      <td>70435</td>\n",
       "      <td>2016-04-07 03:16:57</td>\n",
       "    </tr>\n",
       "    <tr>\n",
       "      <th>1</th>\n",
       "      <td>2016-03-24 10:58:45</td>\n",
       "      <td>18300</td>\n",
       "      <td>coupe</td>\n",
       "      <td>2011</td>\n",
       "      <td>manual</td>\n",
       "      <td>190</td>\n",
       "      <td>NaN</td>\n",
       "      <td>125000</td>\n",
       "      <td>5</td>\n",
       "      <td>gasoline</td>\n",
       "      <td>audi</td>\n",
       "      <td>yes</td>\n",
       "      <td>2016-03-24 00:00:00</td>\n",
       "      <td>0</td>\n",
       "      <td>66954</td>\n",
       "      <td>2016-04-07 01:46:50</td>\n",
       "    </tr>\n",
       "    <tr>\n",
       "      <th>2</th>\n",
       "      <td>2016-03-14 12:52:21</td>\n",
       "      <td>9800</td>\n",
       "      <td>suv</td>\n",
       "      <td>2004</td>\n",
       "      <td>auto</td>\n",
       "      <td>163</td>\n",
       "      <td>grand</td>\n",
       "      <td>125000</td>\n",
       "      <td>8</td>\n",
       "      <td>gasoline</td>\n",
       "      <td>jeep</td>\n",
       "      <td>NaN</td>\n",
       "      <td>2016-03-14 00:00:00</td>\n",
       "      <td>0</td>\n",
       "      <td>90480</td>\n",
       "      <td>2016-04-05 12:47:46</td>\n",
       "    </tr>\n",
       "    <tr>\n",
       "      <th>3</th>\n",
       "      <td>2016-03-17 16:54:04</td>\n",
       "      <td>1500</td>\n",
       "      <td>small</td>\n",
       "      <td>2001</td>\n",
       "      <td>manual</td>\n",
       "      <td>75</td>\n",
       "      <td>golf</td>\n",
       "      <td>150000</td>\n",
       "      <td>6</td>\n",
       "      <td>petrol</td>\n",
       "      <td>volkswagen</td>\n",
       "      <td>no</td>\n",
       "      <td>2016-03-17 00:00:00</td>\n",
       "      <td>0</td>\n",
       "      <td>91074</td>\n",
       "      <td>2016-03-17 17:40:17</td>\n",
       "    </tr>\n",
       "    <tr>\n",
       "      <th>4</th>\n",
       "      <td>2016-03-31 17:25:20</td>\n",
       "      <td>3600</td>\n",
       "      <td>small</td>\n",
       "      <td>2008</td>\n",
       "      <td>manual</td>\n",
       "      <td>69</td>\n",
       "      <td>fabia</td>\n",
       "      <td>90000</td>\n",
       "      <td>7</td>\n",
       "      <td>gasoline</td>\n",
       "      <td>skoda</td>\n",
       "      <td>no</td>\n",
       "      <td>2016-03-31 00:00:00</td>\n",
       "      <td>0</td>\n",
       "      <td>60437</td>\n",
       "      <td>2016-04-06 10:17:21</td>\n",
       "    </tr>\n",
       "  </tbody>\n",
       "</table>\n",
       "</div>"
      ],
      "text/plain": [
       "           DateCrawled  Price VehicleType  RegistrationYear Gearbox  Power  \\\n",
       "0  2016-03-24 11:52:17    480         NaN              1993  manual      0   \n",
       "1  2016-03-24 10:58:45  18300       coupe              2011  manual    190   \n",
       "2  2016-03-14 12:52:21   9800         suv              2004    auto    163   \n",
       "3  2016-03-17 16:54:04   1500       small              2001  manual     75   \n",
       "4  2016-03-31 17:25:20   3600       small              2008  manual     69   \n",
       "\n",
       "   Model  Kilometer  RegistrationMonth  FuelType       Brand Repaired  \\\n",
       "0   golf     150000                  0    petrol  volkswagen      NaN   \n",
       "1    NaN     125000                  5  gasoline        audi      yes   \n",
       "2  grand     125000                  8  gasoline        jeep      NaN   \n",
       "3   golf     150000                  6    petrol  volkswagen       no   \n",
       "4  fabia      90000                  7  gasoline       skoda       no   \n",
       "\n",
       "           DateCreated  NumberOfPictures  PostalCode             LastSeen  \n",
       "0  2016-03-24 00:00:00                 0       70435  2016-04-07 03:16:57  \n",
       "1  2016-03-24 00:00:00                 0       66954  2016-04-07 01:46:50  \n",
       "2  2016-03-14 00:00:00                 0       90480  2016-04-05 12:47:46  \n",
       "3  2016-03-17 00:00:00                 0       91074  2016-03-17 17:40:17  \n",
       "4  2016-03-31 00:00:00                 0       60437  2016-04-06 10:17:21  "
      ]
     },
     "metadata": {},
     "output_type": "display_data"
    }
   ],
   "source": [
    "#Выведем первые 5 строк\n",
    "display(data_main.head())"
   ]
  },
  {
   "cell_type": "markdown",
   "metadata": {},
   "source": [
    "Посмотрим число строк, столбцов, информацию о типах данных в столбцах и количестве заполненных значений."
   ]
  },
  {
   "cell_type": "code",
   "execution_count": 6,
   "metadata": {
    "scrolled": false
   },
   "outputs": [
    {
     "name": "stdout",
     "output_type": "stream",
     "text": [
      "<class 'pandas.core.frame.DataFrame'>\n",
      "RangeIndex: 354369 entries, 0 to 354368\n",
      "Data columns (total 16 columns):\n",
      " #   Column             Non-Null Count   Dtype \n",
      "---  ------             --------------   ----- \n",
      " 0   DateCrawled        354369 non-null  object\n",
      " 1   Price              354369 non-null  int64 \n",
      " 2   VehicleType        316879 non-null  object\n",
      " 3   RegistrationYear   354369 non-null  int64 \n",
      " 4   Gearbox            334536 non-null  object\n",
      " 5   Power              354369 non-null  int64 \n",
      " 6   Model              334664 non-null  object\n",
      " 7   Kilometer          354369 non-null  int64 \n",
      " 8   RegistrationMonth  354369 non-null  int64 \n",
      " 9   FuelType           321474 non-null  object\n",
      " 10  Brand              354369 non-null  object\n",
      " 11  Repaired           283215 non-null  object\n",
      " 12  DateCreated        354369 non-null  object\n",
      " 13  NumberOfPictures   354369 non-null  int64 \n",
      " 14  PostalCode         354369 non-null  int64 \n",
      " 15  LastSeen           354369 non-null  object\n",
      "dtypes: int64(7), object(9)\n",
      "memory usage: 43.3+ MB\n"
     ]
    }
   ],
   "source": [
    "data_main.info()"
   ]
  },
  {
   "cell_type": "markdown",
   "metadata": {},
   "source": [
    "Типы данных в двух столбцах можно поменять: в столбце 'Repaired' могут быть 2 значения: yes, no (True, False). Была машина в ремонте или нет - возможны только 2 варианта.\n",
    "\n",
    "Дата последней активности представлена типом object - здесь пнужно заменить тип данных на date, если нужно оставить этот столбец. То же самое с датой создания анкеты: если оставить этот столбец, то тип данных нужно перевести в date.\n",
    "\n",
    "Остальные типы данных указаны корректно."
   ]
  },
  {
   "cell_type": "markdown",
   "metadata": {},
   "source": [
    "Перед обработкой данных создадим копию исходного датафрейма:\n"
   ]
  },
  {
   "cell_type": "code",
   "execution_count": 7,
   "metadata": {},
   "outputs": [],
   "source": [
    "df = data_main.copy(deep=True)"
   ]
  },
  {
   "cell_type": "markdown",
   "metadata": {},
   "source": [
    "***Удаление неинформативных значений***\n",
    "\n",
    "Согласно требованиям заказчика, прогноз рыночной цены осуществляется на основании технических характеристик, комплектации и цены. Поэтому имеет смысл удалить столбцы, не относящиеся к техническим характеристикам, копмлектации и цене:\n",
    "\n",
    "- RegistrationMonth — месяц регистрации автомобиля;\n",
    "- DateCreated — дата создания анкеты;\n",
    "- NumberOfPictures — количество фотографий автомобиля;\n",
    "- PostalCode — почтовый индекс владельца анкеты (пользователя);\n",
    "- LastSeen — дата последней активности пользователя.\n"
   ]
  },
  {
   "cell_type": "code",
   "execution_count": 8,
   "metadata": {},
   "outputs": [],
   "source": [
    "#Столбцы для удаления:\n",
    "columns_to_drop = ['RegistrationMonth', 'DateCreated', 'NumberOfPictures', 'PostalCode', 'LastSeen']"
   ]
  },
  {
   "cell_type": "code",
   "execution_count": 9,
   "metadata": {},
   "outputs": [],
   "source": [
    "df = df.drop(columns_to_drop, axis=1)"
   ]
  },
  {
   "cell_type": "markdown",
   "metadata": {},
   "source": [
    "Поменяем типы данных в столбцах\n",
    "\n",
    "***1)*** DateCrawled  -  переведем в тип date;\n",
    "\n",
    "***2)*** Поменяем тип данных в стобце Repaired на boolean."
   ]
  },
  {
   "cell_type": "code",
   "execution_count": 10,
   "metadata": {},
   "outputs": [],
   "source": [
    "df['DateCrawled'] = pd.to_datetime(df['DateCrawled'])"
   ]
  },
  {
   "cell_type": "markdown",
   "metadata": {},
   "source": [
    "Поскольку именно возраст (в годах) влияет на стоимость автомобиля, а полная дата со временем не принципиальна, имеет смысл извлечь из столбца с датой создания анкеты DateCrawled) только год."
   ]
  },
  {
   "cell_type": "code",
   "execution_count": 11,
   "metadata": {},
   "outputs": [],
   "source": [
    "df['DateCrawled'] = df['DateCrawled'].dt.year"
   ]
  },
  {
   "cell_type": "code",
   "execution_count": 12,
   "metadata": {
    "scrolled": true
   },
   "outputs": [
    {
     "data": {
      "text/html": [
       "<div>\n",
       "<style scoped>\n",
       "    .dataframe tbody tr th:only-of-type {\n",
       "        vertical-align: middle;\n",
       "    }\n",
       "\n",
       "    .dataframe tbody tr th {\n",
       "        vertical-align: top;\n",
       "    }\n",
       "\n",
       "    .dataframe thead th {\n",
       "        text-align: right;\n",
       "    }\n",
       "</style>\n",
       "<table border=\"1\" class=\"dataframe\">\n",
       "  <thead>\n",
       "    <tr style=\"text-align: right;\">\n",
       "      <th></th>\n",
       "      <th>DateCrawled</th>\n",
       "      <th>Price</th>\n",
       "      <th>VehicleType</th>\n",
       "      <th>RegistrationYear</th>\n",
       "      <th>Gearbox</th>\n",
       "      <th>Power</th>\n",
       "      <th>Model</th>\n",
       "      <th>Kilometer</th>\n",
       "      <th>FuelType</th>\n",
       "      <th>Brand</th>\n",
       "      <th>Repaired</th>\n",
       "    </tr>\n",
       "  </thead>\n",
       "  <tbody>\n",
       "    <tr>\n",
       "      <th>0</th>\n",
       "      <td>2016</td>\n",
       "      <td>480</td>\n",
       "      <td>NaN</td>\n",
       "      <td>1993</td>\n",
       "      <td>manual</td>\n",
       "      <td>0</td>\n",
       "      <td>golf</td>\n",
       "      <td>150000</td>\n",
       "      <td>petrol</td>\n",
       "      <td>volkswagen</td>\n",
       "      <td>NaN</td>\n",
       "    </tr>\n",
       "    <tr>\n",
       "      <th>1</th>\n",
       "      <td>2016</td>\n",
       "      <td>18300</td>\n",
       "      <td>coupe</td>\n",
       "      <td>2011</td>\n",
       "      <td>manual</td>\n",
       "      <td>190</td>\n",
       "      <td>NaN</td>\n",
       "      <td>125000</td>\n",
       "      <td>gasoline</td>\n",
       "      <td>audi</td>\n",
       "      <td>yes</td>\n",
       "    </tr>\n",
       "    <tr>\n",
       "      <th>2</th>\n",
       "      <td>2016</td>\n",
       "      <td>9800</td>\n",
       "      <td>suv</td>\n",
       "      <td>2004</td>\n",
       "      <td>auto</td>\n",
       "      <td>163</td>\n",
       "      <td>grand</td>\n",
       "      <td>125000</td>\n",
       "      <td>gasoline</td>\n",
       "      <td>jeep</td>\n",
       "      <td>NaN</td>\n",
       "    </tr>\n",
       "    <tr>\n",
       "      <th>3</th>\n",
       "      <td>2016</td>\n",
       "      <td>1500</td>\n",
       "      <td>small</td>\n",
       "      <td>2001</td>\n",
       "      <td>manual</td>\n",
       "      <td>75</td>\n",
       "      <td>golf</td>\n",
       "      <td>150000</td>\n",
       "      <td>petrol</td>\n",
       "      <td>volkswagen</td>\n",
       "      <td>no</td>\n",
       "    </tr>\n",
       "    <tr>\n",
       "      <th>4</th>\n",
       "      <td>2016</td>\n",
       "      <td>3600</td>\n",
       "      <td>small</td>\n",
       "      <td>2008</td>\n",
       "      <td>manual</td>\n",
       "      <td>69</td>\n",
       "      <td>fabia</td>\n",
       "      <td>90000</td>\n",
       "      <td>gasoline</td>\n",
       "      <td>skoda</td>\n",
       "      <td>no</td>\n",
       "    </tr>\n",
       "  </tbody>\n",
       "</table>\n",
       "</div>"
      ],
      "text/plain": [
       "   DateCrawled  Price VehicleType  RegistrationYear Gearbox  Power  Model  \\\n",
       "0         2016    480         NaN              1993  manual      0   golf   \n",
       "1         2016  18300       coupe              2011  manual    190    NaN   \n",
       "2         2016   9800         suv              2004    auto    163  grand   \n",
       "3         2016   1500       small              2001  manual     75   golf   \n",
       "4         2016   3600       small              2008  manual     69  fabia   \n",
       "\n",
       "   Kilometer  FuelType       Brand Repaired  \n",
       "0     150000    petrol  volkswagen      NaN  \n",
       "1     125000  gasoline        audi      yes  \n",
       "2     125000  gasoline        jeep      NaN  \n",
       "3     150000    petrol  volkswagen       no  \n",
       "4      90000  gasoline       skoda       no  "
      ]
     },
     "execution_count": 12,
     "metadata": {},
     "output_type": "execute_result"
    }
   ],
   "source": [
    "df.head()"
   ]
  },
  {
   "cell_type": "markdown",
   "metadata": {},
   "source": [
    "Заменим значения в столбце Repaired на True False."
   ]
  },
  {
   "cell_type": "code",
   "execution_count": 13,
   "metadata": {},
   "outputs": [
    {
     "data": {
      "text/plain": [
       "array([nan, 'yes', 'no'], dtype=object)"
      ]
     },
     "execution_count": 13,
     "metadata": {},
     "output_type": "execute_result"
    }
   ],
   "source": [
    "df['Repaired'].unique()"
   ]
  },
  {
   "cell_type": "code",
   "execution_count": 14,
   "metadata": {},
   "outputs": [],
   "source": [
    "df['Repaired'] = df['Repaired'].map({'yes': True, 'no': False}) "
   ]
  },
  {
   "cell_type": "markdown",
   "metadata": {},
   "source": [
    "После обработки пропусков переведем тип данных в столбце Repaired в boolean"
   ]
  },
  {
   "cell_type": "code",
   "execution_count": 15,
   "metadata": {
    "scrolled": true
   },
   "outputs": [
    {
     "data": {
      "text/html": [
       "<div>\n",
       "<style scoped>\n",
       "    .dataframe tbody tr th:only-of-type {\n",
       "        vertical-align: middle;\n",
       "    }\n",
       "\n",
       "    .dataframe tbody tr th {\n",
       "        vertical-align: top;\n",
       "    }\n",
       "\n",
       "    .dataframe thead th {\n",
       "        text-align: right;\n",
       "    }\n",
       "</style>\n",
       "<table border=\"1\" class=\"dataframe\">\n",
       "  <thead>\n",
       "    <tr style=\"text-align: right;\">\n",
       "      <th></th>\n",
       "      <th>DateCrawled</th>\n",
       "      <th>Price</th>\n",
       "      <th>VehicleType</th>\n",
       "      <th>RegistrationYear</th>\n",
       "      <th>Gearbox</th>\n",
       "      <th>Power</th>\n",
       "      <th>Model</th>\n",
       "      <th>Kilometer</th>\n",
       "      <th>FuelType</th>\n",
       "      <th>Brand</th>\n",
       "      <th>Repaired</th>\n",
       "    </tr>\n",
       "  </thead>\n",
       "  <tbody>\n",
       "    <tr>\n",
       "      <th>0</th>\n",
       "      <td>2016</td>\n",
       "      <td>480</td>\n",
       "      <td>NaN</td>\n",
       "      <td>1993</td>\n",
       "      <td>manual</td>\n",
       "      <td>0</td>\n",
       "      <td>golf</td>\n",
       "      <td>150000</td>\n",
       "      <td>petrol</td>\n",
       "      <td>volkswagen</td>\n",
       "      <td>NaN</td>\n",
       "    </tr>\n",
       "    <tr>\n",
       "      <th>1</th>\n",
       "      <td>2016</td>\n",
       "      <td>18300</td>\n",
       "      <td>coupe</td>\n",
       "      <td>2011</td>\n",
       "      <td>manual</td>\n",
       "      <td>190</td>\n",
       "      <td>NaN</td>\n",
       "      <td>125000</td>\n",
       "      <td>gasoline</td>\n",
       "      <td>audi</td>\n",
       "      <td>True</td>\n",
       "    </tr>\n",
       "    <tr>\n",
       "      <th>2</th>\n",
       "      <td>2016</td>\n",
       "      <td>9800</td>\n",
       "      <td>suv</td>\n",
       "      <td>2004</td>\n",
       "      <td>auto</td>\n",
       "      <td>163</td>\n",
       "      <td>grand</td>\n",
       "      <td>125000</td>\n",
       "      <td>gasoline</td>\n",
       "      <td>jeep</td>\n",
       "      <td>NaN</td>\n",
       "    </tr>\n",
       "    <tr>\n",
       "      <th>3</th>\n",
       "      <td>2016</td>\n",
       "      <td>1500</td>\n",
       "      <td>small</td>\n",
       "      <td>2001</td>\n",
       "      <td>manual</td>\n",
       "      <td>75</td>\n",
       "      <td>golf</td>\n",
       "      <td>150000</td>\n",
       "      <td>petrol</td>\n",
       "      <td>volkswagen</td>\n",
       "      <td>False</td>\n",
       "    </tr>\n",
       "    <tr>\n",
       "      <th>4</th>\n",
       "      <td>2016</td>\n",
       "      <td>3600</td>\n",
       "      <td>small</td>\n",
       "      <td>2008</td>\n",
       "      <td>manual</td>\n",
       "      <td>69</td>\n",
       "      <td>fabia</td>\n",
       "      <td>90000</td>\n",
       "      <td>gasoline</td>\n",
       "      <td>skoda</td>\n",
       "      <td>False</td>\n",
       "    </tr>\n",
       "  </tbody>\n",
       "</table>\n",
       "</div>"
      ],
      "text/plain": [
       "   DateCrawled  Price VehicleType  RegistrationYear Gearbox  Power  Model  \\\n",
       "0         2016    480         NaN              1993  manual      0   golf   \n",
       "1         2016  18300       coupe              2011  manual    190    NaN   \n",
       "2         2016   9800         suv              2004    auto    163  grand   \n",
       "3         2016   1500       small              2001  manual     75   golf   \n",
       "4         2016   3600       small              2008  manual     69  fabia   \n",
       "\n",
       "   Kilometer  FuelType       Brand Repaired  \n",
       "0     150000    petrol  volkswagen      NaN  \n",
       "1     125000  gasoline        audi     True  \n",
       "2     125000  gasoline        jeep      NaN  \n",
       "3     150000    petrol  volkswagen    False  \n",
       "4      90000  gasoline       skoda    False  "
      ]
     },
     "execution_count": 15,
     "metadata": {},
     "output_type": "execute_result"
    }
   ],
   "source": [
    "df.head()"
   ]
  },
  {
   "cell_type": "markdown",
   "metadata": {},
   "source": [
    "***Удаление аномальных значений***\n",
    "\n",
    "Удалить аномальные значения нужно ***перед*** обработкой пропусков, чтобы при заполнении синтетическими расчетными данными пропусков аномалии не искажали данные. "
   ]
  },
  {
   "cell_type": "markdown",
   "metadata": {},
   "source": [
    "Создадим таблицу с пропущенными значениями."
   ]
  },
  {
   "cell_type": "code",
   "execution_count": 16,
   "metadata": {},
   "outputs": [
    {
     "data": {
      "text/html": [
       "<div>\n",
       "<style scoped>\n",
       "    .dataframe tbody tr th:only-of-type {\n",
       "        vertical-align: middle;\n",
       "    }\n",
       "\n",
       "    .dataframe tbody tr th {\n",
       "        vertical-align: top;\n",
       "    }\n",
       "\n",
       "    .dataframe thead th {\n",
       "        text-align: right;\n",
       "    }\n",
       "</style>\n",
       "<table border=\"1\" class=\"dataframe\">\n",
       "  <thead>\n",
       "    <tr style=\"text-align: right;\">\n",
       "      <th></th>\n",
       "      <th>empty_value</th>\n",
       "    </tr>\n",
       "  </thead>\n",
       "  <tbody>\n",
       "    <tr>\n",
       "      <th>VehicleType</th>\n",
       "      <td>37490</td>\n",
       "    </tr>\n",
       "    <tr>\n",
       "      <th>Gearbox</th>\n",
       "      <td>19833</td>\n",
       "    </tr>\n",
       "    <tr>\n",
       "      <th>Model</th>\n",
       "      <td>19705</td>\n",
       "    </tr>\n",
       "    <tr>\n",
       "      <th>FuelType</th>\n",
       "      <td>32895</td>\n",
       "    </tr>\n",
       "    <tr>\n",
       "      <th>Repaired</th>\n",
       "      <td>71154</td>\n",
       "    </tr>\n",
       "  </tbody>\n",
       "</table>\n",
       "</div>"
      ],
      "text/plain": [
       "             empty_value\n",
       "VehicleType        37490\n",
       "Gearbox            19833\n",
       "Model              19705\n",
       "FuelType           32895\n",
       "Repaired           71154"
      ]
     },
     "metadata": {},
     "output_type": "display_data"
    }
   ],
   "source": [
    "empty_values = df.isna().sum().to_frame(name=\"empty_value\").query(\"empty_value > 0\")\n",
    "display(empty_values)"
   ]
  },
  {
   "cell_type": "markdown",
   "metadata": {},
   "source": [
    "Посчитаем процент пропусков."
   ]
  },
  {
   "cell_type": "code",
   "execution_count": 17,
   "metadata": {},
   "outputs": [],
   "source": [
    "empty_values['rate'] = empty_values['empty_value']/df.shape[0]"
   ]
  },
  {
   "cell_type": "code",
   "execution_count": 18,
   "metadata": {
    "scrolled": true
   },
   "outputs": [
    {
     "data": {
      "text/html": [
       "<div>\n",
       "<style scoped>\n",
       "    .dataframe tbody tr th:only-of-type {\n",
       "        vertical-align: middle;\n",
       "    }\n",
       "\n",
       "    .dataframe tbody tr th {\n",
       "        vertical-align: top;\n",
       "    }\n",
       "\n",
       "    .dataframe thead th {\n",
       "        text-align: right;\n",
       "    }\n",
       "</style>\n",
       "<table border=\"1\" class=\"dataframe\">\n",
       "  <thead>\n",
       "    <tr style=\"text-align: right;\">\n",
       "      <th></th>\n",
       "      <th>empty_value</th>\n",
       "      <th>rate</th>\n",
       "    </tr>\n",
       "  </thead>\n",
       "  <tbody>\n",
       "    <tr>\n",
       "      <th>VehicleType</th>\n",
       "      <td>37490</td>\n",
       "      <td>0.11</td>\n",
       "    </tr>\n",
       "    <tr>\n",
       "      <th>Gearbox</th>\n",
       "      <td>19833</td>\n",
       "      <td>0.06</td>\n",
       "    </tr>\n",
       "    <tr>\n",
       "      <th>Model</th>\n",
       "      <td>19705</td>\n",
       "      <td>0.06</td>\n",
       "    </tr>\n",
       "    <tr>\n",
       "      <th>FuelType</th>\n",
       "      <td>32895</td>\n",
       "      <td>0.09</td>\n",
       "    </tr>\n",
       "    <tr>\n",
       "      <th>Repaired</th>\n",
       "      <td>71154</td>\n",
       "      <td>0.20</td>\n",
       "    </tr>\n",
       "  </tbody>\n",
       "</table>\n",
       "</div>"
      ],
      "text/plain": [
       "             empty_value  rate\n",
       "VehicleType        37490  0.11\n",
       "Gearbox            19833  0.06\n",
       "Model              19705  0.06\n",
       "FuelType           32895  0.09\n",
       "Repaired           71154  0.20"
      ]
     },
     "metadata": {},
     "output_type": "display_data"
    }
   ],
   "source": [
    "display(empty_values)"
   ]
  },
  {
   "cell_type": "markdown",
   "metadata": {},
   "source": [
    "Выведем статистику по количественным признакам."
   ]
  },
  {
   "cell_type": "code",
   "execution_count": 19,
   "metadata": {
    "scrolled": false
   },
   "outputs": [
    {
     "data": {
      "text/html": [
       "<div>\n",
       "<style scoped>\n",
       "    .dataframe tbody tr th:only-of-type {\n",
       "        vertical-align: middle;\n",
       "    }\n",
       "\n",
       "    .dataframe tbody tr th {\n",
       "        vertical-align: top;\n",
       "    }\n",
       "\n",
       "    .dataframe thead th {\n",
       "        text-align: right;\n",
       "    }\n",
       "</style>\n",
       "<table border=\"1\" class=\"dataframe\">\n",
       "  <thead>\n",
       "    <tr style=\"text-align: right;\">\n",
       "      <th></th>\n",
       "      <th>count</th>\n",
       "      <th>mean</th>\n",
       "      <th>std</th>\n",
       "      <th>min</th>\n",
       "      <th>25%</th>\n",
       "      <th>50%</th>\n",
       "      <th>75%</th>\n",
       "      <th>max</th>\n",
       "    </tr>\n",
       "  </thead>\n",
       "  <tbody>\n",
       "    <tr>\n",
       "      <th>DateCrawled</th>\n",
       "      <td>354369.00</td>\n",
       "      <td>2016.00</td>\n",
       "      <td>0.00</td>\n",
       "      <td>2016.00</td>\n",
       "      <td>2016.00</td>\n",
       "      <td>2016.00</td>\n",
       "      <td>2016.00</td>\n",
       "      <td>2016.00</td>\n",
       "    </tr>\n",
       "    <tr>\n",
       "      <th>Price</th>\n",
       "      <td>354369.00</td>\n",
       "      <td>4416.66</td>\n",
       "      <td>4514.16</td>\n",
       "      <td>0.00</td>\n",
       "      <td>1050.00</td>\n",
       "      <td>2700.00</td>\n",
       "      <td>6400.00</td>\n",
       "      <td>20000.00</td>\n",
       "    </tr>\n",
       "    <tr>\n",
       "      <th>RegistrationYear</th>\n",
       "      <td>354369.00</td>\n",
       "      <td>2004.23</td>\n",
       "      <td>90.23</td>\n",
       "      <td>1000.00</td>\n",
       "      <td>1999.00</td>\n",
       "      <td>2003.00</td>\n",
       "      <td>2008.00</td>\n",
       "      <td>9999.00</td>\n",
       "    </tr>\n",
       "    <tr>\n",
       "      <th>Power</th>\n",
       "      <td>354369.00</td>\n",
       "      <td>110.09</td>\n",
       "      <td>189.85</td>\n",
       "      <td>0.00</td>\n",
       "      <td>69.00</td>\n",
       "      <td>105.00</td>\n",
       "      <td>143.00</td>\n",
       "      <td>20000.00</td>\n",
       "    </tr>\n",
       "    <tr>\n",
       "      <th>Kilometer</th>\n",
       "      <td>354369.00</td>\n",
       "      <td>128211.17</td>\n",
       "      <td>37905.34</td>\n",
       "      <td>5000.00</td>\n",
       "      <td>125000.00</td>\n",
       "      <td>150000.00</td>\n",
       "      <td>150000.00</td>\n",
       "      <td>150000.00</td>\n",
       "    </tr>\n",
       "  </tbody>\n",
       "</table>\n",
       "</div>"
      ],
      "text/plain": [
       "                     count      mean      std     min       25%       50%  \\\n",
       "DateCrawled      354369.00   2016.00     0.00 2016.00   2016.00   2016.00   \n",
       "Price            354369.00   4416.66  4514.16    0.00   1050.00   2700.00   \n",
       "RegistrationYear 354369.00   2004.23    90.23 1000.00   1999.00   2003.00   \n",
       "Power            354369.00    110.09   189.85    0.00     69.00    105.00   \n",
       "Kilometer        354369.00 128211.17 37905.34 5000.00 125000.00 150000.00   \n",
       "\n",
       "                       75%       max  \n",
       "DateCrawled        2016.00   2016.00  \n",
       "Price              6400.00  20000.00  \n",
       "RegistrationYear   2008.00   9999.00  \n",
       "Power               143.00  20000.00  \n",
       "Kilometer        150000.00 150000.00  "
      ]
     },
     "execution_count": 19,
     "metadata": {},
     "output_type": "execute_result"
    }
   ],
   "source": [
    "df.describe().T"
   ]
  },
  {
   "cell_type": "markdown",
   "metadata": {},
   "source": [
    "В таблице со статистикой видим аномалии в строках:\n",
    "\n",
    "***1)*** с нулевой стоимостью автомобиля;\n",
    "\n",
    "***2)*** с годом регистрации автомобиля 1000 и 9999;\n",
    "\n",
    "***3)*** с нулевым числом лошадиных сил и максимльным числом лошадиных сил 20000 (зугуглила, что максимальное число лошадиных сил 1600).\n",
    "\n",
    "Пролверим число строк с аномалиями.\n",
    "\n"
   ]
  },
  {
   "cell_type": "code",
   "execution_count": 20,
   "metadata": {
    "scrolled": true
   },
   "outputs": [
    {
     "name": "stdout",
     "output_type": "stream",
     "text": [
      "Число строк с ценой менее 50 евро : 12423\n",
      "Число строк с мощностью меньше 25 лошадинных сил:  40764\n",
      "Число строк с мощностью больше 1600 лошадиных сил:  179\n",
      "Число строк с годами выпуска авто раньше 1930 года и позже 2024 года: 291\n"
     ]
    }
   ],
   "source": [
    "print('Число строк с ценой менее 50 евро :', df[df['Price'] < 50]['Price'].count())\n",
    "print('Число строк с мощностью меньше 25 лошадинных сил: ', df.query('25 >= Power')['Power'].count())\n",
    "print('Число строк с мощностью больше 1600 лошадиных сил: ', df.query('Power > 1600')['Power'].count())\n",
    "print('Число строк с годами выпуска авто раньше 1930 года и позже 2024 года:',\n",
    "      df.query('RegistrationYear <= 1930 or RegistrationYear > 2024')['RegistrationYear'].count())"
   ]
  },
  {
   "cell_type": "markdown",
   "metadata": {},
   "source": [
    "Число строк с ценой менее 50 евро - 3,5%, не очень большой процент, но столь низкая цена может негативно сказаться на качестве прогноза. Удалим эти строки.\n",
    "\n",
    "Число строк с не корректными годами выпуска ничтожно мало по сравнению с размером датафрейма, их можно удалить.\n",
    "\n",
    "Число строк с аномальными размерами мощностей существенно - 11,5%. Заменим значения с аномалиями с втолбце с мощностью на NaN и затем заполним эти пропуски медианными значениями по каждому бренду."
   ]
  },
  {
   "cell_type": "code",
   "execution_count": 21,
   "metadata": {},
   "outputs": [
    {
     "name": "stdout",
     "output_type": "stream",
     "text": [
      "<class 'pandas.core.frame.DataFrame'>\n",
      "RangeIndex: 354369 entries, 0 to 354368\n",
      "Data columns (total 11 columns):\n",
      " #   Column            Non-Null Count   Dtype \n",
      "---  ------            --------------   ----- \n",
      " 0   DateCrawled       354369 non-null  int32 \n",
      " 1   Price             354369 non-null  int64 \n",
      " 2   VehicleType       316879 non-null  object\n",
      " 3   RegistrationYear  354369 non-null  int64 \n",
      " 4   Gearbox           334536 non-null  object\n",
      " 5   Power             354369 non-null  int64 \n",
      " 6   Model             334664 non-null  object\n",
      " 7   Kilometer         354369 non-null  int64 \n",
      " 8   FuelType          321474 non-null  object\n",
      " 9   Brand             354369 non-null  object\n",
      " 10  Repaired          283215 non-null  object\n",
      "dtypes: int32(1), int64(4), object(6)\n",
      "memory usage: 28.4+ MB\n"
     ]
    }
   ],
   "source": [
    "df.info()"
   ]
  },
  {
   "cell_type": "code",
   "execution_count": 22,
   "metadata": {},
   "outputs": [],
   "source": [
    "df = df[df['Price']>=50]\n",
    "df = df[(df['RegistrationYear'] > 1930) & (df['RegistrationYear'] <= 2016)]"
   ]
  },
  {
   "cell_type": "markdown",
   "metadata": {},
   "source": [
    "Заменим аномальные значения в столбце Power на NaN:"
   ]
  },
  {
   "cell_type": "code",
   "execution_count": 23,
   "metadata": {},
   "outputs": [],
   "source": [
    "df.loc[df['Power'] <= 25, 'Power'] = np.nan\n",
    "df.loc[df['Power'] > 1600, 'Power'] = np.nan"
   ]
  },
  {
   "cell_type": "markdown",
   "metadata": {},
   "source": [
    "**Заполнение пропусков**\n",
    "\n"
   ]
  },
  {
   "cell_type": "markdown",
   "metadata": {},
   "source": [
    "Посчитаем число и процент пропусков в столбцах после работы с аномалиями."
   ]
  },
  {
   "cell_type": "code",
   "execution_count": 24,
   "metadata": {},
   "outputs": [
    {
     "data": {
      "text/html": [
       "<div>\n",
       "<style scoped>\n",
       "    .dataframe tbody tr th:only-of-type {\n",
       "        vertical-align: middle;\n",
       "    }\n",
       "\n",
       "    .dataframe tbody tr th {\n",
       "        vertical-align: top;\n",
       "    }\n",
       "\n",
       "    .dataframe thead th {\n",
       "        text-align: right;\n",
       "    }\n",
       "</style>\n",
       "<table border=\"1\" class=\"dataframe\">\n",
       "  <thead>\n",
       "    <tr style=\"text-align: right;\">\n",
       "      <th></th>\n",
       "      <th>empty_value</th>\n",
       "    </tr>\n",
       "  </thead>\n",
       "  <tbody>\n",
       "    <tr>\n",
       "      <th>VehicleType</th>\n",
       "      <td>19219</td>\n",
       "    </tr>\n",
       "    <tr>\n",
       "      <th>Gearbox</th>\n",
       "      <td>14905</td>\n",
       "    </tr>\n",
       "    <tr>\n",
       "      <th>Power</th>\n",
       "      <td>32664</td>\n",
       "    </tr>\n",
       "    <tr>\n",
       "      <th>Model</th>\n",
       "      <td>15273</td>\n",
       "    </tr>\n",
       "    <tr>\n",
       "      <th>FuelType</th>\n",
       "      <td>23432</td>\n",
       "    </tr>\n",
       "    <tr>\n",
       "      <th>Repaired</th>\n",
       "      <td>58882</td>\n",
       "    </tr>\n",
       "  </tbody>\n",
       "</table>\n",
       "</div>"
      ],
      "text/plain": [
       "             empty_value\n",
       "VehicleType        19219\n",
       "Gearbox            14905\n",
       "Power              32664\n",
       "Model              15273\n",
       "FuelType           23432\n",
       "Repaired           58882"
      ]
     },
     "metadata": {},
     "output_type": "display_data"
    }
   ],
   "source": [
    "empty_values = df.isna().sum().to_frame(name=\"empty_value\").query(\"empty_value > 0\")\n",
    "display(empty_values)"
   ]
  },
  {
   "cell_type": "code",
   "execution_count": 25,
   "metadata": {
    "scrolled": true
   },
   "outputs": [
    {
     "data": {
      "text/html": [
       "<div>\n",
       "<style scoped>\n",
       "    .dataframe tbody tr th:only-of-type {\n",
       "        vertical-align: middle;\n",
       "    }\n",
       "\n",
       "    .dataframe tbody tr th {\n",
       "        vertical-align: top;\n",
       "    }\n",
       "\n",
       "    .dataframe thead th {\n",
       "        text-align: right;\n",
       "    }\n",
       "</style>\n",
       "<table border=\"1\" class=\"dataframe\">\n",
       "  <thead>\n",
       "    <tr style=\"text-align: right;\">\n",
       "      <th></th>\n",
       "      <th>empty_value</th>\n",
       "      <th>rate</th>\n",
       "    </tr>\n",
       "  </thead>\n",
       "  <tbody>\n",
       "    <tr>\n",
       "      <th>VehicleType</th>\n",
       "      <td>19219</td>\n",
       "      <td>0.06</td>\n",
       "    </tr>\n",
       "    <tr>\n",
       "      <th>Gearbox</th>\n",
       "      <td>14905</td>\n",
       "      <td>0.05</td>\n",
       "    </tr>\n",
       "    <tr>\n",
       "      <th>Power</th>\n",
       "      <td>32664</td>\n",
       "      <td>0.10</td>\n",
       "    </tr>\n",
       "    <tr>\n",
       "      <th>Model</th>\n",
       "      <td>15273</td>\n",
       "      <td>0.05</td>\n",
       "    </tr>\n",
       "    <tr>\n",
       "      <th>FuelType</th>\n",
       "      <td>23432</td>\n",
       "      <td>0.07</td>\n",
       "    </tr>\n",
       "    <tr>\n",
       "      <th>Repaired</th>\n",
       "      <td>58882</td>\n",
       "      <td>0.18</td>\n",
       "    </tr>\n",
       "  </tbody>\n",
       "</table>\n",
       "</div>"
      ],
      "text/plain": [
       "             empty_value  rate\n",
       "VehicleType        19219  0.06\n",
       "Gearbox            14905  0.05\n",
       "Power              32664  0.10\n",
       "Model              15273  0.05\n",
       "FuelType           23432  0.07\n",
       "Repaired           58882  0.18"
      ]
     },
     "metadata": {},
     "output_type": "display_data"
    }
   ],
   "source": [
    "empty_values['rate'] = empty_values['empty_value']/df.shape[0]\n",
    "display(empty_values)"
   ]
  },
  {
   "cell_type": "markdown",
   "metadata": {},
   "source": [
    "Перед заполнением пропусков проверим датасет на наличие неявных пропусков 'unknown' - в столбце модель 250 уникальных значений, там могли \"скрыться\" пропуски."
   ]
  },
  {
   "cell_type": "code",
   "execution_count": 26,
   "metadata": {},
   "outputs": [],
   "source": [
    "df = df.replace('unknown', np.nan) "
   ]
  },
  {
   "cell_type": "markdown",
   "metadata": {},
   "source": [
    "Создадим класс для замены пропусков. Пропуски в данных типа object заменим наиболее популярным значением этой марки, пропуски в данных числового типа заменим медианным значением марки."
   ]
  },
  {
   "cell_type": "code",
   "execution_count": 27,
   "metadata": {},
   "outputs": [],
   "source": [
    "class filling_gaps:\n",
    "    def odject_type(self, column_1, column_2, data=df):\n",
    "        data[column_1] = data.groupby(column_2, dropna = False)[column_1].transform(\n",
    "            lambda x: x.fillna((x.mode()[0] if not x.mode().empty else 'unknown')))\n",
    " \n",
    "\n",
    "\n",
    "    def numerical_type(self, column_1, column_2, data=df):\n",
    "        data[column_1] = data[column_1].replace(0, np.nan)\\\n",
    "        .fillna(data.groupby(column_2, dropna = False)[column_1].transform(\n",
    "            lambda x: x.fillna((x.median() if not pd.isna(x.median()) else np.nan))))\n",
    "    "
   ]
  },
  {
   "cell_type": "code",
   "execution_count": 28,
   "metadata": {},
   "outputs": [],
   "source": [
    "filling = filling_gaps()"
   ]
  },
  {
   "cell_type": "markdown",
   "metadata": {},
   "source": [
    "***Пропуски в столбце VehicleType***\n"
   ]
  },
  {
   "cell_type": "code",
   "execution_count": 29,
   "metadata": {
    "scrolled": true
   },
   "outputs": [
    {
     "data": {
      "text/plain": [
       "array([nan, 'coupe', 'suv', 'small', 'sedan', 'convertible', 'bus',\n",
       "       'wagon', 'other'], dtype=object)"
      ]
     },
     "execution_count": 29,
     "metadata": {},
     "output_type": "execute_result"
    }
   ],
   "source": [
    "df['VehicleType'].unique()"
   ]
  },
  {
   "cell_type": "code",
   "execution_count": 30,
   "metadata": {},
   "outputs": [],
   "source": [
    "filling.odject_type('VehicleType', 'Model')"
   ]
  },
  {
   "cell_type": "markdown",
   "metadata": {},
   "source": [
    "***Пропуски в столбце GearBox***\n",
    "\n",
    "Перед заполнением пропусков посмотрим уникальные значения столбца."
   ]
  },
  {
   "cell_type": "code",
   "execution_count": 31,
   "metadata": {
    "scrolled": true
   },
   "outputs": [
    {
     "data": {
      "text/plain": [
       "Gearbox\n",
       "manual    250404\n",
       "auto       62833\n",
       "Name: count, dtype: int64"
      ]
     },
     "execution_count": 31,
     "metadata": {},
     "output_type": "execute_result"
    }
   ],
   "source": [
    "df['Gearbox'].value_counts()"
   ]
  },
  {
   "cell_type": "code",
   "execution_count": 32,
   "metadata": {},
   "outputs": [],
   "source": [
    "filling.odject_type('Gearbox', 'Model')"
   ]
  },
  {
   "cell_type": "markdown",
   "metadata": {},
   "source": [
    "***Пропуски в столбце Power***\n",
    "\n"
   ]
  },
  {
   "cell_type": "code",
   "execution_count": 33,
   "metadata": {
    "scrolled": true
   },
   "outputs": [],
   "source": [
    "filling.numerical_type('Power', 'Model')"
   ]
  },
  {
   "cell_type": "code",
   "execution_count": 34,
   "metadata": {
    "scrolled": true
   },
   "outputs": [
    {
     "data": {
      "text/html": [
       "<div>\n",
       "<style scoped>\n",
       "    .dataframe tbody tr th:only-of-type {\n",
       "        vertical-align: middle;\n",
       "    }\n",
       "\n",
       "    .dataframe tbody tr th {\n",
       "        vertical-align: top;\n",
       "    }\n",
       "\n",
       "    .dataframe thead th {\n",
       "        text-align: right;\n",
       "    }\n",
       "</style>\n",
       "<table border=\"1\" class=\"dataframe\">\n",
       "  <thead>\n",
       "    <tr style=\"text-align: right;\">\n",
       "      <th></th>\n",
       "      <th>empty_value</th>\n",
       "    </tr>\n",
       "  </thead>\n",
       "  <tbody>\n",
       "    <tr>\n",
       "      <th>Power</th>\n",
       "      <td>1</td>\n",
       "    </tr>\n",
       "    <tr>\n",
       "      <th>Model</th>\n",
       "      <td>15273</td>\n",
       "    </tr>\n",
       "    <tr>\n",
       "      <th>FuelType</th>\n",
       "      <td>23432</td>\n",
       "    </tr>\n",
       "    <tr>\n",
       "      <th>Repaired</th>\n",
       "      <td>58882</td>\n",
       "    </tr>\n",
       "  </tbody>\n",
       "</table>\n",
       "</div>"
      ],
      "text/plain": [
       "          empty_value\n",
       "Power               1\n",
       "Model           15273\n",
       "FuelType        23432\n",
       "Repaired        58882"
      ]
     },
     "metadata": {},
     "output_type": "display_data"
    }
   ],
   "source": [
    "empty_values = df.isna().sum().to_frame(name=\"empty_value\").query(\"empty_value > 0\")\n",
    "display(empty_values)"
   ]
  },
  {
   "cell_type": "markdown",
   "metadata": {},
   "source": [
    "***Пропуски в столбце Model***"
   ]
  },
  {
   "cell_type": "markdown",
   "metadata": {},
   "source": [
    "Пропуски в столбце Model заполним самым популярным значением по соответствующему бренду."
   ]
  },
  {
   "cell_type": "code",
   "execution_count": 35,
   "metadata": {},
   "outputs": [
    {
     "data": {
      "text/plain": [
       "250"
      ]
     },
     "execution_count": 35,
     "metadata": {},
     "output_type": "execute_result"
    }
   ],
   "source": [
    "df['Model'].nunique()"
   ]
  },
  {
   "cell_type": "code",
   "execution_count": 36,
   "metadata": {},
   "outputs": [],
   "source": [
    "filling.odject_type('Model', 'Brand')"
   ]
  },
  {
   "cell_type": "markdown",
   "metadata": {},
   "source": [
    "***Пропуски в столбце FuelType***\n",
    "\n",
    "заполним самым популярным типом топлива по соответсвующей модели."
   ]
  },
  {
   "cell_type": "code",
   "execution_count": 37,
   "metadata": {},
   "outputs": [],
   "source": [
    "filling.odject_type('FuelType', 'Model')"
   ]
  },
  {
   "cell_type": "markdown",
   "metadata": {},
   "source": [
    "***Пропуски в столбце Repaired***\n",
    "\n",
    "Здесь 20% пропусков - это довольно много, заполнить одним значением не корректно, связать наличие ремонта с каким-то параметром тоже проблематично. Заполним пропуски с помощью randomchoice."
   ]
  },
  {
   "cell_type": "code",
   "execution_count": 38,
   "metadata": {
    "scrolled": true
   },
   "outputs": [],
   "source": [
    "df['Repaired'] = df[ 'Repaired'].fillna(np.random.choice(df['Repaired'].dropna()))"
   ]
  },
  {
   "cell_type": "code",
   "execution_count": 39,
   "metadata": {
    "scrolled": true
   },
   "outputs": [
    {
     "data": {
      "text/html": [
       "<div>\n",
       "<style scoped>\n",
       "    .dataframe tbody tr th:only-of-type {\n",
       "        vertical-align: middle;\n",
       "    }\n",
       "\n",
       "    .dataframe tbody tr th {\n",
       "        vertical-align: top;\n",
       "    }\n",
       "\n",
       "    .dataframe thead th {\n",
       "        text-align: right;\n",
       "    }\n",
       "</style>\n",
       "<table border=\"1\" class=\"dataframe\">\n",
       "  <thead>\n",
       "    <tr style=\"text-align: right;\">\n",
       "      <th></th>\n",
       "      <th>empty_value</th>\n",
       "    </tr>\n",
       "  </thead>\n",
       "  <tbody>\n",
       "    <tr>\n",
       "      <th>Power</th>\n",
       "      <td>1</td>\n",
       "    </tr>\n",
       "  </tbody>\n",
       "</table>\n",
       "</div>"
      ],
      "text/plain": [
       "       empty_value\n",
       "Power            1"
      ]
     },
     "metadata": {},
     "output_type": "display_data"
    }
   ],
   "source": [
    "empty_values = df.isna().sum().to_frame(name=\"empty_value\").query(\"empty_value > 0\")\n",
    "display(empty_values)"
   ]
  },
  {
   "cell_type": "markdown",
   "metadata": {},
   "source": [
    "Удалим одну строку с нулевой ценой."
   ]
  },
  {
   "cell_type": "code",
   "execution_count": 40,
   "metadata": {},
   "outputs": [],
   "source": [
    "df = df[df['Power'].notna()]"
   ]
  },
  {
   "cell_type": "code",
   "execution_count": 41,
   "metadata": {},
   "outputs": [
    {
     "data": {
      "text/html": [
       "<div>\n",
       "<style scoped>\n",
       "    .dataframe tbody tr th:only-of-type {\n",
       "        vertical-align: middle;\n",
       "    }\n",
       "\n",
       "    .dataframe tbody tr th {\n",
       "        vertical-align: top;\n",
       "    }\n",
       "\n",
       "    .dataframe thead th {\n",
       "        text-align: right;\n",
       "    }\n",
       "</style>\n",
       "<table border=\"1\" class=\"dataframe\">\n",
       "  <thead>\n",
       "    <tr style=\"text-align: right;\">\n",
       "      <th></th>\n",
       "      <th>empty_value</th>\n",
       "    </tr>\n",
       "  </thead>\n",
       "  <tbody>\n",
       "  </tbody>\n",
       "</table>\n",
       "</div>"
      ],
      "text/plain": [
       "Empty DataFrame\n",
       "Columns: [empty_value]\n",
       "Index: []"
      ]
     },
     "metadata": {},
     "output_type": "display_data"
    }
   ],
   "source": [
    "empty_values = df.isna().sum().to_frame(name=\"empty_value\").query(\"empty_value > 0\")\n",
    "display(empty_values)"
   ]
  },
  {
   "cell_type": "markdown",
   "metadata": {},
   "source": [
    "***Добавление дополнительного столбца***\n",
    "\n",
    "Год выгрузки анкеты во всех строках одинаковый (2016), поэтому столбец DateCrawled не информативен. Имеет смысл добавить в таблицу столбец с возрастом авто (2016 минус год регистрации), а столбец DateCrawled убрать."
   ]
  },
  {
   "cell_type": "code",
   "execution_count": 42,
   "metadata": {},
   "outputs": [
    {
     "name": "stderr",
     "output_type": "stream",
     "text": [
      "C:\\Users\\babay\\AppData\\Local\\Temp\\ipykernel_4276\\551863182.py:1: SettingWithCopyWarning: \n",
      "A value is trying to be set on a copy of a slice from a DataFrame.\n",
      "Try using .loc[row_indexer,col_indexer] = value instead\n",
      "\n",
      "See the caveats in the documentation: https://pandas.pydata.org/pandas-docs/stable/user_guide/indexing.html#returning-a-view-versus-a-copy\n",
      "  df['age'] = df['DateCrawled'] - df['RegistrationYear']\n"
     ]
    }
   ],
   "source": [
    "df['age'] = df['DateCrawled'] - df['RegistrationYear']\n"
   ]
  },
  {
   "cell_type": "code",
   "execution_count": 43,
   "metadata": {},
   "outputs": [],
   "source": [
    "df = df.drop('DateCrawled', axis=1)"
   ]
  },
  {
   "cell_type": "code",
   "execution_count": 44,
   "metadata": {
    "scrolled": false
   },
   "outputs": [
    {
     "data": {
      "text/html": [
       "<div>\n",
       "<style scoped>\n",
       "    .dataframe tbody tr th:only-of-type {\n",
       "        vertical-align: middle;\n",
       "    }\n",
       "\n",
       "    .dataframe tbody tr th {\n",
       "        vertical-align: top;\n",
       "    }\n",
       "\n",
       "    .dataframe thead th {\n",
       "        text-align: right;\n",
       "    }\n",
       "</style>\n",
       "<table border=\"1\" class=\"dataframe\">\n",
       "  <thead>\n",
       "    <tr style=\"text-align: right;\">\n",
       "      <th></th>\n",
       "      <th>Price</th>\n",
       "      <th>VehicleType</th>\n",
       "      <th>RegistrationYear</th>\n",
       "      <th>Gearbox</th>\n",
       "      <th>Power</th>\n",
       "      <th>Model</th>\n",
       "      <th>Kilometer</th>\n",
       "      <th>FuelType</th>\n",
       "      <th>Brand</th>\n",
       "      <th>Repaired</th>\n",
       "      <th>age</th>\n",
       "    </tr>\n",
       "  </thead>\n",
       "  <tbody>\n",
       "    <tr>\n",
       "      <th>0</th>\n",
       "      <td>480</td>\n",
       "      <td>sedan</td>\n",
       "      <td>1993</td>\n",
       "      <td>manual</td>\n",
       "      <td>101.00</td>\n",
       "      <td>golf</td>\n",
       "      <td>150000</td>\n",
       "      <td>petrol</td>\n",
       "      <td>volkswagen</td>\n",
       "      <td>False</td>\n",
       "      <td>23</td>\n",
       "    </tr>\n",
       "    <tr>\n",
       "      <th>1</th>\n",
       "      <td>18300</td>\n",
       "      <td>coupe</td>\n",
       "      <td>2011</td>\n",
       "      <td>manual</td>\n",
       "      <td>190.00</td>\n",
       "      <td>a4</td>\n",
       "      <td>125000</td>\n",
       "      <td>gasoline</td>\n",
       "      <td>audi</td>\n",
       "      <td>True</td>\n",
       "      <td>5</td>\n",
       "    </tr>\n",
       "    <tr>\n",
       "      <th>2</th>\n",
       "      <td>9800</td>\n",
       "      <td>suv</td>\n",
       "      <td>2004</td>\n",
       "      <td>auto</td>\n",
       "      <td>163.00</td>\n",
       "      <td>grand</td>\n",
       "      <td>125000</td>\n",
       "      <td>gasoline</td>\n",
       "      <td>jeep</td>\n",
       "      <td>False</td>\n",
       "      <td>12</td>\n",
       "    </tr>\n",
       "    <tr>\n",
       "      <th>3</th>\n",
       "      <td>1500</td>\n",
       "      <td>small</td>\n",
       "      <td>2001</td>\n",
       "      <td>manual</td>\n",
       "      <td>75.00</td>\n",
       "      <td>golf</td>\n",
       "      <td>150000</td>\n",
       "      <td>petrol</td>\n",
       "      <td>volkswagen</td>\n",
       "      <td>False</td>\n",
       "      <td>15</td>\n",
       "    </tr>\n",
       "    <tr>\n",
       "      <th>4</th>\n",
       "      <td>3600</td>\n",
       "      <td>small</td>\n",
       "      <td>2008</td>\n",
       "      <td>manual</td>\n",
       "      <td>69.00</td>\n",
       "      <td>fabia</td>\n",
       "      <td>90000</td>\n",
       "      <td>gasoline</td>\n",
       "      <td>skoda</td>\n",
       "      <td>False</td>\n",
       "      <td>8</td>\n",
       "    </tr>\n",
       "  </tbody>\n",
       "</table>\n",
       "</div>"
      ],
      "text/plain": [
       "   Price VehicleType  RegistrationYear Gearbox  Power  Model  Kilometer  \\\n",
       "0    480       sedan              1993  manual 101.00   golf     150000   \n",
       "1  18300       coupe              2011  manual 190.00     a4     125000   \n",
       "2   9800         suv              2004    auto 163.00  grand     125000   \n",
       "3   1500       small              2001  manual  75.00   golf     150000   \n",
       "4   3600       small              2008  manual  69.00  fabia      90000   \n",
       "\n",
       "   FuelType       Brand  Repaired  age  \n",
       "0    petrol  volkswagen     False   23  \n",
       "1  gasoline        audi      True    5  \n",
       "2  gasoline        jeep     False   12  \n",
       "3    petrol  volkswagen     False   15  \n",
       "4  gasoline       skoda     False    8  "
      ]
     },
     "metadata": {},
     "output_type": "display_data"
    }
   ],
   "source": [
    "display(df.head())"
   ]
  },
  {
   "cell_type": "markdown",
   "metadata": {},
   "source": [
    "Посчитаем, какой объем данных удалили при обработке аномалий и пропусков."
   ]
  },
  {
   "cell_type": "code",
   "execution_count": 45,
   "metadata": {},
   "outputs": [
    {
     "name": "stdout",
     "output_type": "stream",
     "text": [
      "При обработке аномалий и пропусков удалили 7.40 % данных.\n"
     ]
    }
   ],
   "source": [
    "percent = (1 - (df.shape[0]/data_main.shape[0]))*100\n",
    "\n",
    "print(f'При обработке аномалий и пропусков удалили {percent:.2f} % данных.')"
   ]
  },
  {
   "cell_type": "markdown",
   "metadata": {},
   "source": [
    "***Корректировка названий столбцов***\n",
    "\n",
    "Приведем названия столбцов к стилю snake для удобства дальнейшей работы."
   ]
  },
  {
   "cell_type": "code",
   "execution_count": 46,
   "metadata": {},
   "outputs": [],
   "source": [
    "df = df.rename(columns={\n",
    "    'Price' : 'price',\n",
    "    'VehicleType' : 'vehicle_type',\n",
    "    'RegistrationYear' : 'registration_year',\n",
    "    'Gearbox' : 'gearbox',\n",
    "    'Power' : 'power',\n",
    "    'Model' : 'model',\n",
    "    'Kilometer' : 'odometer',\n",
    "    'FuelType' : 'fuel_type',\n",
    "    'Brand' : 'brand',\n",
    "    'Repaired' : 'repaired'})"
   ]
  },
  {
   "cell_type": "code",
   "execution_count": 47,
   "metadata": {
    "scrolled": true
   },
   "outputs": [
    {
     "data": {
      "text/html": [
       "<div>\n",
       "<style scoped>\n",
       "    .dataframe tbody tr th:only-of-type {\n",
       "        vertical-align: middle;\n",
       "    }\n",
       "\n",
       "    .dataframe tbody tr th {\n",
       "        vertical-align: top;\n",
       "    }\n",
       "\n",
       "    .dataframe thead th {\n",
       "        text-align: right;\n",
       "    }\n",
       "</style>\n",
       "<table border=\"1\" class=\"dataframe\">\n",
       "  <thead>\n",
       "    <tr style=\"text-align: right;\">\n",
       "      <th></th>\n",
       "      <th>price</th>\n",
       "      <th>vehicle_type</th>\n",
       "      <th>registration_year</th>\n",
       "      <th>gearbox</th>\n",
       "      <th>power</th>\n",
       "      <th>model</th>\n",
       "      <th>odometer</th>\n",
       "      <th>fuel_type</th>\n",
       "      <th>brand</th>\n",
       "      <th>repaired</th>\n",
       "      <th>age</th>\n",
       "    </tr>\n",
       "  </thead>\n",
       "  <tbody>\n",
       "    <tr>\n",
       "      <th>0</th>\n",
       "      <td>480</td>\n",
       "      <td>sedan</td>\n",
       "      <td>1993</td>\n",
       "      <td>manual</td>\n",
       "      <td>101.00</td>\n",
       "      <td>golf</td>\n",
       "      <td>150000</td>\n",
       "      <td>petrol</td>\n",
       "      <td>volkswagen</td>\n",
       "      <td>False</td>\n",
       "      <td>23</td>\n",
       "    </tr>\n",
       "    <tr>\n",
       "      <th>1</th>\n",
       "      <td>18300</td>\n",
       "      <td>coupe</td>\n",
       "      <td>2011</td>\n",
       "      <td>manual</td>\n",
       "      <td>190.00</td>\n",
       "      <td>a4</td>\n",
       "      <td>125000</td>\n",
       "      <td>gasoline</td>\n",
       "      <td>audi</td>\n",
       "      <td>True</td>\n",
       "      <td>5</td>\n",
       "    </tr>\n",
       "    <tr>\n",
       "      <th>2</th>\n",
       "      <td>9800</td>\n",
       "      <td>suv</td>\n",
       "      <td>2004</td>\n",
       "      <td>auto</td>\n",
       "      <td>163.00</td>\n",
       "      <td>grand</td>\n",
       "      <td>125000</td>\n",
       "      <td>gasoline</td>\n",
       "      <td>jeep</td>\n",
       "      <td>False</td>\n",
       "      <td>12</td>\n",
       "    </tr>\n",
       "    <tr>\n",
       "      <th>3</th>\n",
       "      <td>1500</td>\n",
       "      <td>small</td>\n",
       "      <td>2001</td>\n",
       "      <td>manual</td>\n",
       "      <td>75.00</td>\n",
       "      <td>golf</td>\n",
       "      <td>150000</td>\n",
       "      <td>petrol</td>\n",
       "      <td>volkswagen</td>\n",
       "      <td>False</td>\n",
       "      <td>15</td>\n",
       "    </tr>\n",
       "    <tr>\n",
       "      <th>4</th>\n",
       "      <td>3600</td>\n",
       "      <td>small</td>\n",
       "      <td>2008</td>\n",
       "      <td>manual</td>\n",
       "      <td>69.00</td>\n",
       "      <td>fabia</td>\n",
       "      <td>90000</td>\n",
       "      <td>gasoline</td>\n",
       "      <td>skoda</td>\n",
       "      <td>False</td>\n",
       "      <td>8</td>\n",
       "    </tr>\n",
       "  </tbody>\n",
       "</table>\n",
       "</div>"
      ],
      "text/plain": [
       "   price vehicle_type  registration_year gearbox  power  model  odometer  \\\n",
       "0    480        sedan               1993  manual 101.00   golf    150000   \n",
       "1  18300        coupe               2011  manual 190.00     a4    125000   \n",
       "2   9800          suv               2004    auto 163.00  grand    125000   \n",
       "3   1500        small               2001  manual  75.00   golf    150000   \n",
       "4   3600        small               2008  manual  69.00  fabia     90000   \n",
       "\n",
       "  fuel_type       brand  repaired  age  \n",
       "0    petrol  volkswagen     False   23  \n",
       "1  gasoline        audi      True    5  \n",
       "2  gasoline        jeep     False   12  \n",
       "3    petrol  volkswagen     False   15  \n",
       "4  gasoline       skoda     False    8  "
      ]
     },
     "metadata": {},
     "output_type": "display_data"
    }
   ],
   "source": [
    "display(df.head())"
   ]
  },
  {
   "cell_type": "code",
   "execution_count": 48,
   "metadata": {},
   "outputs": [
    {
     "data": {
      "text/plain": [
       "56255"
      ]
     },
     "metadata": {},
     "output_type": "display_data"
    },
    {
     "data": {
      "text/plain": [
       "0.17143545000472357"
      ]
     },
     "execution_count": 48,
     "metadata": {},
     "output_type": "execute_result"
    }
   ],
   "source": [
    "display(df.duplicated().sum())\n",
    "(df.duplicated().sum())/df.shape[0]"
   ]
  },
  {
   "cell_type": "markdown",
   "metadata": {},
   "source": [
    "В таблице получилось 50 тыс дубликатов, что составляет 15% от датасета. Избавимся от них."
   ]
  },
  {
   "cell_type": "code",
   "execution_count": 49,
   "metadata": {},
   "outputs": [],
   "source": [
    "df = df.drop_duplicates()"
   ]
  },
  {
   "cell_type": "code",
   "execution_count": 50,
   "metadata": {
    "scrolled": false
   },
   "outputs": [
    {
     "data": {
      "text/plain": [
       "0"
      ]
     },
     "execution_count": 50,
     "metadata": {},
     "output_type": "execute_result"
    }
   ],
   "source": [
    "df.duplicated().sum()"
   ]
  },
  {
   "cell_type": "markdown",
   "metadata": {},
   "source": [
    "Посчитаем, сколько данных \"ушло\" после обработки пропусков и удаления дубликатов."
   ]
  },
  {
   "cell_type": "code",
   "execution_count": 51,
   "metadata": {},
   "outputs": [
    {
     "name": "stdout",
     "output_type": "stream",
     "text": [
      "При обработке аномалий, пропусков и удаления дубликатов удалили 23.28 % данных.\n"
     ]
    }
   ],
   "source": [
    "percent = (1 - (df.shape[0]/data_main.shape[0]))*100\n",
    "\n",
    "print(f'При обработке аномалий, пропусков и удаления дубликатов удалили {percent:.2f} % данных.')"
   ]
  },
  {
   "cell_type": "markdown",
   "metadata": {},
   "source": [
    "**Выводы по итогам предобработки данных:**\n",
    "\n",
    "***1)*** Удалили неинформативные столбцы, не относящиеся к техническим характеристикам, копмлектации, цене.\n",
    "\n",
    "***2)*** Поменяли типы данных в столбцах DateCrawled на date, в стобце Repaired - на boolean.\n",
    "\n",
    "***3)*** Обработали аномалии в столбцах Price, RegistrationYear, Power.\n",
    "\n",
    "***4)*** Заполнили пропуски в категориальных столбцах VechileType, GearBox, Model, FuelType наиболее популярными значениям по соответствующим брендам. Пропуски в столбце Repaired заполнили с помощью randomchoice. Пропуски в столбце с количественным признаком Power заполнили медианными значениями по соответсвующим брендам.\n",
    "\n",
    "В процессе удаления пропусков удалили 7,4% строк - многовато, но оставлять машины стоимостью менее 50 евро и авто с некорректным годом регистрации хуже, т к автомобили со столь низкой ценой это явные аномалии. Оставить их - значит сильно искжать статистику и качество предсказаний. \n",
    "По итогам полной обработки данных удалили 23,3% данных - из них 17% удаленных строк - это полные дубликаты.  \n",
    "\n",
    "***5)*** Привели стиль названий столбцов к общепринятому виду.\n"
   ]
  },
  {
   "cell_type": "markdown",
   "metadata": {},
   "source": [
    "Для подготовки данных и построения моделей сделаем \n",
    "\n",
    "**Корреляционный анализ**\n"
   ]
  },
  {
   "cell_type": "markdown",
   "metadata": {},
   "source": [
    "Построим матрицу корреляции Phik"
   ]
  },
  {
   "cell_type": "code",
   "execution_count": 52,
   "metadata": {},
   "outputs": [
    {
     "data": {
      "text/html": [
       "<div>\n",
       "<style scoped>\n",
       "    .dataframe tbody tr th:only-of-type {\n",
       "        vertical-align: middle;\n",
       "    }\n",
       "\n",
       "    .dataframe tbody tr th {\n",
       "        vertical-align: top;\n",
       "    }\n",
       "\n",
       "    .dataframe thead th {\n",
       "        text-align: right;\n",
       "    }\n",
       "</style>\n",
       "<table border=\"1\" class=\"dataframe\">\n",
       "  <thead>\n",
       "    <tr style=\"text-align: right;\">\n",
       "      <th></th>\n",
       "      <th>price</th>\n",
       "      <th>vehicle_type</th>\n",
       "      <th>registration_year</th>\n",
       "      <th>gearbox</th>\n",
       "      <th>power</th>\n",
       "      <th>model</th>\n",
       "      <th>odometer</th>\n",
       "      <th>fuel_type</th>\n",
       "      <th>brand</th>\n",
       "      <th>repaired</th>\n",
       "      <th>age</th>\n",
       "    </tr>\n",
       "  </thead>\n",
       "  <tbody>\n",
       "    <tr>\n",
       "      <th>price</th>\n",
       "      <td>1.00</td>\n",
       "      <td>0.26</td>\n",
       "      <td>0.59</td>\n",
       "      <td>0.30</td>\n",
       "      <td>0.36</td>\n",
       "      <td>0.57</td>\n",
       "      <td>0.30</td>\n",
       "      <td>0.24</td>\n",
       "      <td>0.36</td>\n",
       "      <td>0.32</td>\n",
       "      <td>0.59</td>\n",
       "    </tr>\n",
       "    <tr>\n",
       "      <th>vehicle_type</th>\n",
       "      <td>0.26</td>\n",
       "      <td>1.00</td>\n",
       "      <td>0.15</td>\n",
       "      <td>0.27</td>\n",
       "      <td>0.21</td>\n",
       "      <td>0.91</td>\n",
       "      <td>0.18</td>\n",
       "      <td>0.32</td>\n",
       "      <td>0.63</td>\n",
       "      <td>0.07</td>\n",
       "      <td>0.15</td>\n",
       "    </tr>\n",
       "    <tr>\n",
       "      <th>registration_year</th>\n",
       "      <td>0.59</td>\n",
       "      <td>0.15</td>\n",
       "      <td>1.00</td>\n",
       "      <td>0.08</td>\n",
       "      <td>0.08</td>\n",
       "      <td>0.60</td>\n",
       "      <td>0.35</td>\n",
       "      <td>0.21</td>\n",
       "      <td>0.39</td>\n",
       "      <td>0.14</td>\n",
       "      <td>1.00</td>\n",
       "    </tr>\n",
       "    <tr>\n",
       "      <th>gearbox</th>\n",
       "      <td>0.30</td>\n",
       "      <td>0.27</td>\n",
       "      <td>0.08</td>\n",
       "      <td>1.00</td>\n",
       "      <td>0.48</td>\n",
       "      <td>0.64</td>\n",
       "      <td>0.04</td>\n",
       "      <td>0.14</td>\n",
       "      <td>0.52</td>\n",
       "      <td>0.04</td>\n",
       "      <td>0.08</td>\n",
       "    </tr>\n",
       "    <tr>\n",
       "      <th>power</th>\n",
       "      <td>0.36</td>\n",
       "      <td>0.21</td>\n",
       "      <td>0.08</td>\n",
       "      <td>0.48</td>\n",
       "      <td>1.00</td>\n",
       "      <td>0.55</td>\n",
       "      <td>0.06</td>\n",
       "      <td>0.07</td>\n",
       "      <td>0.38</td>\n",
       "      <td>0.05</td>\n",
       "      <td>0.08</td>\n",
       "    </tr>\n",
       "    <tr>\n",
       "      <th>model</th>\n",
       "      <td>0.57</td>\n",
       "      <td>0.91</td>\n",
       "      <td>0.60</td>\n",
       "      <td>0.64</td>\n",
       "      <td>0.55</td>\n",
       "      <td>1.00</td>\n",
       "      <td>0.44</td>\n",
       "      <td>0.55</td>\n",
       "      <td>1.00</td>\n",
       "      <td>0.13</td>\n",
       "      <td>0.60</td>\n",
       "    </tr>\n",
       "    <tr>\n",
       "      <th>odometer</th>\n",
       "      <td>0.30</td>\n",
       "      <td>0.18</td>\n",
       "      <td>0.35</td>\n",
       "      <td>0.04</td>\n",
       "      <td>0.06</td>\n",
       "      <td>0.44</td>\n",
       "      <td>1.00</td>\n",
       "      <td>0.16</td>\n",
       "      <td>0.28</td>\n",
       "      <td>0.10</td>\n",
       "      <td>0.35</td>\n",
       "    </tr>\n",
       "    <tr>\n",
       "      <th>fuel_type</th>\n",
       "      <td>0.24</td>\n",
       "      <td>0.32</td>\n",
       "      <td>0.21</td>\n",
       "      <td>0.14</td>\n",
       "      <td>0.07</td>\n",
       "      <td>0.55</td>\n",
       "      <td>0.16</td>\n",
       "      <td>1.00</td>\n",
       "      <td>0.32</td>\n",
       "      <td>0.03</td>\n",
       "      <td>0.21</td>\n",
       "    </tr>\n",
       "    <tr>\n",
       "      <th>brand</th>\n",
       "      <td>0.36</td>\n",
       "      <td>0.63</td>\n",
       "      <td>0.39</td>\n",
       "      <td>0.52</td>\n",
       "      <td>0.38</td>\n",
       "      <td>1.00</td>\n",
       "      <td>0.28</td>\n",
       "      <td>0.32</td>\n",
       "      <td>1.00</td>\n",
       "      <td>0.08</td>\n",
       "      <td>0.39</td>\n",
       "    </tr>\n",
       "    <tr>\n",
       "      <th>repaired</th>\n",
       "      <td>0.32</td>\n",
       "      <td>0.07</td>\n",
       "      <td>0.14</td>\n",
       "      <td>0.04</td>\n",
       "      <td>0.05</td>\n",
       "      <td>0.13</td>\n",
       "      <td>0.10</td>\n",
       "      <td>0.03</td>\n",
       "      <td>0.08</td>\n",
       "      <td>1.00</td>\n",
       "      <td>0.14</td>\n",
       "    </tr>\n",
       "    <tr>\n",
       "      <th>age</th>\n",
       "      <td>0.59</td>\n",
       "      <td>0.15</td>\n",
       "      <td>1.00</td>\n",
       "      <td>0.08</td>\n",
       "      <td>0.08</td>\n",
       "      <td>0.60</td>\n",
       "      <td>0.35</td>\n",
       "      <td>0.21</td>\n",
       "      <td>0.39</td>\n",
       "      <td>0.14</td>\n",
       "      <td>1.00</td>\n",
       "    </tr>\n",
       "  </tbody>\n",
       "</table>\n",
       "</div>"
      ],
      "text/plain": [
       "                   price  vehicle_type  registration_year  gearbox  power  \\\n",
       "price               1.00          0.26               0.59     0.30   0.36   \n",
       "vehicle_type        0.26          1.00               0.15     0.27   0.21   \n",
       "registration_year   0.59          0.15               1.00     0.08   0.08   \n",
       "gearbox             0.30          0.27               0.08     1.00   0.48   \n",
       "power               0.36          0.21               0.08     0.48   1.00   \n",
       "model               0.57          0.91               0.60     0.64   0.55   \n",
       "odometer            0.30          0.18               0.35     0.04   0.06   \n",
       "fuel_type           0.24          0.32               0.21     0.14   0.07   \n",
       "brand               0.36          0.63               0.39     0.52   0.38   \n",
       "repaired            0.32          0.07               0.14     0.04   0.05   \n",
       "age                 0.59          0.15               1.00     0.08   0.08   \n",
       "\n",
       "                   model  odometer  fuel_type  brand  repaired  age  \n",
       "price               0.57      0.30       0.24   0.36      0.32 0.59  \n",
       "vehicle_type        0.91      0.18       0.32   0.63      0.07 0.15  \n",
       "registration_year   0.60      0.35       0.21   0.39      0.14 1.00  \n",
       "gearbox             0.64      0.04       0.14   0.52      0.04 0.08  \n",
       "power               0.55      0.06       0.07   0.38      0.05 0.08  \n",
       "model               1.00      0.44       0.55   1.00      0.13 0.60  \n",
       "odometer            0.44      1.00       0.16   0.28      0.10 0.35  \n",
       "fuel_type           0.55      0.16       1.00   0.32      0.03 0.21  \n",
       "brand               1.00      0.28       0.32   1.00      0.08 0.39  \n",
       "repaired            0.13      0.10       0.03   0.08      1.00 0.14  \n",
       "age                 0.60      0.35       0.21   0.39      0.14 1.00  "
      ]
     },
     "metadata": {},
     "output_type": "display_data"
    }
   ],
   "source": [
    "df_phik = df[['price', 'vehicle_type', 'registration_year', 'gearbox', 'power', 'model', 'odometer',\\\n",
    "              'fuel_type', 'brand', 'repaired', 'age']]\n",
    "corr_matrix_df = df_phik.phik_matrix(interval_cols = ['price', 'registration_year', 'power',\n",
    "                                                                      'odometer', 'age'])\n",
    "                                                    \n",
    "display(corr_matrix_df)"
   ]
  },
  {
   "cell_type": "code",
   "execution_count": 54,
   "metadata": {
    "scrolled": true
   },
   "outputs": [
    {
     "data": {
      "image/png": "[encoded data removed]",
      "text/plain": [
       "<Figure size 1200x1000 with 2 Axes>"
      ]
     },
     "metadata": {},
     "output_type": "display_data"
    }
   ],
   "source": [
    "# Визуализация матрицы корреляции phik\n",
    "\n",
    "plt.figure(figsize=(12, 10))\n",
    "sns.heatmap(corr_matrix_df, annot=True, cmap='Spectral')\n",
    "plt.title('Phi_K матрица корреляции для df')\n",
    "plt.show()"
   ]
  },
  {
   "cell_type": "markdown",
   "metadata": {},
   "source": [
    "Удалим столбец с registration year, т к мы его использовали для определения возраста, и у него такая же корреляция с целевым признаком, как у Age."
   ]
  },
  {
   "cell_type": "code",
   "execution_count": 55,
   "metadata": {},
   "outputs": [],
   "source": [
    "df = df.drop('registration_year', axis=1)"
   ]
  },
  {
   "cell_type": "markdown",
   "metadata": {},
   "source": [
    "Видим так же высокую корреляцию между моделью и брендом (91%), но поскольку это не числовые признаки (связь не линейная), и оба признака информативны, не будем удалять ни один из них."
   ]
  },
  {
   "cell_type": "markdown",
   "metadata": {},
   "source": [
    "Максимальная корреляция с целевым признаком наблюдается у признака Age - 59%."
   ]
  },
  {
   "cell_type": "markdown",
   "metadata": {},
   "source": [
    "## Обучение моделей"
   ]
  },
  {
   "cell_type": "markdown",
   "metadata": {},
   "source": [
    "**Подготовка признаков**"
   ]
  },
  {
   "cell_type": "markdown",
   "metadata": {},
   "source": [
    "В начале подготовим признаки и обучим линейную модель, т к для обучения моделей бустинга нужно будет переводить категориальные признаки в числовой тип.\n",
    "\n",
    "Разделим датасет на ренировочную и тестовую выборки."
   ]
  },
  {
   "cell_type": "code",
   "execution_count": 56,
   "metadata": {},
   "outputs": [
    {
     "name": "stdout",
     "output_type": "stream",
     "text": [
      "Размер тренировочной выборки - 217508\n",
      "Размер тестовой выборки - 54378\n"
     ]
    }
   ],
   "source": [
    "features = df.drop(columns='price')\n",
    "target = df['price']\n",
    "\n",
    "features_train, features_test, target_train, target_test = \\\n",
    "            train_test_split(features, target, test_size=0.2, random_state = 42)\n",
    "\n",
    "print(f'Размер тренировочной выборки - {target_train.shape[0]}')\n",
    "print(f'Размер тестовой выборки - {target_test.shape[0]}')"
   ]
  },
  {
   "cell_type": "markdown",
   "metadata": {},
   "source": [
    "Разделим тренировочную выборку на обучающую и валидационную."
   ]
  },
  {
   "cell_type": "code",
   "execution_count": 57,
   "metadata": {},
   "outputs": [
    {
     "name": "stdout",
     "output_type": "stream",
     "text": [
      "Размер обучающей выборки - 174006\n",
      "Размер валидационной выборки - 43502\n"
     ]
    }
   ],
   "source": [
    "features_train, features_val, target_train, target_val = \\\n",
    "    train_test_split(features_train, target_train, test_size=0.2, random_state=42)\n",
    "print(f'Размер обучающей выборки - {target_train.shape[0]}')\n",
    "print(f'Размер валидационной выборки - {target_val.shape[0]}')"
   ]
  },
  {
   "cell_type": "markdown",
   "metadata": {},
   "source": [
    "Будем использовать 2 кодировщика. У двух признаков - model и brand большое количество уникальных значений - 249 и 40 соответственно. При использовании OHE кодировщика возникнет 249 и 40 дополнительных столбцов.Чтобы этого избежать, для признаков model и brand будем использовать MEstimateEncoder. Для остальных категориельных признаков будем использовать OHE encoder."
   ]
  },
  {
   "cell_type": "code",
   "execution_count": 59,
   "metadata": {},
   "outputs": [
    {
     "data": {
      "text/html": [
       "<div>\n",
       "<style scoped>\n",
       "    .dataframe tbody tr th:only-of-type {\n",
       "        vertical-align: middle;\n",
       "    }\n",
       "\n",
       "    .dataframe tbody tr th {\n",
       "        vertical-align: top;\n",
       "    }\n",
       "\n",
       "    .dataframe thead th {\n",
       "        text-align: right;\n",
       "    }\n",
       "</style>\n",
       "<table border=\"1\" class=\"dataframe\">\n",
       "  <thead>\n",
       "    <tr style=\"text-align: right;\">\n",
       "      <th></th>\n",
       "      <th>price</th>\n",
       "      <th>vehicle_type</th>\n",
       "      <th>gearbox</th>\n",
       "      <th>power</th>\n",
       "      <th>model</th>\n",
       "      <th>odometer</th>\n",
       "      <th>fuel_type</th>\n",
       "      <th>brand</th>\n",
       "      <th>repaired</th>\n",
       "      <th>age</th>\n",
       "    </tr>\n",
       "  </thead>\n",
       "  <tbody>\n",
       "    <tr>\n",
       "      <th>0</th>\n",
       "      <td>480</td>\n",
       "      <td>sedan</td>\n",
       "      <td>manual</td>\n",
       "      <td>101.00</td>\n",
       "      <td>golf</td>\n",
       "      <td>150000</td>\n",
       "      <td>petrol</td>\n",
       "      <td>volkswagen</td>\n",
       "      <td>False</td>\n",
       "      <td>23</td>\n",
       "    </tr>\n",
       "    <tr>\n",
       "      <th>1</th>\n",
       "      <td>18300</td>\n",
       "      <td>coupe</td>\n",
       "      <td>manual</td>\n",
       "      <td>190.00</td>\n",
       "      <td>a4</td>\n",
       "      <td>125000</td>\n",
       "      <td>gasoline</td>\n",
       "      <td>audi</td>\n",
       "      <td>True</td>\n",
       "      <td>5</td>\n",
       "    </tr>\n",
       "    <tr>\n",
       "      <th>2</th>\n",
       "      <td>9800</td>\n",
       "      <td>suv</td>\n",
       "      <td>auto</td>\n",
       "      <td>163.00</td>\n",
       "      <td>grand</td>\n",
       "      <td>125000</td>\n",
       "      <td>gasoline</td>\n",
       "      <td>jeep</td>\n",
       "      <td>False</td>\n",
       "      <td>12</td>\n",
       "    </tr>\n",
       "    <tr>\n",
       "      <th>3</th>\n",
       "      <td>1500</td>\n",
       "      <td>small</td>\n",
       "      <td>manual</td>\n",
       "      <td>75.00</td>\n",
       "      <td>golf</td>\n",
       "      <td>150000</td>\n",
       "      <td>petrol</td>\n",
       "      <td>volkswagen</td>\n",
       "      <td>False</td>\n",
       "      <td>15</td>\n",
       "    </tr>\n",
       "    <tr>\n",
       "      <th>4</th>\n",
       "      <td>3600</td>\n",
       "      <td>small</td>\n",
       "      <td>manual</td>\n",
       "      <td>69.00</td>\n",
       "      <td>fabia</td>\n",
       "      <td>90000</td>\n",
       "      <td>gasoline</td>\n",
       "      <td>skoda</td>\n",
       "      <td>False</td>\n",
       "      <td>8</td>\n",
       "    </tr>\n",
       "  </tbody>\n",
       "</table>\n",
       "</div>"
      ],
      "text/plain": [
       "   price vehicle_type gearbox  power  model  odometer fuel_type       brand  \\\n",
       "0    480        sedan  manual 101.00   golf    150000    petrol  volkswagen   \n",
       "1  18300        coupe  manual 190.00     a4    125000  gasoline        audi   \n",
       "2   9800          suv    auto 163.00  grand    125000  gasoline        jeep   \n",
       "3   1500        small  manual  75.00   golf    150000    petrol  volkswagen   \n",
       "4   3600        small  manual  69.00  fabia     90000  gasoline       skoda   \n",
       "\n",
       "   repaired  age  \n",
       "0     False   23  \n",
       "1      True    5  \n",
       "2     False   12  \n",
       "3     False   15  \n",
       "4     False    8  "
      ]
     },
     "execution_count": 59,
     "metadata": {},
     "output_type": "execute_result"
    }
   ],
   "source": [
    "df.head()"
   ]
  },
  {
   "cell_type": "code",
   "execution_count": 60,
   "metadata": {},
   "outputs": [],
   "source": [
    "cat_col_names_ohe = ['vehicle_type', 'gearbox', 'fuel_type', 'repaired']\n",
    "cat_col_names_me = ['model', 'brand']\n",
    "num_col_names = ['power', 'odometer', 'age']"
   ]
  },
  {
   "cell_type": "markdown",
   "metadata": {},
   "source": [
    "Кодируем категориальные признаки."
   ]
  },
  {
   "cell_type": "code",
   "execution_count": 63,
   "metadata": {},
   "outputs": [],
   "source": [
    "# создадим переменную с экземпляром класса MEstimateEncoder\n",
    "encoder_me = MEstimateEncoder(cols = cat_col_names_me, m=5.0)\n",
    "\n",
    "# обучим категориальные признаки из тренировочной выборки с помощью MEstimateEncoder \n",
    "encoder_me.fit(features_train[cat_col_names_me], target_train)\n",
    "\n",
    "\n",
    "#Трансформируем категориальные признаки с помощью MEstimateEncoder\n",
    "features_train_me = encoder_me.transform(features_train[cat_col_names_me])\n",
    "features_val_me = encoder_me.transform(features_val[cat_col_names_me])\n",
    "features_test_me = encoder_me.transform(features_test[cat_col_names_me])\n",
    "\n",
    "# получим от кодировщика список новых столбцов и сохраним в новой переменной\n",
    "encoder_col_names_me = encoder_me.get_feature_names_out()\n",
    "\n",
    "# создаём тренировочный, валидационный и тестовый датафреймы из закодированных данных\n",
    "features_train_me = pd.DataFrame(features_train_me, columns=encoder_col_names_me)\n",
    "features_val_me = pd.DataFrame(features_val_me, columns=encoder_col_names_me)\n",
    "features_test_me = pd.DataFrame(features_test_me, columns=encoder_col_names_me)\n"
   ]
  },
  {
   "cell_type": "code",
   "execution_count": 65,
   "metadata": {},
   "outputs": [],
   "source": [
    "# создадим переменную с экземпляром класса OneHotEncoder()\n",
    "encoder_ohe = OneHotEncoder(drop = 'first', sparse_output = False)\n",
    "\n",
    "# обучим и трансформируем категориальные признаки из тренировочной выборки с помощью  OneHotEncoder\n",
    "features_train_ohe = encoder_ohe.fit_transform(features_train[cat_col_names_ohe])\n",
    "\n",
    "# выполним преобразование категориальных признаков в валидационной и тестовой выборках\n",
    "features_val_ohe = encoder_ohe.transform(features_val[cat_col_names_ohe])\n",
    "features_test_ohe = encoder_ohe.transform(features_test[cat_col_names_ohe])\n",
    "\n",
    "\n",
    "# получим от кодировщика список новых столбцов и сохраните в новой переменной \n",
    "encoder_col_names_ohe = encoder_ohe.get_feature_names_out()\n",
    "\n",
    "\n",
    "# создаём тренировочный, валидационный и тестовый датафреймы из закодированных данных\n",
    "\n",
    "features_train_ohe = pd.DataFrame(features_train_ohe, columns=encoder_col_names_ohe)\n",
    "features_val_ohe = pd.DataFrame(features_val_ohe, columns=encoder_col_names_ohe)\n",
    "features_test_ohe = pd.DataFrame(features_test_ohe, columns=encoder_col_names_ohe)\n"
   ]
  },
  {
   "cell_type": "markdown",
   "metadata": {},
   "source": [
    "Отмасштабируем количественные признаки во всех выборках."
   ]
  },
  {
   "cell_type": "code",
   "execution_count": 66,
   "metadata": {},
   "outputs": [],
   "source": [
    "# создадим переменную с экземпляром класса StandardScaler()\n",
    "scaler = StandardScaler()\n",
    "\n",
    "# обучим и трансформируем количественные признаки из тренировочной выборки \n",
    "features_train_scaled = scaler.fit_transform(features_train[num_col_names])\n",
    "\n",
    "# выполним преобразование количественных признаков в валидационной и тестовой выборках\n",
    "features_val_scaled = scaler.transform(features_val[num_col_names])\n",
    "features_test_scaled = scaler.transform(features_test[num_col_names])\n",
    "\n",
    "# создаём тренировочный, валидационный и тестовый датафреймы из отмасштабированных данных\n",
    "features_train_scaled = pd.DataFrame(features_train_scaled, columns=num_col_names)\n",
    "features_val_scaled = pd.DataFrame(features_val_scaled, columns=num_col_names)\n",
    "features_test_scaled = pd.DataFrame(features_test_scaled, columns=num_col_names)"
   ]
  },
  {
   "cell_type": "code",
   "execution_count": 67,
   "metadata": {
    "scrolled": true
   },
   "outputs": [
    {
     "data": {
      "text/plain": [
       "([['power', 'odometer', 'age']],\n",
       " ['vehicle_type',\n",
       "  'gearbox',\n",
       "  'power',\n",
       "  'model',\n",
       "  'odometer',\n",
       "  'fuel_type',\n",
       "  'brand',\n",
       "  'repaired',\n",
       "  'age'])"
      ]
     },
     "execution_count": 67,
     "metadata": {},
     "output_type": "execute_result"
    }
   ],
   "source": [
    "[num_col_names], features_train.columns.to_list()"
   ]
  },
  {
   "cell_type": "code",
   "execution_count": 68,
   "metadata": {},
   "outputs": [
    {
     "data": {
      "text/html": [
       "<div>\n",
       "<style scoped>\n",
       "    .dataframe tbody tr th:only-of-type {\n",
       "        vertical-align: middle;\n",
       "    }\n",
       "\n",
       "    .dataframe tbody tr th {\n",
       "        vertical-align: top;\n",
       "    }\n",
       "\n",
       "    .dataframe thead th {\n",
       "        text-align: right;\n",
       "    }\n",
       "</style>\n",
       "<table border=\"1\" class=\"dataframe\">\n",
       "  <thead>\n",
       "    <tr style=\"text-align: right;\">\n",
       "      <th></th>\n",
       "      <th>power</th>\n",
       "      <th>odometer</th>\n",
       "      <th>age</th>\n",
       "    </tr>\n",
       "  </thead>\n",
       "  <tbody>\n",
       "    <tr>\n",
       "      <th>0</th>\n",
       "      <td>-1.06</td>\n",
       "      <td>-2.25</td>\n",
       "      <td>-0.33</td>\n",
       "    </tr>\n",
       "    <tr>\n",
       "      <th>1</th>\n",
       "      <td>0.16</td>\n",
       "      <td>0.61</td>\n",
       "      <td>0.10</td>\n",
       "    </tr>\n",
       "    <tr>\n",
       "      <th>2</th>\n",
       "      <td>0.23</td>\n",
       "      <td>0.61</td>\n",
       "      <td>-0.18</td>\n",
       "    </tr>\n",
       "    <tr>\n",
       "      <th>3</th>\n",
       "      <td>-1.52</td>\n",
       "      <td>-2.51</td>\n",
       "      <td>1.10</td>\n",
       "    </tr>\n",
       "    <tr>\n",
       "      <th>4</th>\n",
       "      <td>-1.64</td>\n",
       "      <td>-1.99</td>\n",
       "      <td>2.52</td>\n",
       "    </tr>\n",
       "  </tbody>\n",
       "</table>\n",
       "</div>"
      ],
      "text/plain": [
       "   power  odometer   age\n",
       "0  -1.06     -2.25 -0.33\n",
       "1   0.16      0.61  0.10\n",
       "2   0.23      0.61 -0.18\n",
       "3  -1.52     -2.51  1.10\n",
       "4  -1.64     -1.99  2.52"
      ]
     },
     "metadata": {},
     "output_type": "display_data"
    }
   ],
   "source": [
    "display(features_train_scaled.head())"
   ]
  },
  {
   "cell_type": "code",
   "execution_count": 69,
   "metadata": {
    "scrolled": true
   },
   "outputs": [
    {
     "data": {
      "text/html": [
       "<div>\n",
       "<style scoped>\n",
       "    .dataframe tbody tr th:only-of-type {\n",
       "        vertical-align: middle;\n",
       "    }\n",
       "\n",
       "    .dataframe tbody tr th {\n",
       "        vertical-align: top;\n",
       "    }\n",
       "\n",
       "    .dataframe thead th {\n",
       "        text-align: right;\n",
       "    }\n",
       "</style>\n",
       "<table border=\"1\" class=\"dataframe\">\n",
       "  <thead>\n",
       "    <tr style=\"text-align: right;\">\n",
       "      <th></th>\n",
       "      <th>power</th>\n",
       "      <th>odometer</th>\n",
       "      <th>age</th>\n",
       "    </tr>\n",
       "  </thead>\n",
       "  <tbody>\n",
       "    <tr>\n",
       "      <th>0</th>\n",
       "      <td>0.82</td>\n",
       "      <td>0.61</td>\n",
       "      <td>0.39</td>\n",
       "    </tr>\n",
       "    <tr>\n",
       "      <th>1</th>\n",
       "      <td>1.85</td>\n",
       "      <td>0.61</td>\n",
       "      <td>1.10</td>\n",
       "    </tr>\n",
       "    <tr>\n",
       "      <th>2</th>\n",
       "      <td>-0.07</td>\n",
       "      <td>0.61</td>\n",
       "      <td>0.53</td>\n",
       "    </tr>\n",
       "    <tr>\n",
       "      <th>3</th>\n",
       "      <td>-0.58</td>\n",
       "      <td>-1.21</td>\n",
       "      <td>-0.47</td>\n",
       "    </tr>\n",
       "    <tr>\n",
       "      <th>4</th>\n",
       "      <td>-0.29</td>\n",
       "      <td>0.61</td>\n",
       "      <td>-0.76</td>\n",
       "    </tr>\n",
       "  </tbody>\n",
       "</table>\n",
       "</div>"
      ],
      "text/plain": [
       "   power  odometer   age\n",
       "0   0.82      0.61  0.39\n",
       "1   1.85      0.61  1.10\n",
       "2  -0.07      0.61  0.53\n",
       "3  -0.58     -1.21 -0.47\n",
       "4  -0.29      0.61 -0.76"
      ]
     },
     "metadata": {},
     "output_type": "display_data"
    }
   ],
   "source": [
    "display(features_val_scaled.head())"
   ]
  },
  {
   "cell_type": "code",
   "execution_count": 70,
   "metadata": {},
   "outputs": [
    {
     "data": {
      "text/html": [
       "<div>\n",
       "<style scoped>\n",
       "    .dataframe tbody tr th:only-of-type {\n",
       "        vertical-align: middle;\n",
       "    }\n",
       "\n",
       "    .dataframe tbody tr th {\n",
       "        vertical-align: top;\n",
       "    }\n",
       "\n",
       "    .dataframe thead th {\n",
       "        text-align: right;\n",
       "    }\n",
       "</style>\n",
       "<table border=\"1\" class=\"dataframe\">\n",
       "  <thead>\n",
       "    <tr style=\"text-align: right;\">\n",
       "      <th></th>\n",
       "      <th>power</th>\n",
       "      <th>odometer</th>\n",
       "      <th>age</th>\n",
       "    </tr>\n",
       "  </thead>\n",
       "  <tbody>\n",
       "    <tr>\n",
       "      <th>0</th>\n",
       "      <td>0.45</td>\n",
       "      <td>0.61</td>\n",
       "      <td>1.10</td>\n",
       "    </tr>\n",
       "    <tr>\n",
       "      <th>1</th>\n",
       "      <td>0.36</td>\n",
       "      <td>-1.21</td>\n",
       "      <td>-1.18</td>\n",
       "    </tr>\n",
       "    <tr>\n",
       "      <th>2</th>\n",
       "      <td>0.48</td>\n",
       "      <td>0.61</td>\n",
       "      <td>-0.04</td>\n",
       "    </tr>\n",
       "    <tr>\n",
       "      <th>3</th>\n",
       "      <td>1.17</td>\n",
       "      <td>-0.04</td>\n",
       "      <td>-0.76</td>\n",
       "    </tr>\n",
       "    <tr>\n",
       "      <th>4</th>\n",
       "      <td>-0.12</td>\n",
       "      <td>0.61</td>\n",
       "      <td>1.10</td>\n",
       "    </tr>\n",
       "  </tbody>\n",
       "</table>\n",
       "</div>"
      ],
      "text/plain": [
       "   power  odometer   age\n",
       "0   0.45      0.61  1.10\n",
       "1   0.36     -1.21 -1.18\n",
       "2   0.48      0.61 -0.04\n",
       "3   1.17     -0.04 -0.76\n",
       "4  -0.12      0.61  1.10"
      ]
     },
     "metadata": {},
     "output_type": "display_data"
    }
   ],
   "source": [
    "display(features_test_scaled.head())"
   ]
  },
  {
   "cell_type": "markdown",
   "metadata": {},
   "source": [
    "Объединяем кодированные и масштабированные данные в тренировочный, валидационный и тестовый датафреймы"
   ]
  },
  {
   "cell_type": "code",
   "execution_count": 71,
   "metadata": {},
   "outputs": [],
   "source": [
    "features_train = pd.concat([features_train_ohe.reset_index(), features_train_me.reset_index(),\\\n",
    "                            features_train_scaled.reset_index()], axis=1)\n",
    "features_val = pd.concat([features_val_ohe.reset_index(), features_val_me.reset_index(),\\\n",
    "                          features_val_scaled.reset_index()], axis=1)\n",
    "features_test = pd.concat([features_test_ohe.reset_index(), features_test_me.reset_index(),\\\n",
    "                           features_test_scaled.reset_index()], axis=1)"
   ]
  },
  {
   "cell_type": "code",
   "execution_count": 72,
   "metadata": {
    "scrolled": true
   },
   "outputs": [
    {
     "name": "stderr",
     "output_type": "stream",
     "text": [
      "C:\\Users\\babay\\anaconda3\\Lib\\site-packages\\sklearn\\linear_model\\_ridge.py:216: LinAlgWarning: Ill-conditioned matrix (rcond=5.68472e-17): result may not be accurate.\n",
      "  return linalg.solve(A, Xy, assume_a=\"pos\", overwrite_a=True).T\n",
      "C:\\Users\\babay\\anaconda3\\Lib\\site-packages\\sklearn\\linear_model\\_ridge.py:216: LinAlgWarning: Ill-conditioned matrix (rcond=7.58458e-17): result may not be accurate.\n",
      "  return linalg.solve(A, Xy, assume_a=\"pos\", overwrite_a=True).T\n",
      "C:\\Users\\babay\\anaconda3\\Lib\\site-packages\\sklearn\\linear_model\\_ridge.py:216: LinAlgWarning: Ill-conditioned matrix (rcond=7.59016e-17): result may not be accurate.\n",
      "  return linalg.solve(A, Xy, assume_a=\"pos\", overwrite_a=True).T\n",
      "C:\\Users\\babay\\anaconda3\\Lib\\site-packages\\sklearn\\linear_model\\_ridge.py:216: LinAlgWarning: Ill-conditioned matrix (rcond=7.58143e-17): result may not be accurate.\n",
      "  return linalg.solve(A, Xy, assume_a=\"pos\", overwrite_a=True).T\n",
      "C:\\Users\\babay\\anaconda3\\Lib\\site-packages\\sklearn\\linear_model\\_ridge.py:216: LinAlgWarning: Ill-conditioned matrix (rcond=5.6775e-17): result may not be accurate.\n",
      "  return linalg.solve(A, Xy, assume_a=\"pos\", overwrite_a=True).T\n",
      "C:\\Users\\babay\\anaconda3\\Lib\\site-packages\\sklearn\\linear_model\\_ridge.py:216: LinAlgWarning: Ill-conditioned matrix (rcond=5.66995e-17): result may not be accurate.\n",
      "  return linalg.solve(A, Xy, assume_a=\"pos\", overwrite_a=True).T\n",
      "C:\\Users\\babay\\anaconda3\\Lib\\site-packages\\sklearn\\linear_model\\_ridge.py:216: LinAlgWarning: Ill-conditioned matrix (rcond=9.47108e-17): result may not be accurate.\n",
      "  return linalg.solve(A, Xy, assume_a=\"pos\", overwrite_a=True).T\n",
      "C:\\Users\\babay\\anaconda3\\Lib\\site-packages\\sklearn\\linear_model\\_ridge.py:216: LinAlgWarning: Ill-conditioned matrix (rcond=5.68772e-17): result may not be accurate.\n",
      "  return linalg.solve(A, Xy, assume_a=\"pos\", overwrite_a=True).T\n",
      "C:\\Users\\babay\\anaconda3\\Lib\\site-packages\\sklearn\\linear_model\\_ridge.py:216: LinAlgWarning: Ill-conditioned matrix (rcond=7.57262e-17): result may not be accurate.\n",
      "  return linalg.solve(A, Xy, assume_a=\"pos\", overwrite_a=True).T\n",
      "C:\\Users\\babay\\anaconda3\\Lib\\site-packages\\sklearn\\linear_model\\_ridge.py:216: LinAlgWarning: Ill-conditioned matrix (rcond=9.49221e-17): result may not be accurate.\n",
      "  return linalg.solve(A, Xy, assume_a=\"pos\", overwrite_a=True).T\n",
      "C:\\Users\\babay\\anaconda3\\Lib\\site-packages\\sklearn\\linear_model\\_ridge.py:216: LinAlgWarning: Ill-conditioned matrix (rcond=7.5819e-17): result may not be accurate.\n",
      "  return linalg.solve(A, Xy, assume_a=\"pos\", overwrite_a=True).T\n",
      "C:\\Users\\babay\\anaconda3\\Lib\\site-packages\\sklearn\\linear_model\\_ridge.py:216: LinAlgWarning: Ill-conditioned matrix (rcond=5.68627e-17): result may not be accurate.\n",
      "  return linalg.solve(A, Xy, assume_a=\"pos\", overwrite_a=True).T\n",
      "C:\\Users\\babay\\anaconda3\\Lib\\site-packages\\sklearn\\linear_model\\_ridge.py:216: LinAlgWarning: Ill-conditioned matrix (rcond=5.68283e-17): result may not be accurate.\n",
      "  return linalg.solve(A, Xy, assume_a=\"pos\", overwrite_a=True).T\n",
      "C:\\Users\\babay\\anaconda3\\Lib\\site-packages\\sklearn\\linear_model\\_ridge.py:216: LinAlgWarning: Ill-conditioned matrix (rcond=7.58045e-17): result may not be accurate.\n",
      "  return linalg.solve(A, Xy, assume_a=\"pos\", overwrite_a=True).T\n",
      "C:\\Users\\babay\\anaconda3\\Lib\\site-packages\\sklearn\\linear_model\\_ridge.py:216: LinAlgWarning: Ill-conditioned matrix (rcond=5.67624e-17): result may not be accurate.\n",
      "  return linalg.solve(A, Xy, assume_a=\"pos\", overwrite_a=True).T\n",
      "C:\\Users\\babay\\anaconda3\\Lib\\site-packages\\sklearn\\linear_model\\_ridge.py:216: LinAlgWarning: Ill-conditioned matrix (rcond=5.67455e-17): result may not be accurate.\n",
      "  return linalg.solve(A, Xy, assume_a=\"pos\", overwrite_a=True).T\n",
      "C:\\Users\\babay\\anaconda3\\Lib\\site-packages\\sklearn\\linear_model\\_ridge.py:216: LinAlgWarning: Ill-conditioned matrix (rcond=5.69265e-17): result may not be accurate.\n",
      "  return linalg.solve(A, Xy, assume_a=\"pos\", overwrite_a=True).T\n",
      "C:\\Users\\babay\\anaconda3\\Lib\\site-packages\\sklearn\\linear_model\\_ridge.py:216: LinAlgWarning: Ill-conditioned matrix (rcond=7.57963e-17): result may not be accurate.\n",
      "  return linalg.solve(A, Xy, assume_a=\"pos\", overwrite_a=True).T\n",
      "C:\\Users\\babay\\anaconda3\\Lib\\site-packages\\sklearn\\linear_model\\_ridge.py:216: LinAlgWarning: Ill-conditioned matrix (rcond=9.48072e-17): result may not be accurate.\n",
      "  return linalg.solve(A, Xy, assume_a=\"pos\", overwrite_a=True).T\n",
      "C:\\Users\\babay\\anaconda3\\Lib\\site-packages\\sklearn\\linear_model\\_ridge.py:216: LinAlgWarning: Ill-conditioned matrix (rcond=9.47679e-17): result may not be accurate.\n",
      "  return linalg.solve(A, Xy, assume_a=\"pos\", overwrite_a=True).T\n",
      "C:\\Users\\babay\\anaconda3\\Lib\\site-packages\\sklearn\\linear_model\\_ridge.py:216: LinAlgWarning: Ill-conditioned matrix (rcond=9.46578e-17): result may not be accurate.\n",
      "  return linalg.solve(A, Xy, assume_a=\"pos\", overwrite_a=True).T\n",
      "C:\\Users\\babay\\anaconda3\\Lib\\site-packages\\sklearn\\linear_model\\_ridge.py:216: LinAlgWarning: Ill-conditioned matrix (rcond=9.47737e-17): result may not be accurate.\n",
      "  return linalg.solve(A, Xy, assume_a=\"pos\", overwrite_a=True).T\n",
      "C:\\Users\\babay\\anaconda3\\Lib\\site-packages\\sklearn\\linear_model\\_ridge.py:216: LinAlgWarning: Ill-conditioned matrix (rcond=9.47556e-17): result may not be accurate.\n",
      "  return linalg.solve(A, Xy, assume_a=\"pos\", overwrite_a=True).T\n",
      "C:\\Users\\babay\\anaconda3\\Lib\\site-packages\\sklearn\\linear_model\\_ridge.py:216: LinAlgWarning: Ill-conditioned matrix (rcond=7.56607e-17): result may not be accurate.\n",
      "  return linalg.solve(A, Xy, assume_a=\"pos\", overwrite_a=True).T\n",
      "C:\\Users\\babay\\anaconda3\\Lib\\site-packages\\sklearn\\linear_model\\_ridge.py:216: LinAlgWarning: Ill-conditioned matrix (rcond=3.79508e-17): result may not be accurate.\n",
      "  return linalg.solve(A, Xy, assume_a=\"pos\", overwrite_a=True).T\n",
      "C:\\Users\\babay\\anaconda3\\Lib\\site-packages\\sklearn\\linear_model\\_ridge.py:216: LinAlgWarning: Ill-conditioned matrix (rcond=3.78341e-17): result may not be accurate.\n",
      "  return linalg.solve(A, Xy, assume_a=\"pos\", overwrite_a=True).T\n",
      "C:\\Users\\babay\\anaconda3\\Lib\\site-packages\\sklearn\\linear_model\\_ridge.py:216: LinAlgWarning: Ill-conditioned matrix (rcond=1.8925e-17): result may not be accurate.\n",
      "  return linalg.solve(A, Xy, assume_a=\"pos\", overwrite_a=True).T\n",
      "C:\\Users\\babay\\anaconda3\\Lib\\site-packages\\sklearn\\linear_model\\_ridge.py:216: LinAlgWarning: Ill-conditioned matrix (rcond=3.78642e-17): result may not be accurate.\n",
      "  return linalg.solve(A, Xy, assume_a=\"pos\", overwrite_a=True).T\n",
      "C:\\Users\\babay\\anaconda3\\Lib\\site-packages\\sklearn\\linear_model\\_ridge.py:216: LinAlgWarning: Ill-conditioned matrix (rcond=1.89152e-17): result may not be accurate.\n",
      "  return linalg.solve(A, Xy, assume_a=\"pos\", overwrite_a=True).T\n"
     ]
    },
    {
     "name": "stdout",
     "output_type": "stream",
     "text": [
      "Время обучения модели RidgeCV: 0.05 секунд\n",
      "Время предсказания RidgeCV: 0.01 секунд\n",
      "RMSE RidgeCV на валидационной выборке: 3024.58\n"
     ]
    },
    {
     "name": "stderr",
     "output_type": "stream",
     "text": [
      "C:\\Users\\babay\\anaconda3\\Lib\\site-packages\\sklearn\\metrics\\_regression.py:492: FutureWarning: 'squared' is deprecated in version 1.4 and will be removed in 1.6. To calculate the root mean squared error, use the function'root_mean_squared_error'.\n",
      "  warnings.warn(\n"
     ]
    }
   ],
   "source": [
    "#определим метод кросс-валидации для оценки модели\n",
    "cv = RepeatedKFold(n_splits= 10 , n_repeats= 3 , random_state= 1 )\n",
    "\n",
    "model_ridge = RidgeCV(alphas = [0.1, 0.21, 0.01], cv=cv, scoring='neg_root_mean_squared_error')\n",
    "\n",
    "#fit model\n",
    "model_ridge.fit(features_train, target_train)\n",
    "best_alpha = model_ridge.alpha_\n",
    "best_estimator = Ridge(alpha=best_alpha)\n",
    "\n",
    "#обучаем лучшую модель\n",
    "start_time = time.time()\n",
    "best_estimator.fit(features_train, target_train)\n",
    "\n",
    "end_time = time.time()\n",
    "\n",
    "training_time_ridge = end_time - start_time\n",
    "training_time_ridge = round(training_time_ridge, 2)\n",
    "\n",
    "# Время обучения модели RidgeCV\n",
    "print(\"Время обучения модели RidgeCV: %s секунд\" % training_time_ridge)\n",
    "\n",
    "# Время предсказания модели RidgeCV\n",
    "start_time = time.time()\n",
    "target_pred_ridge = best_estimator.predict(features_test)\n",
    "end_time = time.time()\n",
    "prediction_time_ridge = end_time - start_time\n",
    "prediction_time_ridge = round(prediction_time_ridge, 2)\n",
    "print(\"Время предсказания RidgeCV: %s секунд\" % prediction_time_ridge)\n",
    "\n",
    "# Оценка качества модели RidgeCV на валидационной выборке\n",
    "rmse_ridge = mean_squared_error(target_val, best_estimator.predict(features_val), squared=False)\n",
    "print(\"RMSE RidgeCV на валидационной выборке: %.2f\" % rmse_ridge)"
   ]
  },
  {
   "cell_type": "markdown",
   "metadata": {},
   "source": [
    "Для обучения моделей бустинга заменим тип данных на числовой. "
   ]
  },
  {
   "cell_type": "code",
   "execution_count": 73,
   "metadata": {},
   "outputs": [],
   "source": [
    "df['vehicle_type'] = df['vehicle_type'].astype('category').cat.codes\n",
    "df['gearbox'] = df['gearbox'].astype('category').cat.codes\n",
    "df['model'] = df['model'].astype('category').cat.codes\n",
    "df['fuel_type'] = df['fuel_type'].astype('category').cat.codes\n",
    "df['brand'] = df['brand'].astype('category').cat.codes\n",
    "df['repaired'] = df['repaired'].astype('category').cat.codes"
   ]
  },
  {
   "cell_type": "markdown",
   "metadata": {},
   "source": [
    "Подготовим признаки и разделим данные на обучающую и тестовую выборки."
   ]
  },
  {
   "cell_type": "code",
   "execution_count": 74,
   "metadata": {
    "scrolled": true
   },
   "outputs": [
    {
     "name": "stdout",
     "output_type": "stream",
     "text": [
      "Размер обучающей выборки - 217508\n",
      "Размер тестовой выборки - 54378\n"
     ]
    }
   ],
   "source": [
    "features = df.drop(columns='price')\n",
    "target = df['price']\n",
    "\n",
    "features_train, features_test, target_train, target_test = \\\n",
    "            train_test_split(features, target, test_size=0.2, random_state = 42)\n",
    "\n",
    "print(f'Размер обучающей выборки - {target_train.shape[0]}')\n",
    "print(f'Размер тестовой выборки - {target_test.shape[0]}')"
   ]
  },
  {
   "cell_type": "markdown",
   "metadata": {},
   "source": [
    "Разделим тренировочную выборку на тренировочную и валидационную."
   ]
  },
  {
   "cell_type": "code",
   "execution_count": 75,
   "metadata": {},
   "outputs": [
    {
     "name": "stdout",
     "output_type": "stream",
     "text": [
      "Размер обучающей выборки - 174006\n",
      "Размер валидационной выборки - 43502\n"
     ]
    }
   ],
   "source": [
    "features_train, features_val, target_train, target_val = \\\n",
    "    train_test_split(features_train, target_train, test_size=0.2, random_state=42)\n",
    "print(f'Размер обучающей выборки - {target_train.shape[0]}')\n",
    "print(f'Размер валидационной выборки - {target_val.shape[0]}')"
   ]
  },
  {
   "cell_type": "markdown",
   "metadata": {},
   "source": [
    "**Модель LightGBM**"
   ]
  },
  {
   "cell_type": "markdown",
   "metadata": {},
   "source": [
    "Зададим следующие параметры модели:\n",
    "\n",
    "- boosting_type - 'gbdt' (Gradient Boosting Decision Tree), используем традиционную технику градиентного бустинга;\n",
    "- objective - 'regression', т к мы прогнозмруем непрерывнй признак (цену автомобилей);\n",
    "- metric - 'RMSE';\n",
    "- num_leaves - 31;\n",
    "- learning_rate (скорость обучения) - 0.05;\n",
    "- feature_fraction - 0.9 (LightGBM случайным образом выбирать 90% фичей в начале построения каждого дерева);\n",
    "- bagging_fraction (доля данных, подлежащих случайной выборке на каждой итерации, помогает предотвратить переобучение) - 0.8;\n",
    "- bagging_freq - 5;\n",
    "- verbose - 0.\n",
    "    \n",
    "    "
   ]
  },
  {
   "cell_type": "code",
   "execution_count": 82,
   "metadata": {},
   "outputs": [
    {
     "name": "stdout",
     "output_type": "stream",
     "text": [
      "Время обучения LightGBM: 3.15 секунд\n",
      "Время предсказания LightGBM: 0.36 секунд\n",
      "RMSE LightGBM на валидационной выборке: 1718.07\n"
     ]
    },
    {
     "name": "stderr",
     "output_type": "stream",
     "text": [
      "C:\\Users\\babay\\anaconda3\\Lib\\site-packages\\sklearn\\metrics\\_regression.py:492: FutureWarning: 'squared' is deprecated in version 1.4 and will be removed in 1.6. To calculate the root mean squared error, use the function'root_mean_squared_error'.\n",
      "  warnings.warn(\n"
     ]
    }
   ],
   "source": [
    "start_time = time.time()\n",
    "\n",
    "params = {\n",
    "    'boosting_type': 'gbdt',\n",
    "    'objective': 'regression',\n",
    "    'metric': 'rmse',\n",
    "    'num_leaves': 31,\n",
    "    'learning_rate': 0.05,\n",
    "    'feature_fraction': 0.9,\n",
    "    'bagging_fraction': 0.8,\n",
    "    'bagging_freq': 5,\n",
    "    'verbose': 0,\n",
    "    'n_jobs': -1\n",
    "}\n",
    "\n",
    "lgb_train = lgb.Dataset(features_train, target_train)\n",
    "lgb_val = lgb.Dataset(features_val, target_val)\n",
    "\n",
    "model_lgb = lgb.train(params,\n",
    "                      lgb_train,\n",
    "                      num_boost_round=1000,\n",
    "                      valid_sets=[lgb_train, lgb_val])\n",
    "                     # stopping_rounds=50,\n",
    "                      #verbose=100)\n",
    "\n",
    "end_time = time.time()\n",
    "training_time_lgb = end_time - start_time\n",
    "training_time_lgb = round(training_time_lgb, 2)\n",
    "\n",
    "# Время обучения модели LightGBM\n",
    "print(\"Время обучения LightGBM: %s секунд\" % training_time_lgb)\n",
    "\n",
    "# Время предсказания модели LightGBM\n",
    "start_time = time.time()\n",
    "y_pred_lgb = model_lgb.predict(features_test)\n",
    "end_time = time.time()\n",
    "prediction_time_lgb = end_time - start_time\n",
    "prediction_time_lgb = round(prediction_time_lgb, 2)\n",
    "print(\"Время предсказания LightGBM: %s секунд\" % prediction_time_lgb)\n",
    "\n",
    "# Оценка качества модели LightGBM на валидационной выборке\n",
    "rmse_lgb = mean_squared_error(target_val, model_lgb.predict(features_val), squared=False)\n",
    "print(\"RMSE LightGBM на валидационной выборке: %.2f\" % rmse_lgb)"
   ]
  },
  {
   "cell_type": "markdown",
   "metadata": {},
   "source": [
    "**Модель CatBoostRegressor**"
   ]
  },
  {
   "cell_type": "markdown",
   "metadata": {},
   "source": [
    "Зададим следующие параметры:\n",
    "\n",
    "- iterations (максимальное количество построенных деревьев) - 1000;\n",
    "- learning_rate=0.1, скорость обучения, которая определяет насколько быстро или медленно модель будет учиться;\n",
    "- depth (глубина дерева) - 6;\n",
    "- early_stopping_rounds = 50, количество итераций для остановки, если на их протяжении метрика качества не улучшалась по сравнению с оптимальной.\n",
    "                                   \n",
    "                                   "
   ]
  },
  {
   "cell_type": "code",
   "execution_count": 83,
   "metadata": {
    "scrolled": true
   },
   "outputs": [
    {
     "name": "stdout",
     "output_type": "stream",
     "text": [
      "0:\tlearn: 4338.6846937\ttest: 4346.1088418\tbest: 4346.1088418 (0)\ttotal: 151ms\tremaining: 2m 30s\n",
      "100:\tlearn: 1897.9565672\ttest: 1923.0364308\tbest: 1923.0364308 (100)\ttotal: 913ms\tremaining: 8.12s\n",
      "200:\tlearn: 1806.2143170\ttest: 1844.5020292\tbest: 1844.5020292 (200)\ttotal: 1.71s\tremaining: 6.8s\n",
      "300:\tlearn: 1758.6694232\ttest: 1808.0352389\tbest: 1808.0352389 (300)\ttotal: 2.5s\tremaining: 5.8s\n",
      "400:\tlearn: 1728.0801561\ttest: 1787.9137347\tbest: 1787.9137347 (400)\ttotal: 3.28s\tremaining: 4.9s\n",
      "500:\tlearn: 1702.9648781\ttest: 1773.5316717\tbest: 1773.5316717 (500)\ttotal: 4.08s\tremaining: 4.07s\n",
      "600:\tlearn: 1683.7294532\ttest: 1762.1896417\tbest: 1762.1724440 (599)\ttotal: 4.89s\tremaining: 3.24s\n",
      "700:\tlearn: 1666.1633911\ttest: 1752.4402179\tbest: 1752.4402179 (700)\ttotal: 5.79s\tremaining: 2.47s\n",
      "800:\tlearn: 1652.9381697\ttest: 1746.0212564\tbest: 1746.0212564 (800)\ttotal: 6.72s\tremaining: 1.67s\n",
      "900:\tlearn: 1639.7850517\ttest: 1740.4173618\tbest: 1740.4173618 (900)\ttotal: 7.58s\tremaining: 833ms\n",
      "999:\tlearn: 1628.5050541\ttest: 1735.0909204\tbest: 1735.0909204 (999)\ttotal: 8.37s\tremaining: 0us\n",
      "\n",
      "bestTest = 1735.09092\n",
      "bestIteration = 999\n",
      "\n",
      "Время обучения CatBoostRegressor: 8.65 секунд\n",
      "Время предсказания CatBoostRegressor: 0.01 секунд\n",
      "RMSE CatBoostRegressor на валидационной выборке: 1735.09\n"
     ]
    },
    {
     "name": "stderr",
     "output_type": "stream",
     "text": [
      "C:\\Users\\babay\\anaconda3\\Lib\\site-packages\\sklearn\\metrics\\_regression.py:492: FutureWarning: 'squared' is deprecated in version 1.4 and will be removed in 1.6. To calculate the root mean squared error, use the function'root_mean_squared_error'.\n",
      "  warnings.warn(\n"
     ]
    }
   ],
   "source": [
    "# Обучение модели CatBoostRegressor\n",
    "start_time = time.time()\n",
    "\n",
    "model_catboost = CatBoostRegressor(iterations=1000,\n",
    "                                   learning_rate=0.1,\n",
    "                                   depth=6,\n",
    "                                   loss_function='RMSE',\n",
    "                                   random_state=42)\n",
    "\n",
    "model_catboost.fit(features_train, target_train, eval_set=(features_val, target_val), verbose=100, early_stopping_rounds=50)\n",
    "\n",
    "end_time = time.time()\n",
    "training_time_catboost = end_time - start_time\n",
    "training_time_catboost = round(training_time_catboost, 2)\n",
    "\n",
    "# Время обучения модели CatBoostRegressor\n",
    "print(\"Время обучения CatBoostRegressor: %s секунд\" % training_time_catboost)\n",
    "\n",
    "# Время предсказания модели CatBoostRegressor\n",
    "start_time = time.time()\n",
    "y_pred_catboost = model_catboost.predict(features_test)\n",
    "end_time = time.time()\n",
    "prediction_time_catboost = end_time - start_time\n",
    "prediction_time_catboost = round(prediction_time_catboost, 2)\n",
    "print(\"Время предсказания CatBoostRegressor: %s секунд\" % prediction_time_catboost)\n",
    "\n",
    "# Оценка качества модели CatBoostRegressor на валидационной выборке\n",
    "rmse_catboost = mean_squared_error(target_val, model_catboost.predict(features_val), squared=False)\n",
    "print(\"RMSE CatBoostRegressor на валидационной выборке: %.2f\" % rmse_catboost)"
   ]
  },
  {
   "cell_type": "markdown",
   "metadata": {},
   "source": [
    "## Анализ моделей"
   ]
  },
  {
   "cell_type": "code",
   "execution_count": 84,
   "metadata": {},
   "outputs": [
    {
     "data": {
      "text/html": [
       "<div>\n",
       "<style scoped>\n",
       "    .dataframe tbody tr th:only-of-type {\n",
       "        vertical-align: middle;\n",
       "    }\n",
       "\n",
       "    .dataframe tbody tr th {\n",
       "        vertical-align: top;\n",
       "    }\n",
       "\n",
       "    .dataframe thead th {\n",
       "        text-align: right;\n",
       "    }\n",
       "</style>\n",
       "<table border=\"1\" class=\"dataframe\">\n",
       "  <thead>\n",
       "    <tr style=\"text-align: right;\">\n",
       "      <th></th>\n",
       "      <th>Модель</th>\n",
       "      <th>Время обучения, секунд</th>\n",
       "      <th>Время предсказания, секунд</th>\n",
       "      <th>RMSE</th>\n",
       "    </tr>\n",
       "  </thead>\n",
       "  <tbody>\n",
       "    <tr>\n",
       "      <th>0</th>\n",
       "      <td>LightGBM</td>\n",
       "      <td>3.15</td>\n",
       "      <td>0.36</td>\n",
       "      <td>1718.07</td>\n",
       "    </tr>\n",
       "    <tr>\n",
       "      <th>1</th>\n",
       "      <td>CatBoostRegressor</td>\n",
       "      <td>8.65</td>\n",
       "      <td>0.01</td>\n",
       "      <td>1735.09</td>\n",
       "    </tr>\n",
       "    <tr>\n",
       "      <th>2</th>\n",
       "      <td>RidgeCV</td>\n",
       "      <td>0.05</td>\n",
       "      <td>0.01</td>\n",
       "      <td>3024.58</td>\n",
       "    </tr>\n",
       "  </tbody>\n",
       "</table>\n",
       "</div>"
      ],
      "text/plain": [
       "              Модель  Время обучения, секунд  Время предсказания, секунд  \\\n",
       "0           LightGBM                    3.15                        0.36   \n",
       "1  CatBoostRegressor                    8.65                        0.01   \n",
       "2            RidgeCV                    0.05                        0.01   \n",
       "\n",
       "     RMSE  \n",
       "0 1718.07  \n",
       "1 1735.09  \n",
       "2 3024.58  "
      ]
     },
     "execution_count": 84,
     "metadata": {},
     "output_type": "execute_result"
    }
   ],
   "source": [
    "results = pd.DataFrame({'Модель': ['LightGBM', 'CatBoostRegressor', 'RidgeCV'],\n",
    "                        'Время обучения, секунд': [training_time_lgb, training_time_catboost, training_time_ridge],\n",
    "                        'Время предсказания, секунд': [prediction_time_lgb, prediction_time_catboost, prediction_time_ridge],\n",
    "                        'RMSE': [rmse_lgb, rmse_catboost, rmse_ridge]})\n",
    "\n",
    "# Вывод результатов\n",
    "results"
   ]
  },
  {
   "cell_type": "markdown",
   "metadata": {},
   "source": [
    "**Выводы по анализу моделей**\n",
    "\n",
    "***1)*** RidgeCV быстрее всех обучается и предсказывает, при этом его качество (метрика RMSE) не проходит критерий качества заказчика (RMSE = 3024 > 2500).\n",
    "\n",
    "***2)*** LightGBM демонстрирует лучшую метрику  RMSE (1718), но самое длительное время обучения (250 секунд) и предсказания.\n",
    "CatBoost так же показал высокую метрику RMSE (1735, почти такую же как LightGBM), при этом время обучения в 10 раз меньше, чем у LightGBM, а предсказания на 3 порядка быстрее (0,05 секунд).\n",
    "\n",
    "***3)*** RidgeCV показал плохое качество предсказаний (максимальную метрику RMSE), но минимальное время обучения (0,19 секунд) и предсказания (0,09 секунд). \n",
    "\n",
    "Оптимальным вариантом является модель CatBoost, так как у этой модели лучшее соотношение результатов, важных для заказчика: метрика RMSE почти такая же, как у LightGBM (1718), а время обучения (22 секунды) и предсказания (0,05 секунд) существенно ниже, чем у LightGBM."
   ]
  },
  {
   "cell_type": "markdown",
   "metadata": {},
   "source": [
    "## Тестирование лучшей модели"
   ]
  },
  {
   "cell_type": "code",
   "execution_count": 85,
   "metadata": {},
   "outputs": [
    {
     "name": "stdout",
     "output_type": "stream",
     "text": [
      "RMSE модели CatBoost на тестовой выборке: 1699.72\n"
     ]
    },
    {
     "name": "stderr",
     "output_type": "stream",
     "text": [
      "C:\\Users\\babay\\anaconda3\\Lib\\site-packages\\sklearn\\metrics\\_regression.py:492: FutureWarning: 'squared' is deprecated in version 1.4 and will be removed in 1.6. To calculate the root mean squared error, use the function'root_mean_squared_error'.\n",
      "  warnings.warn(\n"
     ]
    }
   ],
   "source": [
    "# Оценка качества моделиCatBoost на тестовой выборке\n",
    "rmse_test = mean_squared_error(target_test, model_catboost.predict(features_test), squared=False)\n",
    "\n",
    "print(\"RMSE модели CatBoost на тестовой выборке: %.2f\" % rmse_test)"
   ]
  },
  {
   "cell_type": "markdown",
   "metadata": {},
   "source": [
    "Результат работы лучшей модели CatBoost на тестовой выборке удовлетворяет требованиям заказчика."
   ]
  },
  {
   "cell_type": "markdown",
   "metadata": {},
   "source": [
    "**Итоговый вывод:**\n",
    "\n",
    "По результатам обучения трех моделей: LightGBM, CatBoostRegressor, RidgeCV оптимальные по требованиям заказчика результаты получились у модели CatBoostRegressor. Метрика RMSE на тестовой выборке  - 1699, время обучения - 22 секунды, время предсказания - 0,05 секунд.\n",
    "\n"
   ]
  }
 ],
 "metadata": {
  "ExecuteTimeLog": [
   {
    "duration": 6779,
    "start_time": "2024-05-10T13:59:10.776Z"
   },
   {
    "duration": 2370,
    "start_time": "2024-05-10T13:59:25.508Z"
   },
   {
    "duration": 1812,
    "start_time": "2024-05-10T13:59:32.522Z"
   },
   {
    "duration": 10,
    "start_time": "2024-05-10T13:59:50.709Z"
   },
   {
    "duration": 44,
    "start_time": "2024-05-10T14:00:18.426Z"
   },
   {
    "duration": 3,
    "start_time": "2024-05-10T14:05:19.995Z"
   },
   {
    "duration": 1216,
    "start_time": "2024-05-10T14:05:21.412Z"
   },
   {
    "duration": 18,
    "start_time": "2024-05-10T14:05:23.529Z"
   },
   {
    "duration": 157,
    "start_time": "2024-05-10T14:07:13.215Z"
   },
   {
    "duration": 3,
    "start_time": "2024-05-10T14:21:41.341Z"
   },
   {
    "duration": 52,
    "start_time": "2024-05-10T14:23:08.345Z"
   },
   {
    "duration": 42,
    "start_time": "2024-05-10T14:23:41.481Z"
   },
   {
    "duration": 11,
    "start_time": "2024-05-10T14:23:50.174Z"
   },
   {
    "duration": 88,
    "start_time": "2024-05-10T14:28:53.889Z"
   },
   {
    "duration": 100,
    "start_time": "2024-05-10T14:29:04.665Z"
   },
   {
    "duration": 13,
    "start_time": "2024-05-10T14:29:11.888Z"
   },
   {
    "duration": 19,
    "start_time": "2024-05-10T14:31:48.125Z"
   },
   {
    "duration": 11,
    "start_time": "2024-05-10T14:31:58.037Z"
   },
   {
    "duration": 99,
    "start_time": "2024-05-10T14:32:22.263Z"
   },
   {
    "duration": 29,
    "start_time": "2024-05-10T14:33:43.995Z"
   },
   {
    "duration": 96,
    "start_time": "2024-05-10T14:33:45.436Z"
   },
   {
    "duration": 12,
    "start_time": "2024-05-10T14:34:01.665Z"
   },
   {
    "duration": 18,
    "start_time": "2024-05-10T14:37:42.405Z"
   },
   {
    "duration": 2473,
    "start_time": "2024-05-10T14:38:19.406Z"
   },
   {
    "duration": 1420,
    "start_time": "2024-05-10T14:38:25.531Z"
   },
   {
    "duration": 3,
    "start_time": "2024-05-10T14:38:28.722Z"
   },
   {
    "duration": 888,
    "start_time": "2024-05-10T14:38:34.241Z"
   },
   {
    "duration": 16,
    "start_time": "2024-05-10T14:38:36.583Z"
   },
   {
    "duration": 149,
    "start_time": "2024-05-10T14:38:40.942Z"
   },
   {
    "duration": 54,
    "start_time": "2024-05-10T14:38:43.550Z"
   },
   {
    "duration": 2,
    "start_time": "2024-05-10T14:38:49.896Z"
   },
   {
    "duration": 47,
    "start_time": "2024-05-10T14:38:51.574Z"
   },
   {
    "duration": 100,
    "start_time": "2024-05-10T14:38:53.681Z"
   },
   {
    "duration": 38,
    "start_time": "2024-05-10T14:38:55.391Z"
   },
   {
    "duration": 102,
    "start_time": "2024-05-10T14:38:59.761Z"
   },
   {
    "duration": 12,
    "start_time": "2024-05-10T14:39:04.830Z"
   },
   {
    "duration": 74,
    "start_time": "2024-05-10T14:46:24.490Z"
   },
   {
    "duration": 161,
    "start_time": "2024-05-10T14:46:37.114Z"
   },
   {
    "duration": 3,
    "start_time": "2024-05-10T14:46:44.769Z"
   },
   {
    "duration": 3,
    "start_time": "2024-05-10T14:46:46.921Z"
   },
   {
    "duration": 394,
    "start_time": "2024-05-10T14:46:48.299Z"
   },
   {
    "duration": 3,
    "start_time": "2024-05-10T14:53:24.220Z"
   },
   {
    "duration": 285,
    "start_time": "2024-05-10T14:53:28.117Z"
   },
   {
    "duration": 22,
    "start_time": "2024-05-10T14:54:06.913Z"
   },
   {
    "duration": 3,
    "start_time": "2024-05-10T14:54:21.369Z"
   },
   {
    "duration": 264,
    "start_time": "2024-05-10T14:54:22.660Z"
   },
   {
    "duration": 4,
    "start_time": "2024-05-10T14:54:49.796Z"
   },
   {
    "duration": 274,
    "start_time": "2024-05-10T14:54:53.640Z"
   },
   {
    "duration": 3,
    "start_time": "2024-05-10T14:55:01.140Z"
   },
   {
    "duration": 82,
    "start_time": "2024-05-10T14:55:02.450Z"
   },
   {
    "duration": 13,
    "start_time": "2024-05-10T14:55:17.661Z"
   },
   {
    "duration": 3,
    "start_time": "2024-05-10T14:55:40.015Z"
   },
   {
    "duration": 75,
    "start_time": "2024-05-10T14:55:41.576Z"
   },
   {
    "duration": 13,
    "start_time": "2024-05-10T14:55:44.596Z"
   },
   {
    "duration": 3,
    "start_time": "2024-05-10T14:56:14.196Z"
   },
   {
    "duration": 82,
    "start_time": "2024-05-10T14:56:15.382Z"
   },
   {
    "duration": 12,
    "start_time": "2024-05-10T14:56:16.554Z"
   },
   {
    "duration": 2,
    "start_time": "2024-05-10T14:57:04.775Z"
   },
   {
    "duration": 319,
    "start_time": "2024-05-10T14:57:05.917Z"
   },
   {
    "duration": 3,
    "start_time": "2024-05-10T14:58:36.665Z"
   },
   {
    "duration": 79,
    "start_time": "2024-05-10T14:58:37.533Z"
   },
   {
    "duration": 12,
    "start_time": "2024-05-10T14:58:40.653Z"
   },
   {
    "duration": 115,
    "start_time": "2024-05-10T14:58:53.176Z"
   },
   {
    "duration": 22,
    "start_time": "2024-05-10T15:02:43.729Z"
   },
   {
    "duration": 24,
    "start_time": "2024-05-10T15:03:10.654Z"
   },
   {
    "duration": 2357,
    "start_time": "2024-05-10T15:06:48.945Z"
   },
   {
    "duration": 1407,
    "start_time": "2024-05-10T15:06:52.416Z"
   },
   {
    "duration": 3,
    "start_time": "2024-05-10T15:06:55.656Z"
   },
   {
    "duration": 853,
    "start_time": "2024-05-10T15:06:56.737Z"
   },
   {
    "duration": 17,
    "start_time": "2024-05-10T15:07:01.448Z"
   },
   {
    "duration": 56,
    "start_time": "2024-05-10T15:07:08.084Z"
   },
   {
    "duration": 3,
    "start_time": "2024-05-10T15:07:09.395Z"
   },
   {
    "duration": 41,
    "start_time": "2024-05-10T15:07:10.435Z"
   },
   {
    "duration": 88,
    "start_time": "2024-05-10T15:07:12.438Z"
   },
   {
    "duration": 32,
    "start_time": "2024-05-10T15:07:16.411Z"
   },
   {
    "duration": 21,
    "start_time": "2024-05-10T15:07:20.847Z"
   },
   {
    "duration": 52,
    "start_time": "2024-05-10T15:07:26.947Z"
   },
   {
    "duration": 11,
    "start_time": "2024-05-10T15:07:45.417Z"
   },
   {
    "duration": 103,
    "start_time": "2024-05-10T15:07:55.355Z"
   },
   {
    "duration": 30,
    "start_time": "2024-05-10T15:09:47.886Z"
   },
   {
    "duration": 94,
    "start_time": "2024-05-10T15:09:57.536Z"
   },
   {
    "duration": 11,
    "start_time": "2024-05-10T15:10:08.332Z"
   },
   {
    "duration": 2427,
    "start_time": "2024-05-10T15:10:41.051Z"
   },
   {
    "duration": 1480,
    "start_time": "2024-05-10T15:10:43.480Z"
   },
   {
    "duration": 3,
    "start_time": "2024-05-10T15:10:44.961Z"
   },
   {
    "duration": 878,
    "start_time": "2024-05-10T15:10:44.966Z"
   },
   {
    "duration": 24,
    "start_time": "2024-05-10T15:10:45.846Z"
   },
   {
    "duration": 144,
    "start_time": "2024-05-10T15:10:45.871Z"
   },
   {
    "duration": 66,
    "start_time": "2024-05-10T15:10:46.017Z"
   },
   {
    "duration": 4,
    "start_time": "2024-05-10T15:10:46.085Z"
   },
   {
    "duration": 41,
    "start_time": "2024-05-10T15:10:46.090Z"
   },
   {
    "duration": 111,
    "start_time": "2024-05-10T15:10:46.133Z"
   },
   {
    "duration": 37,
    "start_time": "2024-05-10T15:10:46.245Z"
   },
   {
    "duration": 102,
    "start_time": "2024-05-10T15:10:46.284Z"
   },
   {
    "duration": 10,
    "start_time": "2024-05-10T15:10:46.388Z"
   },
   {
    "duration": 24,
    "start_time": "2024-05-10T15:10:46.400Z"
   },
   {
    "duration": 75,
    "start_time": "2024-05-10T15:10:46.426Z"
   },
   {
    "duration": 102,
    "start_time": "2024-05-10T15:10:46.502Z"
   },
   {
    "duration": 18,
    "start_time": "2024-05-10T15:10:46.606Z"
   },
   {
    "duration": 103,
    "start_time": "2024-05-10T15:10:46.625Z"
   },
   {
    "duration": 10,
    "start_time": "2024-05-10T15:10:46.729Z"
   },
   {
    "duration": 2420,
    "start_time": "2024-05-10T15:10:46.741Z"
   },
   {
    "duration": 5,
    "start_time": "2024-05-10T15:10:49.995Z"
   },
   {
    "duration": 2425,
    "start_time": "2024-05-10T15:10:56.306Z"
   },
   {
    "duration": 1574,
    "start_time": "2024-05-10T15:10:59.446Z"
   },
   {
    "duration": 3,
    "start_time": "2024-05-10T15:11:01.669Z"
   },
   {
    "duration": 942,
    "start_time": "2024-05-10T15:11:02.657Z"
   },
   {
    "duration": 20,
    "start_time": "2024-05-10T15:11:06.975Z"
   },
   {
    "duration": 55,
    "start_time": "2024-05-10T15:11:12.942Z"
   },
   {
    "duration": 3,
    "start_time": "2024-05-10T15:11:14.537Z"
   },
   {
    "duration": 41,
    "start_time": "2024-05-10T15:11:15.526Z"
   },
   {
    "duration": 93,
    "start_time": "2024-05-10T15:11:16.847Z"
   },
   {
    "duration": 32,
    "start_time": "2024-05-10T15:11:18.308Z"
   },
   {
    "duration": 22,
    "start_time": "2024-05-10T15:11:23.279Z"
   },
   {
    "duration": 45,
    "start_time": "2024-05-10T15:11:27.899Z"
   },
   {
    "duration": 106,
    "start_time": "2024-05-10T15:11:30.116Z"
   },
   {
    "duration": 11,
    "start_time": "2024-05-10T15:11:38.617Z"
   },
   {
    "duration": 34,
    "start_time": "2024-05-10T15:12:07.920Z"
   },
   {
    "duration": 11,
    "start_time": "2024-05-10T15:12:15.258Z"
   },
   {
    "duration": 11,
    "start_time": "2024-05-10T15:14:23.817Z"
   },
   {
    "duration": 2414,
    "start_time": "2024-05-10T15:14:35.555Z"
   },
   {
    "duration": 1518,
    "start_time": "2024-05-10T15:14:39.096Z"
   },
   {
    "duration": 3,
    "start_time": "2024-05-10T15:14:41.956Z"
   },
   {
    "duration": 905,
    "start_time": "2024-05-10T15:14:43.419Z"
   },
   {
    "duration": 17,
    "start_time": "2024-05-10T15:14:45.008Z"
   },
   {
    "duration": 162,
    "start_time": "2024-05-10T15:14:49.248Z"
   },
   {
    "duration": 59,
    "start_time": "2024-05-10T15:14:54.298Z"
   },
   {
    "duration": 2,
    "start_time": "2024-05-10T15:14:55.929Z"
   },
   {
    "duration": 42,
    "start_time": "2024-05-10T15:14:57.107Z"
   },
   {
    "duration": 113,
    "start_time": "2024-05-10T15:14:58.115Z"
   },
   {
    "duration": 33,
    "start_time": "2024-05-10T15:14:59.088Z"
   },
   {
    "duration": 23,
    "start_time": "2024-05-10T15:15:05.022Z"
   },
   {
    "duration": 51,
    "start_time": "2024-05-10T15:15:06.076Z"
   },
   {
    "duration": 100,
    "start_time": "2024-05-10T15:15:10.187Z"
   },
   {
    "duration": 11,
    "start_time": "2024-05-10T15:15:12.893Z"
   },
   {
    "duration": 97,
    "start_time": "2024-05-10T15:45:02.661Z"
   },
   {
    "duration": 141,
    "start_time": "2024-05-10T15:45:53.231Z"
   },
   {
    "duration": 104,
    "start_time": "2024-05-10T15:48:12.191Z"
   },
   {
    "duration": 125,
    "start_time": "2024-05-10T15:48:56.801Z"
   },
   {
    "duration": 4,
    "start_time": "2024-05-10T15:49:18.301Z"
   },
   {
    "duration": 4,
    "start_time": "2024-05-10T15:49:23.173Z"
   },
   {
    "duration": 4,
    "start_time": "2024-05-10T15:49:27.893Z"
   },
   {
    "duration": 7,
    "start_time": "2024-05-10T15:49:36.453Z"
   },
   {
    "duration": 76,
    "start_time": "2024-05-10T15:51:37.121Z"
   },
   {
    "duration": 26,
    "start_time": "2024-05-10T16:02:41.256Z"
   },
   {
    "duration": 25,
    "start_time": "2024-05-10T16:03:00.533Z"
   },
   {
    "duration": 29,
    "start_time": "2024-05-10T16:03:44.993Z"
   },
   {
    "duration": 24,
    "start_time": "2024-05-10T16:04:02.799Z"
   },
   {
    "duration": 25,
    "start_time": "2024-05-10T16:05:25.914Z"
   },
   {
    "duration": 24,
    "start_time": "2024-05-10T16:09:07.383Z"
   },
   {
    "duration": 28,
    "start_time": "2024-05-10T16:10:59.034Z"
   },
   {
    "duration": 26,
    "start_time": "2024-05-10T16:14:56.035Z"
   },
   {
    "duration": 80,
    "start_time": "2024-05-10T16:19:14.058Z"
   },
   {
    "duration": 74,
    "start_time": "2024-05-10T16:19:33.374Z"
   },
   {
    "duration": 83,
    "start_time": "2024-05-10T16:21:36.615Z"
   },
   {
    "duration": 37,
    "start_time": "2024-05-10T16:21:43.253Z"
   },
   {
    "duration": 42,
    "start_time": "2024-05-10T16:22:06.257Z"
   },
   {
    "duration": 55,
    "start_time": "2024-05-10T16:22:13.652Z"
   },
   {
    "duration": 43,
    "start_time": "2024-05-10T16:22:57.511Z"
   },
   {
    "duration": 18,
    "start_time": "2024-05-10T16:23:32.304Z"
   },
   {
    "duration": 25,
    "start_time": "2024-05-10T16:23:47.502Z"
   },
   {
    "duration": 15,
    "start_time": "2024-05-10T16:25:48.433Z"
   },
   {
    "duration": 14,
    "start_time": "2024-05-10T16:27:50.372Z"
   },
   {
    "duration": 13,
    "start_time": "2024-05-10T16:30:24.380Z"
   },
   {
    "duration": 13,
    "start_time": "2024-05-10T16:30:51.897Z"
   },
   {
    "duration": 14,
    "start_time": "2024-05-10T16:36:34.746Z"
   },
   {
    "duration": 20,
    "start_time": "2024-05-10T16:38:16.107Z"
   },
   {
    "duration": 6,
    "start_time": "2024-05-10T16:38:22.460Z"
   },
   {
    "duration": 7,
    "start_time": "2024-05-10T16:38:59.058Z"
   },
   {
    "duration": 2376,
    "start_time": "2024-05-10T16:39:10.039Z"
   },
   {
    "duration": 1486,
    "start_time": "2024-05-10T16:39:16.609Z"
   },
   {
    "duration": 3,
    "start_time": "2024-05-10T16:39:19.279Z"
   },
   {
    "duration": 921,
    "start_time": "2024-05-10T16:39:23.436Z"
   },
   {
    "duration": 16,
    "start_time": "2024-05-10T16:39:25.066Z"
   },
   {
    "duration": 54,
    "start_time": "2024-05-10T16:39:30.195Z"
   },
   {
    "duration": 3,
    "start_time": "2024-05-10T16:39:31.715Z"
   },
   {
    "duration": 42,
    "start_time": "2024-05-10T16:39:32.761Z"
   },
   {
    "duration": 100,
    "start_time": "2024-05-10T16:39:34.163Z"
   },
   {
    "duration": 33,
    "start_time": "2024-05-10T16:39:35.437Z"
   },
   {
    "duration": 47,
    "start_time": "2024-05-10T16:39:50.145Z"
   },
   {
    "duration": 107,
    "start_time": "2024-05-10T16:39:54.427Z"
   },
   {
    "duration": 3,
    "start_time": "2024-05-10T16:39:56.047Z"
   },
   {
    "duration": 6,
    "start_time": "2024-05-10T16:39:56.931Z"
   },
   {
    "duration": 73,
    "start_time": "2024-05-10T16:40:02.346Z"
   },
   {
    "duration": 28,
    "start_time": "2024-05-10T16:40:04.098Z"
   },
   {
    "duration": 50,
    "start_time": "2024-05-10T16:40:08.382Z"
   },
   {
    "duration": 12,
    "start_time": "2024-05-10T16:40:15.091Z"
   },
   {
    "duration": 568,
    "start_time": "2024-05-10T16:44:46.550Z"
   },
   {
    "duration": 477,
    "start_time": "2024-05-10T16:45:25.218Z"
   },
   {
    "duration": 2449,
    "start_time": "2024-05-10T16:46:14.709Z"
   },
   {
    "duration": 1489,
    "start_time": "2024-05-10T16:46:24.647Z"
   },
   {
    "duration": 4,
    "start_time": "2024-05-10T16:46:27.786Z"
   },
   {
    "duration": 922,
    "start_time": "2024-05-10T16:46:30.069Z"
   },
   {
    "duration": 16,
    "start_time": "2024-05-10T16:46:32.126Z"
   },
   {
    "duration": 53,
    "start_time": "2024-05-10T16:46:39.066Z"
   },
   {
    "duration": 2,
    "start_time": "2024-05-10T16:46:40.709Z"
   },
   {
    "duration": 39,
    "start_time": "2024-05-10T16:46:42.129Z"
   },
   {
    "duration": 91,
    "start_time": "2024-05-10T16:46:43.786Z"
   },
   {
    "duration": 12,
    "start_time": "2024-05-10T16:46:49.739Z"
   },
   {
    "duration": 33,
    "start_time": "2024-05-10T16:46:52.337Z"
   },
   {
    "duration": 120,
    "start_time": "2024-05-10T16:46:53.556Z"
   },
   {
    "duration": 45,
    "start_time": "2024-05-10T16:47:00.049Z"
   },
   {
    "duration": 104,
    "start_time": "2024-05-10T16:47:05.581Z"
   },
   {
    "duration": 3,
    "start_time": "2024-05-10T16:47:06.929Z"
   },
   {
    "duration": 74,
    "start_time": "2024-05-10T16:47:11.721Z"
   },
   {
    "duration": 26,
    "start_time": "2024-05-10T16:47:13.927Z"
   },
   {
    "duration": 51,
    "start_time": "2024-05-10T16:47:19.343Z"
   },
   {
    "duration": 14,
    "start_time": "2024-05-10T16:47:22.257Z"
   },
   {
    "duration": 567,
    "start_time": "2024-05-10T16:47:25.661Z"
   },
   {
    "duration": 42,
    "start_time": "2024-05-10T16:49:29.626Z"
   },
   {
    "duration": 69,
    "start_time": "2024-05-10T16:49:54.319Z"
   },
   {
    "duration": 46,
    "start_time": "2024-05-11T03:28:07.317Z"
   },
   {
    "duration": 40,
    "start_time": "2024-05-11T03:28:46.210Z"
   },
   {
    "duration": 5856,
    "start_time": "2024-05-11T03:28:53.718Z"
   },
   {
    "duration": 1391,
    "start_time": "2024-05-11T03:29:03.354Z"
   },
   {
    "duration": 2,
    "start_time": "2024-05-11T03:29:06.796Z"
   },
   {
    "duration": 2778,
    "start_time": "2024-05-11T03:29:08.729Z"
   },
   {
    "duration": 13,
    "start_time": "2024-05-11T03:29:11.509Z"
   },
   {
    "duration": 45,
    "start_time": "2024-05-11T03:29:19.968Z"
   },
   {
    "duration": 2,
    "start_time": "2024-05-11T03:29:21.255Z"
   },
   {
    "duration": 39,
    "start_time": "2024-05-11T03:29:22.631Z"
   },
   {
    "duration": 83,
    "start_time": "2024-05-11T03:29:23.872Z"
   },
   {
    "duration": 17,
    "start_time": "2024-05-11T03:29:28.992Z"
   },
   {
    "duration": 15,
    "start_time": "2024-05-11T03:29:34.932Z"
   },
   {
    "duration": 35,
    "start_time": "2024-05-11T03:29:36.089Z"
   },
   {
    "duration": 65,
    "start_time": "2024-05-11T03:29:42.926Z"
   },
   {
    "duration": 3,
    "start_time": "2024-05-11T03:29:46.473Z"
   },
   {
    "duration": 6,
    "start_time": "2024-05-11T03:29:48.551Z"
   },
   {
    "duration": 63,
    "start_time": "2024-05-11T03:30:12.926Z"
   },
   {
    "duration": 22,
    "start_time": "2024-05-11T03:30:21.324Z"
   },
   {
    "duration": 50,
    "start_time": "2024-05-11T03:30:27.200Z"
   },
   {
    "duration": 9,
    "start_time": "2024-05-11T03:30:29.635Z"
   },
   {
    "duration": 73,
    "start_time": "2024-05-11T03:31:31.038Z"
   },
   {
    "duration": 6,
    "start_time": "2024-05-11T03:32:46.571Z"
   },
   {
    "duration": 6,
    "start_time": "2024-05-11T03:32:50.736Z"
   },
   {
    "duration": 17,
    "start_time": "2024-05-11T03:37:37.360Z"
   },
   {
    "duration": 26,
    "start_time": "2024-05-11T03:38:20.482Z"
   },
   {
    "duration": 66,
    "start_time": "2024-05-11T03:39:41.683Z"
   },
   {
    "duration": 9,
    "start_time": "2024-05-11T03:40:08.095Z"
   },
   {
    "duration": 5,
    "start_time": "2024-05-11T03:40:10.473Z"
   },
   {
    "duration": 2,
    "start_time": "2024-05-11T03:40:12.174Z"
   },
   {
    "duration": 408,
    "start_time": "2024-05-11T03:40:13.975Z"
   },
   {
    "duration": 4,
    "start_time": "2024-05-11T03:43:53.804Z"
   },
   {
    "duration": 66,
    "start_time": "2024-05-11T03:44:36.863Z"
   },
   {
    "duration": 5,
    "start_time": "2024-05-11T03:50:19.533Z"
   },
   {
    "duration": 373,
    "start_time": "2024-05-11T03:50:25.589Z"
   },
   {
    "duration": 2363,
    "start_time": "2024-05-11T03:52:17.077Z"
   },
   {
    "duration": 1228,
    "start_time": "2024-05-11T03:52:22.701Z"
   },
   {
    "duration": 3,
    "start_time": "2024-05-11T03:52:25.850Z"
   },
   {
    "duration": 715,
    "start_time": "2024-05-11T03:52:30.277Z"
   },
   {
    "duration": 15,
    "start_time": "2024-05-11T03:52:36.587Z"
   },
   {
    "duration": 40,
    "start_time": "2024-05-11T03:52:42.027Z"
   },
   {
    "duration": 3,
    "start_time": "2024-05-11T03:52:44.425Z"
   },
   {
    "duration": 37,
    "start_time": "2024-05-11T03:52:45.691Z"
   },
   {
    "duration": 81,
    "start_time": "2024-05-11T03:52:51.026Z"
   },
   {
    "duration": 14,
    "start_time": "2024-05-11T03:52:52.171Z"
   },
   {
    "duration": 36,
    "start_time": "2024-05-11T03:52:58.378Z"
   },
   {
    "duration": 88,
    "start_time": "2024-05-11T03:53:03.652Z"
   },
   {
    "duration": 4,
    "start_time": "2024-05-11T03:53:06.653Z"
   },
   {
    "duration": 29,
    "start_time": "2024-05-11T03:53:11.891Z"
   },
   {
    "duration": 48,
    "start_time": "2024-05-11T03:53:13.476Z"
   },
   {
    "duration": 10,
    "start_time": "2024-05-11T03:53:15.453Z"
   },
   {
    "duration": 67,
    "start_time": "2024-05-11T03:53:25.355Z"
   },
   {
    "duration": 6,
    "start_time": "2024-05-11T03:53:26.715Z"
   },
   {
    "duration": 5,
    "start_time": "2024-05-11T03:53:31.972Z"
   },
   {
    "duration": 2,
    "start_time": "2024-05-11T03:53:33.331Z"
   },
   {
    "duration": 4,
    "start_time": "2024-05-11T03:53:37.466Z"
   },
   {
    "duration": 165,
    "start_time": "2024-05-11T03:53:42.275Z"
   },
   {
    "duration": 4,
    "start_time": "2024-05-11T03:53:54.114Z"
   },
   {
    "duration": 3,
    "start_time": "2024-05-11T03:53:55.586Z"
   },
   {
    "duration": 397,
    "start_time": "2024-05-11T03:54:05.027Z"
   },
   {
    "duration": 4,
    "start_time": "2024-05-11T03:58:41.747Z"
   },
   {
    "duration": 2,
    "start_time": "2024-05-11T03:58:42.846Z"
   },
   {
    "duration": 404,
    "start_time": "2024-05-11T03:58:48.139Z"
   },
   {
    "duration": 3,
    "start_time": "2024-05-11T04:03:10.617Z"
   },
   {
    "duration": 2,
    "start_time": "2024-05-11T04:03:12.368Z"
   },
   {
    "duration": 253,
    "start_time": "2024-05-11T04:03:17.174Z"
   },
   {
    "duration": 63,
    "start_time": "2024-05-11T04:03:43.935Z"
   },
   {
    "duration": 77,
    "start_time": "2024-05-11T04:04:21.856Z"
   },
   {
    "duration": 639,
    "start_time": "2024-05-11T04:05:56.909Z"
   },
   {
    "duration": 17,
    "start_time": "2024-05-11T04:06:07.718Z"
   },
   {
    "duration": 27,
    "start_time": "2024-05-11T04:06:23.910Z"
   },
   {
    "duration": 211,
    "start_time": "2024-05-11T04:07:23.036Z"
   },
   {
    "duration": 70,
    "start_time": "2024-05-11T04:07:54.567Z"
   },
   {
    "duration": 10,
    "start_time": "2024-05-11T04:08:57.547Z"
   },
   {
    "duration": 4,
    "start_time": "2024-05-11T04:09:34.913Z"
   },
   {
    "duration": 3,
    "start_time": "2024-05-11T04:11:00.725Z"
   },
   {
    "duration": 360,
    "start_time": "2024-05-11T04:11:36.190Z"
   },
   {
    "duration": 3,
    "start_time": "2024-05-11T04:12:00.155Z"
   },
   {
    "duration": 450,
    "start_time": "2024-05-11T04:12:05.236Z"
   },
   {
    "duration": 48,
    "start_time": "2024-05-11T04:16:34.837Z"
   },
   {
    "duration": 4,
    "start_time": "2024-05-11T04:16:41.254Z"
   },
   {
    "duration": 455,
    "start_time": "2024-05-11T04:16:46.204Z"
   },
   {
    "duration": 4,
    "start_time": "2024-05-11T04:17:11.020Z"
   },
   {
    "duration": 350,
    "start_time": "2024-05-11T04:17:15.608Z"
   },
   {
    "duration": 4,
    "start_time": "2024-05-11T04:28:29.771Z"
   },
   {
    "duration": 320,
    "start_time": "2024-05-11T04:28:34.629Z"
   },
   {
    "duration": 3,
    "start_time": "2024-05-11T04:29:41.132Z"
   },
   {
    "duration": 324,
    "start_time": "2024-05-11T04:29:46.029Z"
   },
   {
    "duration": 78,
    "start_time": "2024-05-11T04:56:48.575Z"
   },
   {
    "duration": 4,
    "start_time": "2024-05-11T04:57:56.032Z"
   },
   {
    "duration": 386,
    "start_time": "2024-05-11T04:58:02.543Z"
   },
   {
    "duration": 823,
    "start_time": "2024-05-11T05:14:02.368Z"
   },
   {
    "duration": 5,
    "start_time": "2024-05-11T05:14:16.274Z"
   },
   {
    "duration": 2,
    "start_time": "2024-05-11T05:14:19.270Z"
   },
   {
    "duration": 44,
    "start_time": "2024-05-11T05:14:23.849Z"
   },
   {
    "duration": 4,
    "start_time": "2024-05-11T05:15:14.085Z"
   },
   {
    "duration": 3,
    "start_time": "2024-05-11T05:15:15.454Z"
   },
   {
    "duration": 192,
    "start_time": "2024-05-11T05:15:20.643Z"
   },
   {
    "duration": 63,
    "start_time": "2024-05-11T05:17:00.797Z"
   },
   {
    "duration": 8011,
    "start_time": "2024-05-11T10:30:22.438Z"
   },
   {
    "duration": 1940,
    "start_time": "2024-05-11T10:30:33.908Z"
   },
   {
    "duration": 3,
    "start_time": "2024-05-11T10:30:37.515Z"
   },
   {
    "duration": 1270,
    "start_time": "2024-05-11T10:30:45.906Z"
   },
   {
    "duration": 57,
    "start_time": "2024-05-11T10:30:54.827Z"
   },
   {
    "duration": 3,
    "start_time": "2024-05-11T10:30:57.587Z"
   },
   {
    "duration": 39,
    "start_time": "2024-05-11T10:31:02.027Z"
   },
   {
    "duration": 119,
    "start_time": "2024-05-11T10:31:04.344Z"
   },
   {
    "duration": 33,
    "start_time": "2024-05-11T10:31:05.408Z"
   },
   {
    "duration": 26,
    "start_time": "2024-05-11T10:31:13.807Z"
   },
   {
    "duration": 54,
    "start_time": "2024-05-11T10:31:15.157Z"
   },
   {
    "duration": 121,
    "start_time": "2024-05-11T10:31:23.938Z"
   },
   {
    "duration": 7,
    "start_time": "2024-05-11T10:31:25.806Z"
   },
   {
    "duration": 7,
    "start_time": "2024-05-11T10:31:26.837Z"
   },
   {
    "duration": 47,
    "start_time": "2024-05-11T10:31:35.789Z"
   },
   {
    "duration": 49,
    "start_time": "2024-05-11T10:31:38.235Z"
   },
   {
    "duration": 45,
    "start_time": "2024-05-11T10:31:50.106Z"
   },
   {
    "duration": 12,
    "start_time": "2024-05-11T10:31:52.256Z"
   },
   {
    "duration": 42,
    "start_time": "2024-05-11T10:31:55.443Z"
   },
   {
    "duration": 113,
    "start_time": "2024-05-11T10:31:57.055Z"
   },
   {
    "duration": 2761,
    "start_time": "2024-05-11T10:32:31.889Z"
   },
   {
    "duration": 1605,
    "start_time": "2024-05-11T10:32:36.238Z"
   },
   {
    "duration": 3,
    "start_time": "2024-05-11T10:32:39.159Z"
   },
   {
    "duration": 1030,
    "start_time": "2024-05-11T10:32:40.798Z"
   },
   {
    "duration": 18,
    "start_time": "2024-05-11T10:32:46.627Z"
   },
   {
    "duration": 58,
    "start_time": "2024-05-11T10:32:52.928Z"
   },
   {
    "duration": 3,
    "start_time": "2024-05-11T10:32:56.087Z"
   },
   {
    "duration": 49,
    "start_time": "2024-05-11T10:32:57.157Z"
   },
   {
    "duration": 132,
    "start_time": "2024-05-11T10:32:58.549Z"
   },
   {
    "duration": 39,
    "start_time": "2024-05-11T10:32:59.854Z"
   },
   {
    "duration": 29,
    "start_time": "2024-05-11T10:33:06.490Z"
   },
   {
    "duration": 47,
    "start_time": "2024-05-11T10:33:07.838Z"
   },
   {
    "duration": 119,
    "start_time": "2024-05-11T10:33:15.867Z"
   },
   {
    "duration": 4,
    "start_time": "2024-05-11T10:33:20.927Z"
   },
   {
    "duration": 9,
    "start_time": "2024-05-11T10:33:22.299Z"
   },
   {
    "duration": 79,
    "start_time": "2024-05-11T10:33:23.578Z"
   },
   {
    "duration": 29,
    "start_time": "2024-05-11T10:33:27.727Z"
   },
   {
    "duration": 56,
    "start_time": "2024-05-11T10:33:29.096Z"
   },
   {
    "duration": 12,
    "start_time": "2024-05-11T10:33:39.167Z"
   },
   {
    "duration": 122,
    "start_time": "2024-05-11T10:33:40.689Z"
   },
   {
    "duration": 8,
    "start_time": "2024-05-11T10:33:45.048Z"
   },
   {
    "duration": 5,
    "start_time": "2024-05-11T10:34:00.733Z"
   },
   {
    "duration": 2,
    "start_time": "2024-05-11T10:34:03.511Z"
   },
   {
    "duration": 39,
    "start_time": "2024-05-11T10:34:05.128Z"
   },
   {
    "duration": 347,
    "start_time": "2024-05-11T10:34:06.838Z"
   },
   {
    "duration": 41,
    "start_time": "2024-05-11T10:34:12.548Z"
   },
   {
    "duration": 325,
    "start_time": "2024-05-11T10:34:14.178Z"
   },
   {
    "duration": 150,
    "start_time": "2024-05-11T10:34:17.757Z"
   },
   {
    "duration": 250,
    "start_time": "2024-05-11T10:34:23.828Z"
   },
   {
    "duration": 112,
    "start_time": "2024-05-11T10:34:36.848Z"
   },
   {
    "duration": 11,
    "start_time": "2024-05-11T10:35:46.958Z"
   },
   {
    "duration": 22,
    "start_time": "2024-05-11T10:37:47.408Z"
   },
   {
    "duration": 129,
    "start_time": "2024-05-11T10:37:56.989Z"
   },
   {
    "duration": 33,
    "start_time": "2024-05-11T10:38:13.631Z"
   },
   {
    "duration": 124,
    "start_time": "2024-05-11T10:38:15.008Z"
   },
   {
    "duration": 169,
    "start_time": "2024-05-11T10:41:06.908Z"
   },
   {
    "duration": 115,
    "start_time": "2024-05-11T10:41:21.379Z"
   },
   {
    "duration": 212,
    "start_time": "2024-05-11T10:41:26.554Z"
   },
   {
    "duration": 122,
    "start_time": "2024-05-11T10:41:27.898Z"
   },
   {
    "duration": 5,
    "start_time": "2024-05-11T10:42:12.229Z"
   },
   {
    "duration": 2,
    "start_time": "2024-05-11T10:42:13.609Z"
   },
   {
    "duration": 63,
    "start_time": "2024-05-11T10:42:28.718Z"
   },
   {
    "duration": 172,
    "start_time": "2024-05-11T10:42:34.439Z"
   },
   {
    "duration": 114,
    "start_time": "2024-05-11T10:42:38.045Z"
   },
   {
    "duration": 327,
    "start_time": "2024-05-11T10:44:08.296Z"
   },
   {
    "duration": 139,
    "start_time": "2024-05-11T10:44:19.400Z"
   },
   {
    "duration": 73,
    "start_time": "2024-05-11T10:53:53.234Z"
   },
   {
    "duration": 121,
    "start_time": "2024-05-11T10:54:02.685Z"
   },
   {
    "duration": 73,
    "start_time": "2024-05-11T10:54:29.351Z"
   },
   {
    "duration": 81,
    "start_time": "2024-05-11T10:54:36.766Z"
   },
   {
    "duration": 7,
    "start_time": "2024-05-11T10:55:32.282Z"
   },
   {
    "duration": 86,
    "start_time": "2024-05-11T10:55:46.133Z"
   },
   {
    "duration": 25,
    "start_time": "2024-05-11T10:56:50.316Z"
   },
   {
    "duration": 41,
    "start_time": "2024-05-11T10:57:05.186Z"
   },
   {
    "duration": 41,
    "start_time": "2024-05-11T10:57:29.006Z"
   },
   {
    "duration": 87,
    "start_time": "2024-05-11T10:57:47.296Z"
   },
   {
    "duration": 26,
    "start_time": "2024-05-11T10:58:04.636Z"
   },
   {
    "duration": 43,
    "start_time": "2024-05-11T10:58:33.743Z"
   },
   {
    "duration": 47,
    "start_time": "2024-05-11T11:01:30.596Z"
   },
   {
    "duration": 181,
    "start_time": "2024-05-11T11:02:51.176Z"
   },
   {
    "duration": 111,
    "start_time": "2024-05-11T11:02:59.075Z"
   },
   {
    "duration": 162,
    "start_time": "2024-05-11T11:03:01.726Z"
   },
   {
    "duration": 88,
    "start_time": "2024-05-11T11:03:03.535Z"
   },
   {
    "duration": 4,
    "start_time": "2024-05-11T11:03:10.046Z"
   },
   {
    "duration": 3,
    "start_time": "2024-05-11T11:03:11.387Z"
   },
   {
    "duration": 171,
    "start_time": "2024-05-11T11:03:17.282Z"
   },
   {
    "duration": 88,
    "start_time": "2024-05-11T11:03:19.056Z"
   },
   {
    "duration": 15,
    "start_time": "2024-05-11T11:07:28.091Z"
   },
   {
    "duration": 56,
    "start_time": "2024-05-11T11:07:52.629Z"
   },
   {
    "duration": 11,
    "start_time": "2024-05-11T11:08:16.730Z"
   },
   {
    "duration": 31,
    "start_time": "2024-05-11T11:11:40.441Z"
   },
   {
    "duration": 20,
    "start_time": "2024-05-11T11:11:59.237Z"
   },
   {
    "duration": 11,
    "start_time": "2024-05-11T11:21:05.298Z"
   },
   {
    "duration": 10,
    "start_time": "2024-05-11T11:23:59.337Z"
   },
   {
    "duration": 4,
    "start_time": "2024-05-11T11:24:07.769Z"
   },
   {
    "duration": 5,
    "start_time": "2024-05-11T11:26:30.287Z"
   },
   {
    "duration": 48,
    "start_time": "2024-05-11T11:36:06.796Z"
   },
   {
    "duration": 5429,
    "start_time": "2024-05-11T11:37:20.003Z"
   },
   {
    "duration": 745,
    "start_time": "2024-05-11T11:38:15.814Z"
   },
   {
    "duration": 6190,
    "start_time": "2024-05-11T11:38:57.525Z"
   },
   {
    "duration": 14,
    "start_time": "2024-05-11T11:39:03.717Z"
   },
   {
    "duration": 23,
    "start_time": "2024-05-11T11:39:13.387Z"
   },
   {
    "duration": 6870,
    "start_time": "2024-05-11T11:40:09.317Z"
   },
   {
    "duration": 20,
    "start_time": "2024-05-11T11:40:29.898Z"
   },
   {
    "duration": 1222,
    "start_time": "2024-05-11T11:41:19.988Z"
   },
   {
    "duration": 29,
    "start_time": "2024-05-11T11:42:09.822Z"
   },
   {
    "duration": 1098,
    "start_time": "2024-05-11T11:42:56.154Z"
   },
   {
    "duration": 30,
    "start_time": "2024-05-11T11:43:02.993Z"
   },
   {
    "duration": 1134,
    "start_time": "2024-05-11T11:43:35.594Z"
   },
   {
    "duration": 17,
    "start_time": "2024-05-11T11:47:49.349Z"
   },
   {
    "duration": 60,
    "start_time": "2024-05-11T13:40:47.187Z"
   },
   {
    "duration": 11564,
    "start_time": "2024-05-11T13:40:55.836Z"
   },
   {
    "duration": 399,
    "start_time": "2024-05-11T13:41:10.036Z"
   },
   {
    "duration": 4,
    "start_time": "2024-05-11T13:41:11.976Z"
   },
   {
    "duration": 3205,
    "start_time": "2024-05-11T13:41:13.066Z"
   },
   {
    "duration": 56,
    "start_time": "2024-05-11T13:41:23.836Z"
   },
   {
    "duration": 3,
    "start_time": "2024-05-11T13:41:25.686Z"
   },
   {
    "duration": 41,
    "start_time": "2024-05-11T13:41:27.766Z"
   },
   {
    "duration": 103,
    "start_time": "2024-05-11T13:41:29.366Z"
   },
   {
    "duration": 38,
    "start_time": "2024-05-11T13:41:30.926Z"
   },
   {
    "duration": 59,
    "start_time": "2024-05-11T13:41:39.574Z"
   },
   {
    "duration": 109,
    "start_time": "2024-05-11T13:41:48.216Z"
   },
   {
    "duration": 4,
    "start_time": "2024-05-11T13:41:50.356Z"
   },
   {
    "duration": 81,
    "start_time": "2024-05-11T13:41:56.316Z"
   },
   {
    "duration": 30,
    "start_time": "2024-05-11T13:41:58.766Z"
   },
   {
    "duration": 55,
    "start_time": "2024-05-11T13:42:04.654Z"
   },
   {
    "duration": 13,
    "start_time": "2024-05-11T13:42:06.714Z"
   },
   {
    "duration": 99,
    "start_time": "2024-05-11T13:42:08.186Z"
   },
   {
    "duration": 10,
    "start_time": "2024-05-11T13:42:10.276Z"
   },
   {
    "duration": 4,
    "start_time": "2024-05-11T13:42:16.027Z"
   },
   {
    "duration": 3,
    "start_time": "2024-05-11T13:42:17.826Z"
   },
   {
    "duration": 38,
    "start_time": "2024-05-11T13:42:19.376Z"
   },
   {
    "duration": 283,
    "start_time": "2024-05-11T13:42:24.517Z"
   },
   {
    "duration": 39,
    "start_time": "2024-05-11T13:42:25.937Z"
   },
   {
    "duration": 305,
    "start_time": "2024-05-11T13:42:27.506Z"
   },
   {
    "duration": 231,
    "start_time": "2024-05-11T13:42:28.937Z"
   },
   {
    "duration": 113,
    "start_time": "2024-05-11T13:42:34.526Z"
   },
   {
    "duration": 22,
    "start_time": "2024-05-11T13:42:36.084Z"
   },
   {
    "duration": 44,
    "start_time": "2024-05-11T13:42:37.736Z"
   },
   {
    "duration": 180,
    "start_time": "2024-05-11T13:42:40.996Z"
   },
   {
    "duration": 275,
    "start_time": "2024-05-11T13:42:46.236Z"
   },
   {
    "duration": 63,
    "start_time": "2024-05-11T13:42:50.946Z"
   },
   {
    "duration": 88,
    "start_time": "2024-05-11T13:43:27.370Z"
   },
   {
    "duration": 47,
    "start_time": "2024-05-11T13:43:40.411Z"
   },
   {
    "duration": 100,
    "start_time": "2024-05-11T13:43:41.462Z"
   },
   {
    "duration": 270,
    "start_time": "2024-05-11T13:43:50.096Z"
   },
   {
    "duration": 166,
    "start_time": "2024-05-11T13:43:54.644Z"
   },
   {
    "duration": 83,
    "start_time": "2024-05-11T13:43:58.715Z"
   },
   {
    "duration": 44,
    "start_time": "2024-05-11T13:44:12.346Z"
   },
   {
    "duration": 173,
    "start_time": "2024-05-11T13:44:13.546Z"
   },
   {
    "duration": 91,
    "start_time": "2024-05-11T13:44:15.166Z"
   },
   {
    "duration": 45,
    "start_time": "2024-05-11T13:44:40.666Z"
   },
   {
    "duration": 217,
    "start_time": "2024-05-11T13:44:41.806Z"
   },
   {
    "duration": 275,
    "start_time": "2024-05-11T13:44:48.163Z"
   },
   {
    "duration": 7,
    "start_time": "2024-05-11T13:44:53.523Z"
   },
   {
    "duration": 41,
    "start_time": "2024-05-11T13:44:55.566Z"
   },
   {
    "duration": 87,
    "start_time": "2024-05-11T13:44:56.715Z"
   },
   {
    "duration": 153,
    "start_time": "2024-05-11T13:45:14.224Z"
   },
   {
    "duration": 97,
    "start_time": "2024-05-11T13:45:19.637Z"
   },
   {
    "duration": 85,
    "start_time": "2024-05-11T13:45:21.056Z"
   },
   {
    "duration": 6378,
    "start_time": "2024-05-11T13:45:37.388Z"
   },
   {
    "duration": 400,
    "start_time": "2024-05-11T13:45:45.638Z"
   },
   {
    "duration": 4,
    "start_time": "2024-05-11T13:45:52.311Z"
   },
   {
    "duration": 962,
    "start_time": "2024-05-11T13:45:54.208Z"
   },
   {
    "duration": 51,
    "start_time": "2024-05-11T13:46:04.219Z"
   },
   {
    "duration": 3,
    "start_time": "2024-05-11T13:46:06.600Z"
   },
   {
    "duration": 42,
    "start_time": "2024-05-11T13:46:08.571Z"
   },
   {
    "duration": 96,
    "start_time": "2024-05-11T13:46:10.847Z"
   },
   {
    "duration": 33,
    "start_time": "2024-05-11T13:46:18.818Z"
   },
   {
    "duration": 27,
    "start_time": "2024-05-11T13:46:27.424Z"
   },
   {
    "duration": 55,
    "start_time": "2024-05-11T13:46:28.754Z"
   },
   {
    "duration": 106,
    "start_time": "2024-05-11T13:46:37.299Z"
   },
   {
    "duration": 5,
    "start_time": "2024-05-11T13:46:39.418Z"
   },
   {
    "duration": 7,
    "start_time": "2024-05-11T13:46:40.299Z"
   },
   {
    "duration": 44,
    "start_time": "2024-05-11T13:46:45.476Z"
   },
   {
    "duration": 50,
    "start_time": "2024-05-11T13:46:50.017Z"
   },
   {
    "duration": 12,
    "start_time": "2024-05-11T13:46:51.183Z"
   },
   {
    "duration": 100,
    "start_time": "2024-05-11T13:46:52.614Z"
   },
   {
    "duration": 8,
    "start_time": "2024-05-11T13:46:54.542Z"
   },
   {
    "duration": 5,
    "start_time": "2024-05-11T13:47:03.287Z"
   },
   {
    "duration": 2,
    "start_time": "2024-05-11T13:47:05.262Z"
   },
   {
    "duration": 22,
    "start_time": "2024-05-11T13:47:07.388Z"
   },
   {
    "duration": 284,
    "start_time": "2024-05-11T13:47:08.478Z"
   },
   {
    "duration": 39,
    "start_time": "2024-05-11T13:47:15.877Z"
   },
   {
    "duration": 292,
    "start_time": "2024-05-11T13:47:18.062Z"
   },
   {
    "duration": 229,
    "start_time": "2024-05-11T13:47:20.134Z"
   },
   {
    "duration": 111,
    "start_time": "2024-05-11T13:47:24.727Z"
   },
   {
    "duration": 21,
    "start_time": "2024-05-11T13:47:29.983Z"
   },
   {
    "duration": 52,
    "start_time": "2024-05-11T13:47:31.823Z"
   },
   {
    "duration": 172,
    "start_time": "2024-05-11T13:47:35.226Z"
   },
   {
    "duration": 274,
    "start_time": "2024-05-11T13:47:40.245Z"
   },
   {
    "duration": 59,
    "start_time": "2024-05-11T13:47:46.686Z"
   },
   {
    "duration": 85,
    "start_time": "2024-05-11T13:47:49.987Z"
   },
   {
    "duration": 86,
    "start_time": "2024-05-11T13:48:45.414Z"
   },
   {
    "duration": 173,
    "start_time": "2024-05-11T13:49:26.276Z"
   },
   {
    "duration": 42,
    "start_time": "2024-05-11T13:49:43.004Z"
   },
   {
    "duration": 84,
    "start_time": "2024-05-11T13:49:44.277Z"
   },
   {
    "duration": 156,
    "start_time": "2024-05-11T13:49:46.126Z"
   },
   {
    "duration": 82,
    "start_time": "2024-05-11T13:49:47.726Z"
   },
   {
    "duration": 5,
    "start_time": "2024-05-11T13:50:53.436Z"
   },
   {
    "duration": 3,
    "start_time": "2024-05-11T13:50:54.816Z"
   },
   {
    "duration": 42,
    "start_time": "2024-05-11T13:51:04.656Z"
   },
   {
    "duration": 158,
    "start_time": "2024-05-11T13:51:05.934Z"
   },
   {
    "duration": 363,
    "start_time": "2024-05-11T13:51:11.363Z"
   },
   {
    "duration": 84,
    "start_time": "2024-05-11T13:51:16.466Z"
   },
   {
    "duration": 40,
    "start_time": "2024-05-11T13:51:20.457Z"
   },
   {
    "duration": 86,
    "start_time": "2024-05-11T13:51:21.565Z"
   },
   {
    "duration": 171,
    "start_time": "2024-05-11T13:51:27.496Z"
   },
   {
    "duration": 99,
    "start_time": "2024-05-11T13:51:29.486Z"
   },
   {
    "duration": 154,
    "start_time": "2024-05-11T13:51:35.656Z"
   },
   {
    "duration": 88,
    "start_time": "2024-05-11T13:51:36.576Z"
   },
   {
    "duration": 7,
    "start_time": "2024-05-11T13:51:42.206Z"
   },
   {
    "duration": 2,
    "start_time": "2024-05-11T13:51:43.364Z"
   },
   {
    "duration": 168,
    "start_time": "2024-05-11T13:51:49.786Z"
   },
   {
    "duration": 87,
    "start_time": "2024-05-11T13:51:50.896Z"
   },
   {
    "duration": 5,
    "start_time": "2024-05-11T13:52:22.216Z"
   },
   {
    "duration": 54,
    "start_time": "2024-05-11T13:52:27.095Z"
   },
   {
    "duration": 12,
    "start_time": "2024-05-11T13:52:28.536Z"
   },
   {
    "duration": 60,
    "start_time": "2024-05-11T13:52:30.936Z"
   },
   {
    "duration": 4,
    "start_time": "2024-05-11T13:52:43.126Z"
   },
   {
    "duration": 13,
    "start_time": "2024-05-11T13:52:45.426Z"
   },
   {
    "duration": 5978,
    "start_time": "2024-05-11T13:52:51.736Z"
   },
   {
    "duration": 18,
    "start_time": "2024-05-11T13:53:03.856Z"
   },
   {
    "duration": 78,
    "start_time": "2024-05-11T13:53:11.396Z"
   },
   {
    "duration": 94,
    "start_time": "2024-05-11T13:53:26.506Z"
   },
   {
    "duration": 81,
    "start_time": "2024-05-11T14:03:26.656Z"
   },
   {
    "duration": 57,
    "start_time": "2024-05-11T14:06:13.423Z"
   },
   {
    "duration": 133,
    "start_time": "2024-05-11T14:23:36.927Z"
   },
   {
    "duration": 103,
    "start_time": "2024-05-11T14:23:45.543Z"
   },
   {
    "duration": 64,
    "start_time": "2024-05-11T14:23:47.057Z"
   },
   {
    "duration": 27,
    "start_time": "2024-05-11T14:23:51.834Z"
   },
   {
    "duration": 100,
    "start_time": "2024-05-11T14:24:24.996Z"
   },
   {
    "duration": 10,
    "start_time": "2024-05-11T14:27:34.312Z"
   },
   {
    "duration": 149,
    "start_time": "2024-05-11T14:28:11.987Z"
   },
   {
    "duration": 46,
    "start_time": "2024-05-11T14:28:14.164Z"
   },
   {
    "duration": 30,
    "start_time": "2024-05-11T14:28:18.652Z"
   },
   {
    "duration": 79829,
    "start_time": "2024-05-11T14:28:23.817Z"
   },
   {
    "duration": 85209,
    "start_time": "2024-05-11T14:30:45.727Z"
   },
   {
    "duration": 95993,
    "start_time": "2024-05-11T14:33:16.870Z"
   },
   {
    "duration": 31272,
    "start_time": "2024-05-11T14:46:34.867Z"
   },
   {
    "duration": 15,
    "start_time": "2024-05-11T15:09:24.025Z"
   },
   {
    "duration": 5,
    "start_time": "2024-05-11T15:10:49.427Z"
   },
   {
    "duration": 13,
    "start_time": "2024-05-11T15:10:55.171Z"
   },
   {
    "duration": 11,
    "start_time": "2024-05-11T15:11:36.061Z"
   },
   {
    "duration": 15,
    "start_time": "2024-05-11T15:14:04.789Z"
   },
   {
    "duration": 18220,
    "start_time": "2024-05-11T15:16:27.510Z"
   },
   {
    "duration": 90569,
    "start_time": "2024-05-11T15:20:50.077Z"
   },
   {
    "duration": 31230,
    "start_time": "2024-05-11T15:23:23.657Z"
   },
   {
    "duration": 18,
    "start_time": "2024-05-11T15:26:33.455Z"
   },
   {
    "duration": 18074,
    "start_time": "2024-05-11T15:26:50.060Z"
   },
   {
    "duration": 12,
    "start_time": "2024-05-11T15:32:05.817Z"
   },
   {
    "duration": 81,
    "start_time": "2024-05-11T15:44:25.407Z"
   },
   {
    "duration": 6268,
    "start_time": "2024-05-11T15:52:21.044Z"
   },
   {
    "duration": 155,
    "start_time": "2024-05-11T15:52:30.845Z"
   },
   {
    "duration": 3,
    "start_time": "2024-05-11T15:52:33.756Z"
   },
   {
    "duration": 1011,
    "start_time": "2024-05-11T15:52:36.650Z"
   },
   {
    "duration": 60,
    "start_time": "2024-05-11T15:52:50.143Z"
   },
   {
    "duration": 3,
    "start_time": "2024-05-11T15:52:55.261Z"
   },
   {
    "duration": 44,
    "start_time": "2024-05-11T15:52:56.430Z"
   },
   {
    "duration": 107,
    "start_time": "2024-05-11T15:52:58.222Z"
   },
   {
    "duration": 36,
    "start_time": "2024-05-11T15:52:59.677Z"
   },
   {
    "duration": 26,
    "start_time": "2024-05-11T15:53:04.907Z"
   },
   {
    "duration": 44,
    "start_time": "2024-05-11T15:53:06.269Z"
   },
   {
    "duration": 106,
    "start_time": "2024-05-11T15:53:08.677Z"
   },
   {
    "duration": 5,
    "start_time": "2024-05-11T15:53:13.519Z"
   },
   {
    "duration": 8,
    "start_time": "2024-05-11T15:53:14.440Z"
   },
   {
    "duration": 81,
    "start_time": "2024-05-11T15:53:15.989Z"
   },
   {
    "duration": 28,
    "start_time": "2024-05-11T15:53:21.657Z"
   },
   {
    "duration": 53,
    "start_time": "2024-05-11T15:53:31.606Z"
   },
   {
    "duration": 12,
    "start_time": "2024-05-11T15:53:32.956Z"
   },
   {
    "duration": 98,
    "start_time": "2024-05-11T15:53:34.316Z"
   },
   {
    "duration": 10,
    "start_time": "2024-05-11T15:53:38.463Z"
   },
   {
    "duration": 5,
    "start_time": "2024-05-11T15:53:40.063Z"
   },
   {
    "duration": 4,
    "start_time": "2024-05-11T15:53:44.266Z"
   },
   {
    "duration": 35,
    "start_time": "2024-05-11T15:53:45.657Z"
   },
   {
    "duration": 289,
    "start_time": "2024-05-11T15:53:47.023Z"
   },
   {
    "duration": 37,
    "start_time": "2024-05-11T15:53:48.624Z"
   },
   {
    "duration": 303,
    "start_time": "2024-05-11T15:53:50.096Z"
   },
   {
    "duration": 243,
    "start_time": "2024-05-11T15:53:51.544Z"
   },
   {
    "duration": 98,
    "start_time": "2024-05-11T15:53:55.896Z"
   },
   {
    "duration": 22,
    "start_time": "2024-05-11T15:53:57.586Z"
   },
   {
    "duration": 45,
    "start_time": "2024-05-11T15:53:59.356Z"
   },
   {
    "duration": 180,
    "start_time": "2024-05-11T15:54:03.418Z"
   },
   {
    "duration": 284,
    "start_time": "2024-05-11T15:54:05.397Z"
   },
   {
    "duration": 71,
    "start_time": "2024-05-11T15:54:07.344Z"
   },
   {
    "duration": 101,
    "start_time": "2024-05-11T15:54:13.635Z"
   },
   {
    "duration": 4,
    "start_time": "2024-05-11T15:54:19.517Z"
   },
   {
    "duration": 2,
    "start_time": "2024-05-11T15:54:21.504Z"
   },
   {
    "duration": 157,
    "start_time": "2024-05-11T15:54:30.064Z"
   },
   {
    "duration": 287,
    "start_time": "2024-05-11T15:54:38.045Z"
   },
   {
    "duration": 40,
    "start_time": "2024-05-11T15:54:47.176Z"
   },
   {
    "duration": 84,
    "start_time": "2024-05-11T15:54:48.505Z"
   },
   {
    "duration": 172,
    "start_time": "2024-05-11T15:54:50.885Z"
   },
   {
    "duration": 89,
    "start_time": "2024-05-11T15:54:55.406Z"
   },
   {
    "duration": 74,
    "start_time": "2024-05-11T15:55:07.526Z"
   },
   {
    "duration": 84,
    "start_time": "2024-05-11T15:55:09.766Z"
   },
   {
    "duration": 5,
    "start_time": "2024-05-11T15:55:15.557Z"
   },
   {
    "duration": 3,
    "start_time": "2024-05-11T15:55:16.896Z"
   },
   {
    "duration": 157,
    "start_time": "2024-05-11T15:55:25.857Z"
   },
   {
    "duration": 83,
    "start_time": "2024-05-11T15:55:28.117Z"
   },
   {
    "duration": 5,
    "start_time": "2024-05-11T15:55:31.036Z"
   },
   {
    "duration": 24,
    "start_time": "2024-05-11T15:55:32.137Z"
   },
   {
    "duration": 12,
    "start_time": "2024-05-11T15:55:33.316Z"
   },
   {
    "duration": 4,
    "start_time": "2024-05-11T15:55:37.925Z"
   },
   {
    "duration": 32,
    "start_time": "2024-05-11T15:55:41.556Z"
   },
   {
    "duration": 11,
    "start_time": "2024-05-11T15:55:42.797Z"
   },
   {
    "duration": 5967,
    "start_time": "2024-05-11T15:55:51.122Z"
   },
   {
    "duration": 1143,
    "start_time": "2024-05-11T15:56:00.657Z"
   },
   {
    "duration": 17,
    "start_time": "2024-05-11T15:56:23.307Z"
   },
   {
    "duration": 140,
    "start_time": "2024-05-11T15:56:31.697Z"
   },
   {
    "duration": 44,
    "start_time": "2024-05-11T15:56:34.117Z"
   },
   {
    "duration": 31,
    "start_time": "2024-05-11T15:56:36.337Z"
   },
   {
    "duration": 95354,
    "start_time": "2024-05-11T15:56:42.285Z"
   },
   {
    "duration": 32012,
    "start_time": "2024-05-11T15:58:26.015Z"
   },
   {
    "duration": 18097,
    "start_time": "2024-05-11T15:59:05.739Z"
   },
   {
    "duration": 10,
    "start_time": "2024-05-11T15:59:35.683Z"
   },
   {
    "duration": 75,
    "start_time": "2024-05-11T16:00:48.992Z"
   },
   {
    "duration": 8582,
    "start_time": "2024-05-11T17:03:27.123Z"
   },
   {
    "duration": 131,
    "start_time": "2024-05-11T17:03:35.707Z"
   },
   {
    "duration": 6,
    "start_time": "2024-05-11T17:03:35.839Z"
   },
   {
    "duration": 2883,
    "start_time": "2024-05-11T17:03:35.846Z"
   },
   {
    "duration": 18,
    "start_time": "2024-05-11T17:03:38.730Z"
   },
   {
    "duration": 145,
    "start_time": "2024-05-11T17:03:38.749Z"
   },
   {
    "duration": 58,
    "start_time": "2024-05-11T17:03:38.895Z"
   },
   {
    "duration": 3,
    "start_time": "2024-05-11T17:03:38.955Z"
   },
   {
    "duration": 47,
    "start_time": "2024-05-11T17:03:38.959Z"
   },
   {
    "duration": 94,
    "start_time": "2024-05-11T17:03:39.008Z"
   },
   {
    "duration": 42,
    "start_time": "2024-05-11T17:03:39.104Z"
   },
   {
    "duration": 11,
    "start_time": "2024-05-11T17:03:39.148Z"
   },
   {
    "duration": 28,
    "start_time": "2024-05-11T17:03:39.160Z"
   },
   {
    "duration": 48,
    "start_time": "2024-05-11T17:03:39.189Z"
   },
   {
    "duration": 22,
    "start_time": "2024-05-11T17:03:39.238Z"
   },
   {
    "duration": 115,
    "start_time": "2024-05-11T17:03:39.261Z"
   },
   {
    "duration": 9,
    "start_time": "2024-05-11T17:03:39.378Z"
   },
   {
    "duration": 14,
    "start_time": "2024-05-11T17:03:39.389Z"
   },
   {
    "duration": 82,
    "start_time": "2024-05-11T17:03:39.404Z"
   },
   {
    "duration": 22,
    "start_time": "2024-05-11T17:03:39.487Z"
   },
   {
    "duration": 65,
    "start_time": "2024-05-11T17:03:39.511Z"
   },
   {
    "duration": 14,
    "start_time": "2024-05-11T17:03:39.577Z"
   },
   {
    "duration": 90,
    "start_time": "2024-05-11T17:03:39.592Z"
   },
   {
    "duration": 7,
    "start_time": "2024-05-11T17:03:39.684Z"
   },
   {
    "duration": 5,
    "start_time": "2024-05-11T17:03:39.692Z"
   },
   {
    "duration": 3,
    "start_time": "2024-05-11T17:03:39.699Z"
   },
   {
    "duration": 28,
    "start_time": "2024-05-11T17:03:39.704Z"
   },
   {
    "duration": 241,
    "start_time": "2024-05-11T17:03:39.747Z"
   },
   {
    "duration": 33,
    "start_time": "2024-05-11T17:03:39.990Z"
   },
   {
    "duration": 244,
    "start_time": "2024-05-11T17:03:40.025Z"
   },
   {
    "duration": 195,
    "start_time": "2024-05-11T17:03:40.271Z"
   },
   {
    "duration": 90,
    "start_time": "2024-05-11T17:03:40.468Z"
   },
   {
    "duration": 24,
    "start_time": "2024-05-11T17:03:40.560Z"
   },
   {
    "duration": 68,
    "start_time": "2024-05-11T17:03:40.585Z"
   },
   {
    "duration": 144,
    "start_time": "2024-05-11T17:03:40.654Z"
   },
   {
    "duration": 241,
    "start_time": "2024-05-11T17:03:40.800Z"
   },
   {
    "duration": 54,
    "start_time": "2024-05-11T17:03:41.043Z"
   },
   {
    "duration": 79,
    "start_time": "2024-05-11T17:03:41.099Z"
   },
   {
    "duration": 40,
    "start_time": "2024-05-11T17:03:41.180Z"
   },
   {
    "duration": 80,
    "start_time": "2024-05-11T17:03:41.221Z"
   },
   {
    "duration": 142,
    "start_time": "2024-05-11T17:03:41.303Z"
   },
   {
    "duration": 102,
    "start_time": "2024-05-11T17:03:41.446Z"
   },
   {
    "duration": 4,
    "start_time": "2024-05-11T17:03:41.549Z"
   },
   {
    "duration": 29,
    "start_time": "2024-05-11T17:03:41.555Z"
   },
   {
    "duration": 9,
    "start_time": "2024-05-11T17:03:41.586Z"
   },
   {
    "duration": 7,
    "start_time": "2024-05-11T17:03:41.597Z"
   },
   {
    "duration": 14,
    "start_time": "2024-05-11T17:03:41.605Z"
   },
   {
    "duration": 25,
    "start_time": "2024-05-11T17:03:41.621Z"
   },
   {
    "duration": 143,
    "start_time": "2024-05-11T17:03:41.647Z"
   },
   {
    "duration": 4608,
    "start_time": "2024-05-11T17:10:59.371Z"
   },
   {
    "duration": 4,
    "start_time": "2024-05-11T17:11:03.981Z"
   },
   {
    "duration": 8,
    "start_time": "2024-05-11T17:11:03.987Z"
   },
   {
    "duration": 784,
    "start_time": "2024-05-11T17:11:03.996Z"
   },
   {
    "duration": 12,
    "start_time": "2024-05-11T17:11:04.782Z"
   },
   {
    "duration": 138,
    "start_time": "2024-05-11T17:11:04.795Z"
   },
   {
    "duration": 29,
    "start_time": "2024-05-11T17:11:04.934Z"
   },
   {
    "duration": 2,
    "start_time": "2024-05-11T17:11:04.965Z"
   },
   {
    "duration": 29,
    "start_time": "2024-05-11T17:11:04.969Z"
   },
   {
    "duration": 79,
    "start_time": "2024-05-11T17:11:05.000Z"
   },
   {
    "duration": 28,
    "start_time": "2024-05-11T17:11:05.081Z"
   },
   {
    "duration": 9,
    "start_time": "2024-05-11T17:11:05.111Z"
   },
   {
    "duration": 57,
    "start_time": "2024-05-11T17:11:05.122Z"
   },
   {
    "duration": 43,
    "start_time": "2024-05-11T17:11:05.182Z"
   },
   {
    "duration": 9,
    "start_time": "2024-05-11T17:11:05.227Z"
   },
   {
    "duration": 94,
    "start_time": "2024-05-11T17:11:05.238Z"
   },
   {
    "duration": 10,
    "start_time": "2024-05-11T17:11:05.334Z"
   },
   {
    "duration": 16,
    "start_time": "2024-05-11T17:11:05.346Z"
   },
   {
    "duration": 78,
    "start_time": "2024-05-11T17:11:05.363Z"
   },
   {
    "duration": 21,
    "start_time": "2024-05-11T17:11:05.443Z"
   },
   {
    "duration": 36,
    "start_time": "2024-05-11T17:11:05.466Z"
   },
   {
    "duration": 10,
    "start_time": "2024-05-11T17:11:05.503Z"
   },
   {
    "duration": 101,
    "start_time": "2024-05-11T17:11:05.514Z"
   },
   {
    "duration": 7,
    "start_time": "2024-05-11T17:11:05.616Z"
   },
   {
    "duration": 12,
    "start_time": "2024-05-11T17:11:05.624Z"
   },
   {
    "duration": 21,
    "start_time": "2024-05-11T17:11:05.645Z"
   },
   {
    "duration": 39,
    "start_time": "2024-05-11T17:11:05.668Z"
   },
   {
    "duration": 354,
    "start_time": "2024-05-11T17:11:05.708Z"
   },
   {
    "duration": 34,
    "start_time": "2024-05-11T17:11:06.063Z"
   },
   {
    "duration": 267,
    "start_time": "2024-05-11T17:11:06.098Z"
   },
   {
    "duration": 193,
    "start_time": "2024-05-11T17:11:06.366Z"
   },
   {
    "duration": 89,
    "start_time": "2024-05-11T17:11:06.561Z"
   },
   {
    "duration": 21,
    "start_time": "2024-05-11T17:11:06.652Z"
   },
   {
    "duration": 35,
    "start_time": "2024-05-11T17:11:06.675Z"
   },
   {
    "duration": 152,
    "start_time": "2024-05-11T17:11:06.711Z"
   },
   {
    "duration": 238,
    "start_time": "2024-05-11T17:11:06.864Z"
   },
   {
    "duration": 58,
    "start_time": "2024-05-11T17:11:07.103Z"
   },
   {
    "duration": 95,
    "start_time": "2024-05-11T17:11:07.163Z"
   },
   {
    "duration": 39,
    "start_time": "2024-05-11T17:11:07.259Z"
   },
   {
    "duration": 96,
    "start_time": "2024-05-11T17:11:07.299Z"
   },
   {
    "duration": 168,
    "start_time": "2024-05-11T17:11:07.400Z"
   },
   {
    "duration": 76,
    "start_time": "2024-05-11T17:11:07.570Z"
   },
   {
    "duration": 5,
    "start_time": "2024-05-11T17:11:07.648Z"
   },
   {
    "duration": 33,
    "start_time": "2024-05-11T17:11:07.655Z"
   },
   {
    "duration": 18,
    "start_time": "2024-05-11T17:11:07.690Z"
   },
   {
    "duration": 16,
    "start_time": "2024-05-11T17:11:07.710Z"
   },
   {
    "duration": 32,
    "start_time": "2024-05-11T17:11:07.728Z"
   },
   {
    "duration": 30,
    "start_time": "2024-05-11T17:11:07.761Z"
   },
   {
    "duration": 5062,
    "start_time": "2024-05-11T17:11:07.793Z"
   },
   {
    "duration": 547,
    "start_time": "2024-05-11T17:11:12.857Z"
   },
   {
    "duration": 20,
    "start_time": "2024-05-11T17:11:13.406Z"
   },
   {
    "duration": 136,
    "start_time": "2024-05-11T17:11:13.428Z"
   },
   {
    "duration": 38,
    "start_time": "2024-05-11T17:11:23.974Z"
   },
   {
    "duration": 25,
    "start_time": "2024-05-11T17:11:28.670Z"
   },
   {
    "duration": 8,
    "start_time": "2024-05-11T17:11:46.661Z"
   },
   {
    "duration": 11,
    "start_time": "2024-05-11T17:12:35.744Z"
   },
   {
    "duration": 5962,
    "start_time": "2024-05-11T17:19:25.589Z"
   },
   {
    "duration": 138,
    "start_time": "2024-05-11T17:19:31.553Z"
   },
   {
    "duration": 4,
    "start_time": "2024-05-11T17:19:31.692Z"
   },
   {
    "duration": 786,
    "start_time": "2024-05-11T17:19:31.698Z"
   },
   {
    "duration": 18,
    "start_time": "2024-05-11T17:19:32.486Z"
   },
   {
    "duration": 160,
    "start_time": "2024-05-11T17:19:32.505Z"
   },
   {
    "duration": 50,
    "start_time": "2024-05-11T17:19:32.667Z"
   },
   {
    "duration": 2,
    "start_time": "2024-05-11T17:19:32.719Z"
   },
   {
    "duration": 57,
    "start_time": "2024-05-11T17:19:32.722Z"
   },
   {
    "duration": 88,
    "start_time": "2024-05-11T17:19:32.780Z"
   },
   {
    "duration": 28,
    "start_time": "2024-05-11T17:19:32.870Z"
   },
   {
    "duration": 9,
    "start_time": "2024-05-11T17:19:32.899Z"
   },
   {
    "duration": 34,
    "start_time": "2024-05-11T17:19:32.911Z"
   },
   {
    "duration": 36,
    "start_time": "2024-05-11T17:19:32.946Z"
   },
   {
    "duration": 9,
    "start_time": "2024-05-11T17:19:32.983Z"
   },
   {
    "duration": 115,
    "start_time": "2024-05-11T17:19:32.993Z"
   },
   {
    "duration": 6,
    "start_time": "2024-05-11T17:19:33.109Z"
   },
   {
    "duration": 9,
    "start_time": "2024-05-11T17:19:33.116Z"
   },
   {
    "duration": 74,
    "start_time": "2024-05-11T17:19:33.127Z"
   },
   {
    "duration": 24,
    "start_time": "2024-05-11T17:19:33.202Z"
   },
   {
    "duration": 59,
    "start_time": "2024-05-11T17:19:33.227Z"
   },
   {
    "duration": 10,
    "start_time": "2024-05-11T17:19:33.288Z"
   },
   {
    "duration": 91,
    "start_time": "2024-05-11T17:19:33.300Z"
   },
   {
    "duration": 7,
    "start_time": "2024-05-11T17:19:33.392Z"
   },
   {
    "duration": 6,
    "start_time": "2024-05-11T17:19:33.400Z"
   },
   {
    "duration": 24,
    "start_time": "2024-05-11T17:19:33.407Z"
   },
   {
    "duration": 33,
    "start_time": "2024-05-11T17:19:33.432Z"
   },
   {
    "duration": 244,
    "start_time": "2024-05-11T17:19:33.467Z"
   },
   {
    "duration": 58,
    "start_time": "2024-05-11T17:19:33.713Z"
   },
   {
    "duration": 253,
    "start_time": "2024-05-11T17:19:33.773Z"
   },
   {
    "duration": 206,
    "start_time": "2024-05-11T17:19:34.028Z"
   },
   {
    "duration": 89,
    "start_time": "2024-05-11T17:19:34.235Z"
   },
   {
    "duration": 29,
    "start_time": "2024-05-11T17:19:34.325Z"
   },
   {
    "duration": 38,
    "start_time": "2024-05-11T17:19:34.355Z"
   },
   {
    "duration": 160,
    "start_time": "2024-05-11T17:19:34.394Z"
   },
   {
    "duration": 244,
    "start_time": "2024-05-11T17:19:34.555Z"
   },
   {
    "duration": 54,
    "start_time": "2024-05-11T17:19:34.800Z"
   },
   {
    "duration": 73,
    "start_time": "2024-05-11T17:19:34.855Z"
   },
   {
    "duration": 39,
    "start_time": "2024-05-11T17:19:34.945Z"
   },
   {
    "duration": 78,
    "start_time": "2024-05-11T17:19:34.988Z"
   },
   {
    "duration": 144,
    "start_time": "2024-05-11T17:19:35.068Z"
   },
   {
    "duration": 86,
    "start_time": "2024-05-11T17:19:35.214Z"
   },
   {
    "duration": 14,
    "start_time": "2024-05-11T17:19:35.301Z"
   },
   {
    "duration": 33,
    "start_time": "2024-05-11T17:19:35.316Z"
   },
   {
    "duration": 10,
    "start_time": "2024-05-11T17:19:35.350Z"
   },
   {
    "duration": 4,
    "start_time": "2024-05-11T17:19:35.362Z"
   },
   {
    "duration": 17,
    "start_time": "2024-05-11T17:19:35.368Z"
   },
   {
    "duration": 13,
    "start_time": "2024-05-11T17:19:35.386Z"
   },
   {
    "duration": 5108,
    "start_time": "2024-05-11T17:19:35.401Z"
   },
   {
    "duration": 433,
    "start_time": "2024-05-11T17:19:40.511Z"
   },
   {
    "duration": 19,
    "start_time": "2024-05-11T17:19:40.946Z"
   },
   {
    "duration": 150,
    "start_time": "2024-05-11T17:19:40.967Z"
   },
   {
    "duration": 36,
    "start_time": "2024-05-11T17:19:41.119Z"
   },
   {
    "duration": 26,
    "start_time": "2024-05-11T17:19:41.156Z"
   },
   {
    "duration": 54343,
    "start_time": "2024-05-13T04:12:17.146Z"
   },
   {
    "duration": 155,
    "start_time": "2024-05-13T04:13:17.668Z"
   },
   {
    "duration": 3,
    "start_time": "2024-05-13T04:13:19.738Z"
   },
   {
    "duration": 3039,
    "start_time": "2024-05-13T04:13:29.324Z"
   },
   {
    "duration": 59,
    "start_time": "2024-05-13T04:13:38.433Z"
   },
   {
    "duration": 4,
    "start_time": "2024-05-13T04:13:40.527Z"
   },
   {
    "duration": 46,
    "start_time": "2024-05-13T04:13:41.656Z"
   },
   {
    "duration": 105,
    "start_time": "2024-05-13T04:13:43.168Z"
   },
   {
    "duration": 35,
    "start_time": "2024-05-13T04:13:45.138Z"
   },
   {
    "duration": 52,
    "start_time": "2024-05-13T04:13:52.379Z"
   },
   {
    "duration": 108,
    "start_time": "2024-05-13T04:13:55.412Z"
   },
   {
    "duration": 4,
    "start_time": "2024-05-13T04:14:01.411Z"
   },
   {
    "duration": 79,
    "start_time": "2024-05-13T04:14:03.409Z"
   },
   {
    "duration": 11,
    "start_time": "2024-05-13T04:15:18.221Z"
   },
   {
    "duration": 109,
    "start_time": "2024-05-13T04:15:26.494Z"
   },
   {
    "duration": 139,
    "start_time": "2024-05-13T04:15:46.917Z"
   },
   {
    "duration": 12,
    "start_time": "2024-05-13T04:15:49.578Z"
   },
   {
    "duration": 34,
    "start_time": "2024-05-13T04:15:54.673Z"
   },
   {
    "duration": 12,
    "start_time": "2024-05-13T04:16:01.796Z"
   },
   {
    "duration": 108,
    "start_time": "2024-05-13T04:16:15.126Z"
   },
   {
    "duration": 6210,
    "start_time": "2024-05-13T04:16:56.981Z"
   },
   {
    "duration": 153,
    "start_time": "2024-05-13T04:17:04.648Z"
   },
   {
    "duration": 3,
    "start_time": "2024-05-13T04:17:07.103Z"
   },
   {
    "duration": 943,
    "start_time": "2024-05-13T04:17:08.291Z"
   },
   {
    "duration": 59,
    "start_time": "2024-05-13T04:17:18.256Z"
   },
   {
    "duration": 3,
    "start_time": "2024-05-13T04:17:19.807Z"
   },
   {
    "duration": 42,
    "start_time": "2024-05-13T04:17:20.937Z"
   },
   {
    "duration": 112,
    "start_time": "2024-05-13T04:17:22.646Z"
   },
   {
    "duration": 34,
    "start_time": "2024-05-13T04:17:38.152Z"
   },
   {
    "duration": 17,
    "start_time": "2024-05-13T04:17:39.581Z"
   },
   {
    "duration": 43,
    "start_time": "2024-05-13T04:17:46.692Z"
   },
   {
    "duration": 11,
    "start_time": "2024-05-13T04:17:52.602Z"
   },
   {
    "duration": 103,
    "start_time": "2024-05-13T04:17:59.567Z"
   },
   {
    "duration": 5,
    "start_time": "2024-05-13T04:18:01.310Z"
   },
   {
    "duration": 79,
    "start_time": "2024-05-13T04:18:06.551Z"
   },
   {
    "duration": 103,
    "start_time": "2024-05-13T04:18:14.245Z"
   },
   {
    "duration": 14,
    "start_time": "2024-05-13T04:24:07.521Z"
   },
   {
    "duration": 115,
    "start_time": "2024-05-13T04:24:09.442Z"
   },
   {
    "duration": 9,
    "start_time": "2024-05-13T04:24:10.989Z"
   },
   {
    "duration": 4,
    "start_time": "2024-05-13T04:24:16.555Z"
   },
   {
    "duration": 2,
    "start_time": "2024-05-13T04:24:18.253Z"
   },
   {
    "duration": 24,
    "start_time": "2024-05-13T04:24:19.846Z"
   },
   {
    "duration": 296,
    "start_time": "2024-05-13T04:24:21.068Z"
   },
   {
    "duration": 282,
    "start_time": "2024-05-13T04:24:26.412Z"
   },
   {
    "duration": 235,
    "start_time": "2024-05-13T04:24:28.324Z"
   },
   {
    "duration": 98,
    "start_time": "2024-05-13T04:24:30.387Z"
   },
   {
    "duration": 5,
    "start_time": "2024-05-13T04:24:41.170Z"
   },
   {
    "duration": 3,
    "start_time": "2024-05-13T04:24:42.699Z"
   },
   {
    "duration": 229,
    "start_time": "2024-05-13T04:24:50.661Z"
   },
   {
    "duration": 101,
    "start_time": "2024-05-13T04:24:52.121Z"
   },
   {
    "duration": 23,
    "start_time": "2024-05-13T04:24:53.707Z"
   },
   {
    "duration": 44,
    "start_time": "2024-05-13T04:24:55.391Z"
   },
   {
    "duration": 181,
    "start_time": "2024-05-13T04:24:57.084Z"
   },
   {
    "duration": 281,
    "start_time": "2024-05-13T04:24:58.517Z"
   },
   {
    "duration": 62,
    "start_time": "2024-05-13T04:25:07.636Z"
   },
   {
    "duration": 99,
    "start_time": "2024-05-13T04:25:09.515Z"
   },
   {
    "duration": 5,
    "start_time": "2024-05-13T04:25:16.359Z"
   },
   {
    "duration": 3,
    "start_time": "2024-05-13T04:25:17.797Z"
   },
   {
    "duration": 195,
    "start_time": "2024-05-13T04:25:27.918Z"
   },
   {
    "duration": 270,
    "start_time": "2024-05-13T04:25:31.337Z"
   },
   {
    "duration": 5,
    "start_time": "2024-05-13T04:25:36.377Z"
   },
   {
    "duration": 100,
    "start_time": "2024-05-13T04:25:44.872Z"
   },
   {
    "duration": 42,
    "start_time": "2024-05-13T04:25:48.043Z"
   },
   {
    "duration": 86,
    "start_time": "2024-05-13T04:25:49.831Z"
   },
   {
    "duration": 179,
    "start_time": "2024-05-13T04:25:54.941Z"
   },
   {
    "duration": 84,
    "start_time": "2024-05-13T04:25:57.162Z"
   },
   {
    "duration": 4,
    "start_time": "2024-05-13T04:26:08.244Z"
   },
   {
    "duration": 3,
    "start_time": "2024-05-13T04:26:09.496Z"
   },
   {
    "duration": 87,
    "start_time": "2024-05-13T04:26:20.479Z"
   },
   {
    "duration": 168,
    "start_time": "2024-05-13T04:26:22.385Z"
   },
   {
    "duration": 89,
    "start_time": "2024-05-13T04:26:25.427Z"
   },
   {
    "duration": 5,
    "start_time": "2024-05-13T04:26:32.129Z"
   },
   {
    "duration": 62,
    "start_time": "2024-05-13T04:26:33.379Z"
   },
   {
    "duration": 16,
    "start_time": "2024-05-13T04:26:34.589Z"
   },
   {
    "duration": 3,
    "start_time": "2024-05-13T04:26:41.231Z"
   },
   {
    "duration": 60,
    "start_time": "2024-05-13T04:27:00.367Z"
   },
   {
    "duration": 3,
    "start_time": "2024-05-13T04:27:14.035Z"
   },
   {
    "duration": 15,
    "start_time": "2024-05-13T04:27:19.590Z"
   },
   {
    "duration": 145,
    "start_time": "2024-05-13T04:28:55.820Z"
   },
   {
    "duration": 148,
    "start_time": "2024-05-13T04:29:18.943Z"
   },
   {
    "duration": 306,
    "start_time": "2024-05-13T04:29:59.815Z"
   },
   {
    "duration": 174,
    "start_time": "2024-05-13T04:36:56.845Z"
   },
   {
    "duration": 175,
    "start_time": "2024-05-13T04:37:14.058Z"
   },
   {
    "duration": 176,
    "start_time": "2024-05-13T04:37:17.326Z"
   },
   {
    "duration": 156,
    "start_time": "2024-05-13T04:37:19.095Z"
   },
   {
    "duration": 165,
    "start_time": "2024-05-13T04:37:47.011Z"
   },
   {
    "duration": 124,
    "start_time": "2024-05-13T04:37:49.460Z"
   },
   {
    "duration": 52,
    "start_time": "2024-05-13T07:11:16.548Z"
   },
   {
    "duration": 12023,
    "start_time": "2024-05-13T07:11:21.994Z"
   },
   {
    "duration": 136,
    "start_time": "2024-05-13T07:11:35.369Z"
   },
   {
    "duration": 3,
    "start_time": "2024-05-13T07:11:40.836Z"
   },
   {
    "duration": 2903,
    "start_time": "2024-05-13T07:11:43.733Z"
   },
   {
    "duration": 57,
    "start_time": "2024-05-13T07:11:50.809Z"
   },
   {
    "duration": 3,
    "start_time": "2024-05-13T07:11:52.470Z"
   },
   {
    "duration": 38,
    "start_time": "2024-05-13T07:11:53.631Z"
   },
   {
    "duration": 94,
    "start_time": "2024-05-13T07:11:54.874Z"
   },
   {
    "duration": 29,
    "start_time": "2024-05-13T07:11:59.363Z"
   },
   {
    "duration": 54,
    "start_time": "2024-05-13T07:12:01.735Z"
   },
   {
    "duration": 64,
    "start_time": "2024-05-13T07:12:13.297Z"
   },
   {
    "duration": 13,
    "start_time": "2024-05-13T07:12:39.664Z"
   },
   {
    "duration": 4,
    "start_time": "2024-05-13T07:12:44.745Z"
   },
   {
    "duration": 3,
    "start_time": "2024-05-13T07:12:46.044Z"
   },
   {
    "duration": 248,
    "start_time": "2024-05-13T07:12:47.372Z"
   },
   {
    "duration": 243,
    "start_time": "2024-05-13T07:12:53.225Z"
   },
   {
    "duration": 249,
    "start_time": "2024-05-13T07:12:55.156Z"
   },
   {
    "duration": 209,
    "start_time": "2024-05-13T07:12:57.061Z"
   },
   {
    "duration": 19,
    "start_time": "2024-05-13T07:12:59.635Z"
   },
   {
    "duration": 42,
    "start_time": "2024-05-13T07:13:04.035Z"
   },
   {
    "duration": 156,
    "start_time": "2024-05-13T07:13:05.326Z"
   },
   {
    "duration": 246,
    "start_time": "2024-05-13T07:13:11.386Z"
   },
   {
    "duration": 59,
    "start_time": "2024-05-13T07:13:12.896Z"
   },
   {
    "duration": 82,
    "start_time": "2024-05-13T07:13:14.143Z"
   },
   {
    "duration": 4,
    "start_time": "2024-05-13T07:13:20.891Z"
   },
   {
    "duration": 2,
    "start_time": "2024-05-13T07:13:21.942Z"
   },
   {
    "duration": 141,
    "start_time": "2024-05-13T07:13:32.368Z"
   },
   {
    "duration": 257,
    "start_time": "2024-05-13T07:13:37.600Z"
   },
   {
    "duration": 4,
    "start_time": "2024-05-13T07:13:40.257Z"
   },
   {
    "duration": 75,
    "start_time": "2024-05-13T07:13:45.503Z"
   },
   {
    "duration": 43,
    "start_time": "2024-05-13T07:13:47.575Z"
   },
   {
    "duration": 76,
    "start_time": "2024-05-13T07:13:48.589Z"
   },
   {
    "duration": 154,
    "start_time": "2024-05-13T07:13:50.792Z"
   },
   {
    "duration": 84,
    "start_time": "2024-05-13T07:13:55.033Z"
   },
   {
    "duration": 4,
    "start_time": "2024-05-13T07:14:02.042Z"
   },
   {
    "duration": 3,
    "start_time": "2024-05-13T07:14:03.158Z"
   },
   {
    "duration": 142,
    "start_time": "2024-05-13T07:14:09.868Z"
   },
   {
    "duration": 75,
    "start_time": "2024-05-13T07:14:11.359Z"
   },
   {
    "duration": 6,
    "start_time": "2024-05-13T07:14:15.470Z"
   },
   {
    "duration": 52,
    "start_time": "2024-05-13T07:14:16.041Z"
   },
   {
    "duration": 4,
    "start_time": "2024-05-13T07:14:21.732Z"
   },
   {
    "duration": 28,
    "start_time": "2024-05-13T07:14:24.545Z"
   },
   {
    "duration": 265,
    "start_time": "2024-05-13T07:14:33.375Z"
   },
   {
    "duration": 144,
    "start_time": "2024-05-13T07:14:35.575Z"
   },
   {
    "duration": 107,
    "start_time": "2024-05-13T07:14:36.629Z"
   },
   {
    "duration": 3,
    "start_time": "2024-05-13T07:16:15.052Z"
   },
   {
    "duration": 108,
    "start_time": "2024-05-13T07:17:53.817Z"
   },
   {
    "duration": 33,
    "start_time": "2024-05-13T07:17:56.911Z"
   },
   {
    "duration": 25,
    "start_time": "2024-05-13T07:18:01.990Z"
   },
   {
    "duration": 17,
    "start_time": "2024-05-13T07:18:21.558Z"
   },
   {
    "duration": 38,
    "start_time": "2024-05-13T07:18:40.058Z"
   },
   {
    "duration": 24,
    "start_time": "2024-05-13T07:18:42.096Z"
   },
   {
    "duration": 69251,
    "start_time": "2024-05-13T07:18:56.017Z"
   },
   {
    "duration": 24228,
    "start_time": "2024-05-13T07:20:56.796Z"
   },
   {
    "duration": 14,
    "start_time": "2024-05-13T07:25:01.022Z"
   },
   {
    "duration": 15,
    "start_time": "2024-05-13T07:25:01.252Z"
   },
   {
    "duration": 35,
    "start_time": "2024-05-13T07:27:59.765Z"
   },
   {
    "duration": 90,
    "start_time": "2024-05-13T07:28:06.619Z"
   },
   {
    "duration": 71,
    "start_time": "2024-05-13T07:34:36.590Z"
   },
   {
    "duration": 48,
    "start_time": "2024-05-13T07:35:15.744Z"
   },
   {
    "duration": 15098,
    "start_time": "2024-05-13T12:26:30.871Z"
   },
   {
    "duration": 7686,
    "start_time": "2024-05-13T12:26:55.749Z"
   },
   {
    "duration": 139,
    "start_time": "2024-05-13T12:27:11.350Z"
   },
   {
    "duration": 3,
    "start_time": "2024-05-13T12:27:21.996Z"
   },
   {
    "duration": 1241,
    "start_time": "2024-05-13T12:27:23.987Z"
   },
   {
    "duration": 50,
    "start_time": "2024-05-13T12:27:30.899Z"
   },
   {
    "duration": 2,
    "start_time": "2024-05-13T12:27:32.659Z"
   },
   {
    "duration": 43,
    "start_time": "2024-05-13T12:27:33.739Z"
   },
   {
    "duration": 3,
    "start_time": "2024-05-13T12:28:07.118Z"
   },
   {
    "duration": 127,
    "start_time": "2024-05-13T12:28:07.939Z"
   },
   {
    "duration": 48,
    "start_time": "2024-05-13T12:28:21.740Z"
   },
   {
    "duration": 3,
    "start_time": "2024-05-13T12:28:23.371Z"
   },
   {
    "duration": 42,
    "start_time": "2024-05-13T12:28:24.601Z"
   },
   {
    "duration": 89,
    "start_time": "2024-05-13T12:28:33.491Z"
   },
   {
    "duration": 33,
    "start_time": "2024-05-13T12:28:35.629Z"
   },
   {
    "duration": 43,
    "start_time": "2024-05-13T12:28:41.429Z"
   },
   {
    "duration": 60,
    "start_time": "2024-05-13T12:28:53.538Z"
   },
   {
    "duration": 14,
    "start_time": "2024-05-13T12:29:01.080Z"
   },
   {
    "duration": 102,
    "start_time": "2024-05-13T12:29:05.319Z"
   },
   {
    "duration": 9,
    "start_time": "2024-05-13T12:29:11.507Z"
   },
   {
    "duration": 7,
    "start_time": "2024-05-13T12:29:14.770Z"
   },
   {
    "duration": 3,
    "start_time": "2024-05-13T12:29:19.679Z"
   },
   {
    "duration": 333,
    "start_time": "2024-05-13T12:29:21.866Z"
   },
   {
    "duration": 270,
    "start_time": "2024-05-13T12:29:23.780Z"
   },
   {
    "duration": 219,
    "start_time": "2024-05-13T12:29:25.170Z"
   },
   {
    "duration": 96,
    "start_time": "2024-05-13T12:29:29.714Z"
   },
   {
    "duration": 24,
    "start_time": "2024-05-13T12:29:31.772Z"
   },
   {
    "duration": 42,
    "start_time": "2024-05-13T12:29:34.009Z"
   },
   {
    "duration": 156,
    "start_time": "2024-05-13T12:29:35.103Z"
   },
   {
    "duration": 158,
    "start_time": "2024-05-13T12:29:40.343Z"
   },
   {
    "duration": 292,
    "start_time": "2024-05-13T12:29:41.710Z"
   },
   {
    "duration": 70,
    "start_time": "2024-05-13T12:29:47.289Z"
   },
   {
    "duration": 80,
    "start_time": "2024-05-13T12:29:48.992Z"
   },
   {
    "duration": 5,
    "start_time": "2024-05-13T12:29:53.804Z"
   },
   {
    "duration": 2,
    "start_time": "2024-05-13T12:29:54.903Z"
   },
   {
    "duration": 163,
    "start_time": "2024-05-13T12:30:02.924Z"
   },
   {
    "duration": 268,
    "start_time": "2024-05-13T12:30:05.280Z"
   },
   {
    "duration": 110,
    "start_time": "2024-05-13T12:30:38.922Z"
   },
   {
    "duration": 40,
    "start_time": "2024-05-13T12:30:40.959Z"
   },
   {
    "duration": 85,
    "start_time": "2024-05-13T12:30:42.242Z"
   },
   {
    "duration": 164,
    "start_time": "2024-05-13T12:30:46.750Z"
   },
   {
    "duration": 84,
    "start_time": "2024-05-13T12:30:48.142Z"
   },
   {
    "duration": 4,
    "start_time": "2024-05-13T12:30:52.542Z"
   },
   {
    "duration": 3,
    "start_time": "2024-05-13T12:30:53.574Z"
   },
   {
    "duration": 65,
    "start_time": "2024-05-13T12:30:59.324Z"
   },
   {
    "duration": 81,
    "start_time": "2024-05-13T12:31:00.284Z"
   },
   {
    "duration": 168,
    "start_time": "2024-05-13T12:31:02.454Z"
   },
   {
    "duration": 82,
    "start_time": "2024-05-13T12:31:03.802Z"
   },
   {
    "duration": 82,
    "start_time": "2024-05-13T12:31:05.630Z"
   },
   {
    "duration": 159,
    "start_time": "2024-05-13T12:31:06.983Z"
   },
   {
    "duration": 81,
    "start_time": "2024-05-13T12:31:08.264Z"
   },
   {
    "duration": 5,
    "start_time": "2024-05-13T12:31:14.732Z"
   },
   {
    "duration": 2,
    "start_time": "2024-05-13T12:31:15.582Z"
   },
   {
    "duration": 158,
    "start_time": "2024-05-13T12:31:20.538Z"
   },
   {
    "duration": 93,
    "start_time": "2024-05-13T12:31:22.012Z"
   },
   {
    "duration": 5,
    "start_time": "2024-05-13T12:31:27.470Z"
   },
   {
    "duration": 23,
    "start_time": "2024-05-13T12:31:29.428Z"
   },
   {
    "duration": 12,
    "start_time": "2024-05-13T12:31:31.001Z"
   },
   {
    "duration": 4,
    "start_time": "2024-05-13T12:31:32.937Z"
   },
   {
    "duration": 31,
    "start_time": "2024-05-13T12:31:35.358Z"
   },
   {
    "duration": 309,
    "start_time": "2024-05-13T12:31:43.975Z"
   },
   {
    "duration": 153,
    "start_time": "2024-05-13T12:31:48.208Z"
   },
   {
    "duration": 4,
    "start_time": "2024-05-13T12:31:51.998Z"
   },
   {
    "duration": 113,
    "start_time": "2024-05-13T12:32:02.430Z"
   },
   {
    "duration": 46,
    "start_time": "2024-05-13T12:32:04.404Z"
   },
   {
    "duration": 26,
    "start_time": "2024-05-13T12:32:17.889Z"
   },
   {
    "duration": 111605,
    "start_time": "2024-05-13T12:32:22.700Z"
   },
   {
    "duration": 26239,
    "start_time": "2024-05-13T12:34:30.402Z"
   },
   {
    "duration": 17,
    "start_time": "2024-05-13T12:35:20.116Z"
   },
   {
    "duration": 28,
    "start_time": "2024-05-13T12:35:22.112Z"
   },
   {
    "duration": 90,
    "start_time": "2024-05-13T12:35:35.402Z"
   },
   {
    "duration": 73,
    "start_time": "2024-05-13T12:35:55.892Z"
   },
   {
    "duration": 45,
    "start_time": "2024-05-13T12:36:01.003Z"
   },
   {
    "duration": 14,
    "start_time": "2024-05-13T12:37:35.500Z"
   },
   {
    "duration": 14,
    "start_time": "2024-05-13T12:38:12.971Z"
   },
   {
    "duration": 27,
    "start_time": "2024-05-13T12:41:58.168Z"
   },
   {
    "duration": 8938,
    "start_time": "2024-05-13T13:08:14.577Z"
   },
   {
    "duration": 145,
    "start_time": "2024-05-13T13:08:25.509Z"
   },
   {
    "duration": 4,
    "start_time": "2024-05-13T13:08:30.888Z"
   },
   {
    "duration": 986,
    "start_time": "2024-05-13T13:08:32.435Z"
   },
   {
    "duration": 52,
    "start_time": "2024-05-13T13:08:38.074Z"
   },
   {
    "duration": 3,
    "start_time": "2024-05-13T13:08:39.874Z"
   },
   {
    "duration": 47,
    "start_time": "2024-05-13T13:08:40.820Z"
   },
   {
    "duration": 100,
    "start_time": "2024-05-13T13:08:41.882Z"
   },
   {
    "duration": 32,
    "start_time": "2024-05-13T13:08:43.075Z"
   },
   {
    "duration": 47,
    "start_time": "2024-05-13T13:08:48.653Z"
   },
   {
    "duration": 64,
    "start_time": "2024-05-13T13:09:02.123Z"
   },
   {
    "duration": 13,
    "start_time": "2024-05-13T13:09:07.642Z"
   },
   {
    "duration": 101,
    "start_time": "2024-05-13T13:09:14.216Z"
   },
   {
    "duration": 7,
    "start_time": "2024-05-13T13:09:15.665Z"
   },
   {
    "duration": 5,
    "start_time": "2024-05-13T13:09:18.315Z"
   },
   {
    "duration": 2,
    "start_time": "2024-05-13T13:09:22.487Z"
   },
   {
    "duration": 269,
    "start_time": "2024-05-13T13:09:24.417Z"
   },
   {
    "duration": 297,
    "start_time": "2024-05-13T13:09:26.386Z"
   },
   {
    "duration": 245,
    "start_time": "2024-05-13T13:09:27.713Z"
   },
   {
    "duration": 93,
    "start_time": "2024-05-13T13:09:32.223Z"
   },
   {
    "duration": 23,
    "start_time": "2024-05-13T13:09:34.128Z"
   },
   {
    "duration": 159,
    "start_time": "2024-05-13T13:09:35.888Z"
   },
   {
    "duration": 280,
    "start_time": "2024-05-13T13:09:41.802Z"
   },
   {
    "duration": 60,
    "start_time": "2024-05-13T13:09:43.923Z"
   },
   {
    "duration": 103,
    "start_time": "2024-05-13T13:09:45.691Z"
   },
   {
    "duration": 5,
    "start_time": "2024-05-13T13:09:51.439Z"
   },
   {
    "duration": 2,
    "start_time": "2024-05-13T13:09:52.650Z"
   },
   {
    "duration": 159,
    "start_time": "2024-05-13T13:10:01.757Z"
   },
   {
    "duration": 271,
    "start_time": "2024-05-13T13:10:05.233Z"
   },
   {
    "duration": 85,
    "start_time": "2024-05-13T13:10:11.971Z"
   },
   {
    "duration": 53,
    "start_time": "2024-05-13T13:10:14.897Z"
   },
   {
    "duration": 90,
    "start_time": "2024-05-13T13:10:17.739Z"
   },
   {
    "duration": 4,
    "start_time": "2024-05-13T13:10:24.994Z"
   },
   {
    "duration": 3,
    "start_time": "2024-05-13T13:10:26.049Z"
   },
   {
    "duration": 163,
    "start_time": "2024-05-13T13:10:32.041Z"
   },
   {
    "duration": 93,
    "start_time": "2024-05-13T13:10:33.169Z"
   },
   {
    "duration": 66,
    "start_time": "2024-05-13T13:10:36.246Z"
   },
   {
    "duration": 84,
    "start_time": "2024-05-13T13:10:38.611Z"
   },
   {
    "duration": 166,
    "start_time": "2024-05-13T13:10:41.496Z"
   },
   {
    "duration": 81,
    "start_time": "2024-05-13T13:10:42.820Z"
   },
   {
    "duration": 6,
    "start_time": "2024-05-13T13:10:48.235Z"
   },
   {
    "duration": 2,
    "start_time": "2024-05-13T13:10:49.211Z"
   },
   {
    "duration": 155,
    "start_time": "2024-05-13T13:10:54.770Z"
   },
   {
    "duration": 81,
    "start_time": "2024-05-13T13:10:55.739Z"
   },
   {
    "duration": 5,
    "start_time": "2024-05-13T13:11:00.273Z"
   },
   {
    "duration": 54,
    "start_time": "2024-05-13T13:11:01.444Z"
   },
   {
    "duration": 4,
    "start_time": "2024-05-13T13:11:02.780Z"
   },
   {
    "duration": 30,
    "start_time": "2024-05-13T13:11:04.340Z"
   },
   {
    "duration": 270,
    "start_time": "2024-05-13T13:11:09.182Z"
   },
   {
    "duration": 150,
    "start_time": "2024-05-13T13:11:11.054Z"
   },
   {
    "duration": 119,
    "start_time": "2024-05-13T13:11:12.865Z"
   },
   {
    "duration": 4,
    "start_time": "2024-05-13T13:11:14.805Z"
   },
   {
    "duration": 68,
    "start_time": "2024-05-13T13:11:31.482Z"
   },
   {
    "duration": 56,
    "start_time": "2024-05-13T13:11:33.827Z"
   },
   {
    "duration": 3,
    "start_time": "2024-05-13T13:11:53.861Z"
   },
   {
    "duration": 144,
    "start_time": "2024-05-13T13:35:53.158Z"
   },
   {
    "duration": 6,
    "start_time": "2024-05-13T13:36:22.429Z"
   },
   {
    "duration": 1104,
    "start_time": "2024-05-13T13:36:28.531Z"
   },
   {
    "duration": 108,
    "start_time": "2024-05-13T13:42:16.757Z"
   },
   {
    "duration": 47,
    "start_time": "2024-05-13T13:42:18.817Z"
   },
   {
    "duration": 27,
    "start_time": "2024-05-13T13:42:22.810Z"
   },
   {
    "duration": 82108,
    "start_time": "2024-05-13T13:42:27.484Z"
   },
   {
    "duration": 26684,
    "start_time": "2024-05-13T13:43:58.197Z"
   },
   {
    "duration": 8959,
    "start_time": "2024-05-13T14:09:09.409Z"
   },
   {
    "duration": 142,
    "start_time": "2024-05-13T14:09:24.842Z"
   },
   {
    "duration": 3,
    "start_time": "2024-05-13T14:09:36.582Z"
   },
   {
    "duration": 935,
    "start_time": "2024-05-13T14:09:37.940Z"
   },
   {
    "duration": 51,
    "start_time": "2024-05-13T14:09:43.707Z"
   },
   {
    "duration": 3,
    "start_time": "2024-05-13T14:09:45.211Z"
   },
   {
    "duration": 44,
    "start_time": "2024-05-13T14:09:46.145Z"
   },
   {
    "duration": 97,
    "start_time": "2024-05-13T14:09:47.738Z"
   },
   {
    "duration": 39,
    "start_time": "2024-05-13T14:09:48.848Z"
   },
   {
    "duration": 49,
    "start_time": "2024-05-13T14:09:55.140Z"
   },
   {
    "duration": 69,
    "start_time": "2024-05-13T14:10:07.440Z"
   },
   {
    "duration": 14,
    "start_time": "2024-05-13T14:10:13.023Z"
   },
   {
    "duration": 5,
    "start_time": "2024-05-13T14:10:21.699Z"
   },
   {
    "duration": 3,
    "start_time": "2024-05-13T14:10:22.916Z"
   },
   {
    "duration": 285,
    "start_time": "2024-05-13T14:10:26.774Z"
   },
   {
    "duration": 271,
    "start_time": "2024-05-13T14:10:28.202Z"
   },
   {
    "duration": 229,
    "start_time": "2024-05-13T14:10:29.459Z"
   },
   {
    "duration": 103,
    "start_time": "2024-05-13T14:10:30.908Z"
   },
   {
    "duration": 147,
    "start_time": "2024-05-13T14:10:43.227Z"
   },
   {
    "duration": 282,
    "start_time": "2024-05-13T14:10:47.765Z"
   },
   {
    "duration": 62,
    "start_time": "2024-05-13T14:10:50.135Z"
   },
   {
    "duration": 105,
    "start_time": "2024-05-13T14:10:51.505Z"
   },
   {
    "duration": 24,
    "start_time": "2024-05-13T14:11:42.755Z"
   },
   {
    "duration": 61,
    "start_time": "2024-05-13T14:11:48.537Z"
   },
   {
    "duration": 105,
    "start_time": "2024-05-13T14:11:50.395Z"
   },
   {
    "duration": 5,
    "start_time": "2024-05-13T14:11:55.815Z"
   },
   {
    "duration": 2,
    "start_time": "2024-05-13T14:11:56.913Z"
   },
   {
    "duration": 155,
    "start_time": "2024-05-13T14:12:02.232Z"
   },
   {
    "duration": 88,
    "start_time": "2024-05-13T14:12:03.382Z"
   },
   {
    "duration": 4,
    "start_time": "2024-05-13T14:12:31.435Z"
   },
   {
    "duration": 54,
    "start_time": "2024-05-13T14:12:32.437Z"
   },
   {
    "duration": 3,
    "start_time": "2024-05-13T14:12:33.782Z"
   },
   {
    "duration": 31,
    "start_time": "2024-05-13T14:12:35.507Z"
   },
   {
    "duration": 296,
    "start_time": "2024-05-13T14:12:40.444Z"
   },
   {
    "duration": 176,
    "start_time": "2024-05-13T14:12:42.086Z"
   },
   {
    "duration": 139,
    "start_time": "2024-05-13T14:12:43.117Z"
   },
   {
    "duration": 4,
    "start_time": "2024-05-13T14:12:44.235Z"
   },
   {
    "duration": 71,
    "start_time": "2024-05-13T14:12:55.950Z"
   },
   {
    "duration": 56,
    "start_time": "2024-05-13T14:12:57.789Z"
   },
   {
    "duration": 3,
    "start_time": "2024-05-13T14:13:02.239Z"
   },
   {
    "duration": 1593,
    "start_time": "2024-05-13T14:13:09.963Z"
   },
   {
    "duration": 1450,
    "start_time": "2024-05-13T14:14:08.552Z"
   },
   {
    "duration": 1475,
    "start_time": "2024-05-13T14:15:45.673Z"
   },
   {
    "duration": 725,
    "start_time": "2024-05-13T14:16:21.361Z"
   },
   {
    "duration": 704,
    "start_time": "2024-05-13T14:16:39.014Z"
   },
   {
    "duration": 9186,
    "start_time": "2024-05-13T14:18:24.923Z"
   },
   {
    "duration": 154,
    "start_time": "2024-05-13T14:18:37.763Z"
   },
   {
    "duration": 4,
    "start_time": "2024-05-13T14:18:42.372Z"
   },
   {
    "duration": 974,
    "start_time": "2024-05-13T14:18:43.892Z"
   },
   {
    "duration": 59,
    "start_time": "2024-05-13T14:18:50.603Z"
   },
   {
    "duration": 3,
    "start_time": "2024-05-13T14:18:52.763Z"
   },
   {
    "duration": 43,
    "start_time": "2024-05-13T14:18:53.945Z"
   },
   {
    "duration": 106,
    "start_time": "2024-05-13T14:18:58.955Z"
   },
   {
    "duration": 43,
    "start_time": "2024-05-13T14:19:00.506Z"
   },
   {
    "duration": 44,
    "start_time": "2024-05-13T14:19:02.143Z"
   },
   {
    "duration": 73,
    "start_time": "2024-05-13T14:19:19.360Z"
   },
   {
    "duration": 11,
    "start_time": "2024-05-13T14:19:23.946Z"
   },
   {
    "duration": 5,
    "start_time": "2024-05-13T14:19:32.268Z"
   },
   {
    "duration": 3,
    "start_time": "2024-05-13T14:19:34.190Z"
   },
   {
    "duration": 45,
    "start_time": "2024-05-13T14:21:08.483Z"
   },
   {
    "duration": 327,
    "start_time": "2024-05-13T14:21:19.820Z"
   },
   {
    "duration": 264,
    "start_time": "2024-05-13T14:21:21.582Z"
   },
   {
    "duration": 264,
    "start_time": "2024-05-13T14:21:28.898Z"
   },
   {
    "duration": 231,
    "start_time": "2024-05-13T14:21:29.963Z"
   },
   {
    "duration": 100,
    "start_time": "2024-05-13T14:21:31.362Z"
   },
   {
    "duration": 291,
    "start_time": "2024-05-13T14:21:37.912Z"
   },
   {
    "duration": 312,
    "start_time": "2024-05-13T14:21:39.626Z"
   },
   {
    "duration": 241,
    "start_time": "2024-05-13T14:21:41.112Z"
   },
   {
    "duration": 99,
    "start_time": "2024-05-13T14:21:42.322Z"
   },
   {
    "duration": 5,
    "start_time": "2024-05-13T14:21:46.116Z"
   },
   {
    "duration": 3,
    "start_time": "2024-05-13T14:21:47.492Z"
   },
   {
    "duration": 351,
    "start_time": "2024-05-13T14:21:56.585Z"
   },
   {
    "duration": 247,
    "start_time": "2024-05-13T14:21:58.554Z"
   },
   {
    "duration": 227,
    "start_time": "2024-05-13T14:22:00.097Z"
   },
   {
    "duration": 107,
    "start_time": "2024-05-13T14:22:06.542Z"
   },
   {
    "duration": 141,
    "start_time": "2024-05-13T14:22:09.042Z"
   },
   {
    "duration": 268,
    "start_time": "2024-05-13T14:22:10.722Z"
   },
   {
    "duration": 62,
    "start_time": "2024-05-13T14:22:15.079Z"
   },
   {
    "duration": 97,
    "start_time": "2024-05-13T14:22:16.133Z"
   },
   {
    "duration": 21,
    "start_time": "2024-05-13T14:22:19.137Z"
   },
   {
    "duration": 110,
    "start_time": "2024-05-13T14:22:20.353Z"
   },
   {
    "duration": 6,
    "start_time": "2024-05-13T14:22:41.122Z"
   },
   {
    "duration": 23,
    "start_time": "2024-05-13T14:22:46.272Z"
   },
   {
    "duration": 12,
    "start_time": "2024-05-13T14:22:47.385Z"
   },
   {
    "duration": 4,
    "start_time": "2024-05-13T14:22:56.497Z"
   },
   {
    "duration": 14,
    "start_time": "2024-05-13T14:22:58.107Z"
   },
   {
    "duration": 311,
    "start_time": "2024-05-13T14:23:02.178Z"
   },
   {
    "duration": 156,
    "start_time": "2024-05-13T14:23:04.817Z"
   },
   {
    "duration": 130,
    "start_time": "2024-05-13T14:23:05.812Z"
   },
   {
    "duration": 3,
    "start_time": "2024-05-13T14:23:06.793Z"
   },
   {
    "duration": 69,
    "start_time": "2024-05-13T14:23:14.873Z"
   },
   {
    "duration": 60,
    "start_time": "2024-05-13T14:23:17.643Z"
   },
   {
    "duration": 3,
    "start_time": "2024-05-13T14:23:23.022Z"
   },
   {
    "duration": 377,
    "start_time": "2024-05-13T14:23:24.577Z"
   },
   {
    "duration": 358,
    "start_time": "2024-05-13T14:23:29.883Z"
   },
   {
    "duration": 38,
    "start_time": "2024-05-13T14:23:37.866Z"
   },
   {
    "duration": 219,
    "start_time": "2024-05-13T14:23:40.747Z"
   },
   {
    "duration": 128,
    "start_time": "2024-05-13T14:23:47.112Z"
   },
   {
    "duration": 123,
    "start_time": "2024-05-13T14:25:31.522Z"
   },
   {
    "duration": 256,
    "start_time": "2024-05-13T14:25:37.298Z"
   },
   {
    "duration": 17,
    "start_time": "2024-05-13T14:25:40.372Z"
   },
   {
    "duration": 3,
    "start_time": "2024-05-13T14:26:15.695Z"
   },
   {
    "duration": 4,
    "start_time": "2024-05-13T14:26:30.132Z"
   },
   {
    "duration": 4,
    "start_time": "2024-05-13T14:28:03.451Z"
   },
   {
    "duration": 4,
    "start_time": "2024-05-13T14:28:32.322Z"
   },
   {
    "duration": 8902,
    "start_time": "2024-05-13T14:28:48.036Z"
   },
   {
    "duration": 138,
    "start_time": "2024-05-13T14:29:03.091Z"
   },
   {
    "duration": 3,
    "start_time": "2024-05-13T14:29:07.260Z"
   },
   {
    "duration": 962,
    "start_time": "2024-05-13T14:29:08.391Z"
   },
   {
    "duration": 59,
    "start_time": "2024-05-13T14:29:14.620Z"
   },
   {
    "duration": 3,
    "start_time": "2024-05-13T14:29:16.268Z"
   },
   {
    "duration": 44,
    "start_time": "2024-05-13T14:29:17.349Z"
   },
   {
    "duration": 100,
    "start_time": "2024-05-13T14:29:18.676Z"
   },
   {
    "duration": 39,
    "start_time": "2024-05-13T14:29:20.049Z"
   },
   {
    "duration": 41,
    "start_time": "2024-05-13T14:29:24.760Z"
   },
   {
    "duration": 102,
    "start_time": "2024-05-13T14:29:27.156Z"
   },
   {
    "duration": 112,
    "start_time": "2024-05-13T14:29:27.361Z"
   },
   {
    "duration": 68,
    "start_time": "2024-05-13T14:29:39.068Z"
   },
   {
    "duration": 12,
    "start_time": "2024-05-13T14:29:43.663Z"
   },
   {
    "duration": 6,
    "start_time": "2024-05-13T14:29:48.756Z"
   },
   {
    "duration": 2,
    "start_time": "2024-05-13T14:29:49.991Z"
   },
   {
    "duration": 50,
    "start_time": "2024-05-13T14:29:51.148Z"
   },
   {
    "duration": 333,
    "start_time": "2024-05-13T14:29:55.813Z"
   },
   {
    "duration": 280,
    "start_time": "2024-05-13T14:29:57.272Z"
   },
   {
    "duration": 231,
    "start_time": "2024-05-13T14:29:58.836Z"
   },
   {
    "duration": 99,
    "start_time": "2024-05-13T14:30:03.739Z"
   },
   {
    "duration": 5,
    "start_time": "2024-05-13T14:30:10.446Z"
   },
   {
    "duration": 3,
    "start_time": "2024-05-13T14:30:11.609Z"
   },
   {
    "duration": 47,
    "start_time": "2024-05-13T14:30:13.876Z"
   },
   {
    "duration": 300,
    "start_time": "2024-05-13T14:30:17.296Z"
   },
   {
    "duration": 298,
    "start_time": "2024-05-13T14:30:24.000Z"
   },
   {
    "duration": 223,
    "start_time": "2024-05-13T14:30:25.450Z"
   },
   {
    "duration": 155,
    "start_time": "2024-05-13T14:30:30.758Z"
   },
   {
    "duration": 279,
    "start_time": "2024-05-13T14:30:33.821Z"
   },
   {
    "duration": 102,
    "start_time": "2024-05-13T14:30:38.250Z"
   },
   {
    "duration": 7,
    "start_time": "2024-05-13T14:30:49.811Z"
   },
   {
    "duration": 3,
    "start_time": "2024-05-13T14:30:51.157Z"
   },
   {
    "duration": 464,
    "start_time": "2024-05-13T14:30:53.358Z"
   },
   {
    "duration": 277,
    "start_time": "2024-05-13T14:30:58.967Z"
   },
   {
    "duration": 235,
    "start_time": "2024-05-13T14:31:00.310Z"
   },
   {
    "duration": 96,
    "start_time": "2024-05-13T14:31:01.768Z"
   },
   {
    "duration": 157,
    "start_time": "2024-05-13T14:31:07.876Z"
   },
   {
    "duration": 276,
    "start_time": "2024-05-13T14:31:09.636Z"
   },
   {
    "duration": 68,
    "start_time": "2024-05-13T14:31:11.350Z"
   },
   {
    "duration": 83,
    "start_time": "2024-05-13T14:31:15.316Z"
   },
   {
    "duration": 20,
    "start_time": "2024-05-13T14:31:17.089Z"
   },
   {
    "duration": 81,
    "start_time": "2024-05-13T14:31:18.108Z"
   },
   {
    "duration": 6,
    "start_time": "2024-05-13T14:31:22.356Z"
   },
   {
    "duration": 23,
    "start_time": "2024-05-13T14:31:26.771Z"
   },
   {
    "duration": 11,
    "start_time": "2024-05-13T14:31:27.718Z"
   },
   {
    "duration": 5,
    "start_time": "2024-05-13T14:31:31.709Z"
   },
   {
    "duration": 13,
    "start_time": "2024-05-13T14:31:32.731Z"
   },
   {
    "duration": 170,
    "start_time": "2024-05-13T14:31:37.967Z"
   },
   {
    "duration": 120,
    "start_time": "2024-05-13T14:31:38.920Z"
   },
   {
    "duration": 4,
    "start_time": "2024-05-13T14:31:39.991Z"
   },
   {
    "duration": 72,
    "start_time": "2024-05-13T14:31:55.330Z"
   },
   {
    "duration": 4,
    "start_time": "2024-05-13T14:31:57.796Z"
   },
   {
    "duration": 3,
    "start_time": "2024-05-13T14:32:00.211Z"
   },
   {
    "duration": 49,
    "start_time": "2024-05-13T14:32:24.231Z"
   },
   {
    "duration": 4,
    "start_time": "2024-05-13T14:32:50.629Z"
   },
   {
    "duration": 3,
    "start_time": "2024-05-13T14:33:02.611Z"
   },
   {
    "duration": 3,
    "start_time": "2024-05-13T14:33:08.450Z"
   },
   {
    "duration": 386,
    "start_time": "2024-05-13T14:33:09.820Z"
   },
   {
    "duration": 340,
    "start_time": "2024-05-13T14:33:14.650Z"
   },
   {
    "duration": 30,
    "start_time": "2024-05-13T14:33:16.921Z"
   },
   {
    "duration": 230,
    "start_time": "2024-05-13T14:33:21.149Z"
   },
   {
    "duration": 4,
    "start_time": "2024-05-13T14:33:23.308Z"
   },
   {
    "duration": 4,
    "start_time": "2024-05-13T14:33:24.788Z"
   },
   {
    "duration": 4,
    "start_time": "2024-05-13T14:35:44.542Z"
   },
   {
    "duration": 8972,
    "start_time": "2024-05-13T14:40:30.909Z"
   },
   {
    "duration": 139,
    "start_time": "2024-05-13T14:40:41.388Z"
   },
   {
    "duration": 3,
    "start_time": "2024-05-13T14:40:46.277Z"
   },
   {
    "duration": 941,
    "start_time": "2024-05-13T14:40:47.970Z"
   },
   {
    "duration": 56,
    "start_time": "2024-05-13T14:40:56.189Z"
   },
   {
    "duration": 3,
    "start_time": "2024-05-13T14:40:57.796Z"
   },
   {
    "duration": 42,
    "start_time": "2024-05-13T14:40:58.711Z"
   },
   {
    "duration": 106,
    "start_time": "2024-05-13T14:41:00.400Z"
   },
   {
    "duration": 35,
    "start_time": "2024-05-13T14:41:01.990Z"
   },
   {
    "duration": 49,
    "start_time": "2024-05-13T14:41:07.748Z"
   },
   {
    "duration": 113,
    "start_time": "2024-05-13T14:41:13.848Z"
   },
   {
    "duration": 68,
    "start_time": "2024-05-13T14:41:22.850Z"
   },
   {
    "duration": 13,
    "start_time": "2024-05-13T14:41:27.360Z"
   },
   {
    "duration": 7,
    "start_time": "2024-05-13T14:41:39.650Z"
   },
   {
    "duration": 2,
    "start_time": "2024-05-13T14:41:40.988Z"
   },
   {
    "duration": 51,
    "start_time": "2024-05-13T14:41:42.277Z"
   },
   {
    "duration": 309,
    "start_time": "2024-05-13T14:41:47.500Z"
   },
   {
    "duration": 296,
    "start_time": "2024-05-13T14:41:49.511Z"
   },
   {
    "duration": 229,
    "start_time": "2024-05-13T14:41:53.557Z"
   },
   {
    "duration": 99,
    "start_time": "2024-05-13T14:41:54.756Z"
   },
   {
    "duration": 60,
    "start_time": "2024-05-13T14:42:24.809Z"
   },
   {
    "duration": 4,
    "start_time": "2024-05-13T14:42:26.231Z"
   },
   {
    "duration": 3,
    "start_time": "2024-05-13T14:42:27.316Z"
   },
   {
    "duration": 255,
    "start_time": "2024-05-13T14:42:28.220Z"
   },
   {
    "duration": 269,
    "start_time": "2024-05-13T14:42:33.148Z"
   },
   {
    "duration": 241,
    "start_time": "2024-05-13T14:42:34.909Z"
   },
   {
    "duration": 121,
    "start_time": "2024-05-13T14:42:36.189Z"
   },
   {
    "duration": 157,
    "start_time": "2024-05-13T14:42:40.531Z"
   },
   {
    "duration": 318,
    "start_time": "2024-05-13T14:42:42.028Z"
   },
   {
    "duration": 58,
    "start_time": "2024-05-13T14:42:43.411Z"
   },
   {
    "duration": 84,
    "start_time": "2024-05-13T14:42:44.197Z"
   },
   {
    "duration": 19,
    "start_time": "2024-05-13T14:42:47.498Z"
   },
   {
    "duration": 83,
    "start_time": "2024-05-13T14:42:48.471Z"
   },
   {
    "duration": 6,
    "start_time": "2024-05-13T14:42:52.572Z"
   },
   {
    "duration": 30,
    "start_time": "2024-05-13T14:42:55.350Z"
   },
   {
    "duration": 4,
    "start_time": "2024-05-13T14:42:57.051Z"
   },
   {
    "duration": 14,
    "start_time": "2024-05-13T14:43:00.997Z"
   },
   {
    "duration": 273,
    "start_time": "2024-05-13T14:43:02.649Z"
   },
   {
    "duration": 147,
    "start_time": "2024-05-13T14:43:06.196Z"
   },
   {
    "duration": 119,
    "start_time": "2024-05-13T14:43:08.916Z"
   },
   {
    "duration": 3,
    "start_time": "2024-05-13T14:43:10.241Z"
   },
   {
    "duration": 63,
    "start_time": "2024-05-13T14:43:18.231Z"
   },
   {
    "duration": 4,
    "start_time": "2024-05-13T14:43:19.970Z"
   },
   {
    "duration": 4,
    "start_time": "2024-05-13T14:43:21.131Z"
   },
   {
    "duration": 52,
    "start_time": "2024-05-13T14:43:23.788Z"
   },
   {
    "duration": 4,
    "start_time": "2024-05-13T14:43:29.152Z"
   },
   {
    "duration": 4,
    "start_time": "2024-05-13T14:43:30.593Z"
   },
   {
    "duration": 4,
    "start_time": "2024-05-13T14:43:36.550Z"
   },
   {
    "duration": 3,
    "start_time": "2024-05-13T14:43:43.657Z"
   },
   {
    "duration": 447,
    "start_time": "2024-05-13T14:43:44.909Z"
   },
   {
    "duration": 317,
    "start_time": "2024-05-13T14:43:49.019Z"
   },
   {
    "duration": 26,
    "start_time": "2024-05-13T14:43:53.877Z"
   },
   {
    "duration": 227,
    "start_time": "2024-05-13T14:43:56.150Z"
   },
   {
    "duration": 4,
    "start_time": "2024-05-13T14:43:58.916Z"
   },
   {
    "duration": 5,
    "start_time": "2024-05-13T14:44:00.269Z"
   },
   {
    "duration": 5,
    "start_time": "2024-05-13T14:49:32.279Z"
   },
   {
    "duration": 169,
    "start_time": "2024-05-13T14:52:13.819Z"
   },
   {
    "duration": 4,
    "start_time": "2024-05-13T14:52:15.215Z"
   },
   {
    "duration": 3,
    "start_time": "2024-05-13T14:52:16.973Z"
   },
   {
    "duration": 160,
    "start_time": "2024-05-13T14:52:18.786Z"
   },
   {
    "duration": 4,
    "start_time": "2024-05-13T14:52:22.952Z"
   },
   {
    "duration": 9023,
    "start_time": "2024-05-13T14:53:11.606Z"
   },
   {
    "duration": 143,
    "start_time": "2024-05-13T14:53:21.934Z"
   },
   {
    "duration": 4,
    "start_time": "2024-05-13T14:53:26.886Z"
   },
   {
    "duration": 926,
    "start_time": "2024-05-13T14:53:28.192Z"
   },
   {
    "duration": 62,
    "start_time": "2024-05-13T14:53:34.031Z"
   },
   {
    "duration": 4,
    "start_time": "2024-05-13T14:53:35.216Z"
   },
   {
    "duration": 42,
    "start_time": "2024-05-13T14:53:36.046Z"
   },
   {
    "duration": 90,
    "start_time": "2024-05-13T14:53:37.293Z"
   },
   {
    "duration": 33,
    "start_time": "2024-05-13T14:53:38.555Z"
   },
   {
    "duration": 66,
    "start_time": "2024-05-13T14:53:49.458Z"
   },
   {
    "duration": 13,
    "start_time": "2024-05-13T14:53:54.092Z"
   },
   {
    "duration": 48,
    "start_time": "2024-05-13T14:53:58.671Z"
   },
   {
    "duration": 4,
    "start_time": "2024-05-13T14:53:59.597Z"
   },
   {
    "duration": 2,
    "start_time": "2024-05-13T14:54:03.426Z"
   },
   {
    "duration": 282,
    "start_time": "2024-05-13T14:54:04.598Z"
   },
   {
    "duration": 261,
    "start_time": "2024-05-13T14:54:06.120Z"
   },
   {
    "duration": 227,
    "start_time": "2024-05-13T14:54:10.167Z"
   },
   {
    "duration": 97,
    "start_time": "2024-05-13T14:54:11.951Z"
   },
   {
    "duration": 152,
    "start_time": "2024-05-13T14:54:16.731Z"
   },
   {
    "duration": 252,
    "start_time": "2024-05-13T14:54:18.111Z"
   },
   {
    "duration": 41,
    "start_time": "2024-05-13T14:54:19.565Z"
   },
   {
    "duration": 121,
    "start_time": "2024-05-13T14:54:21.161Z"
   },
   {
    "duration": 22,
    "start_time": "2024-05-13T14:54:25.645Z"
   },
   {
    "duration": 90,
    "start_time": "2024-05-13T14:54:26.866Z"
   },
   {
    "duration": 6,
    "start_time": "2024-05-13T14:54:29.110Z"
   },
   {
    "duration": 38,
    "start_time": "2024-05-13T14:54:33.638Z"
   },
   {
    "duration": 3,
    "start_time": "2024-05-13T14:54:35.399Z"
   },
   {
    "duration": 15,
    "start_time": "2024-05-13T14:54:36.709Z"
   },
   {
    "duration": 318,
    "start_time": "2024-05-13T14:54:40.946Z"
   },
   {
    "duration": 201,
    "start_time": "2024-05-13T14:54:46.236Z"
   },
   {
    "duration": 140,
    "start_time": "2024-05-13T14:54:47.013Z"
   },
   {
    "duration": 4,
    "start_time": "2024-05-13T14:54:51.192Z"
   },
   {
    "duration": 68,
    "start_time": "2024-05-13T14:54:59.487Z"
   },
   {
    "duration": 4,
    "start_time": "2024-05-13T14:55:00.712Z"
   },
   {
    "duration": 4,
    "start_time": "2024-05-13T14:55:02.054Z"
   },
   {
    "duration": 57,
    "start_time": "2024-05-13T14:55:08.861Z"
   },
   {
    "duration": 6,
    "start_time": "2024-05-13T14:55:11.406Z"
   },
   {
    "duration": 5,
    "start_time": "2024-05-13T14:55:12.854Z"
   },
   {
    "duration": 3,
    "start_time": "2024-05-13T14:55:14.599Z"
   },
   {
    "duration": 4,
    "start_time": "2024-05-13T14:55:17.602Z"
   },
   {
    "duration": 393,
    "start_time": "2024-05-13T14:55:24.651Z"
   },
   {
    "duration": 421,
    "start_time": "2024-05-13T14:55:26.280Z"
   },
   {
    "duration": 41,
    "start_time": "2024-05-13T14:55:31.335Z"
   },
   {
    "duration": 4,
    "start_time": "2024-05-13T14:55:33.616Z"
   },
   {
    "duration": 219,
    "start_time": "2024-05-13T14:55:35.493Z"
   },
   {
    "duration": 4,
    "start_time": "2024-05-13T14:55:37.565Z"
   },
   {
    "duration": 4,
    "start_time": "2024-05-13T14:55:42.687Z"
   },
   {
    "duration": 4,
    "start_time": "2024-05-13T14:56:06.357Z"
   },
   {
    "duration": 4,
    "start_time": "2024-05-13T14:56:23.878Z"
   },
   {
    "duration": 5,
    "start_time": "2024-05-13T14:57:33.806Z"
   },
   {
    "duration": 4,
    "start_time": "2024-05-13T14:57:35.056Z"
   },
   {
    "duration": 84,
    "start_time": "2024-05-13T14:57:46.137Z"
   },
   {
    "duration": 4,
    "start_time": "2024-05-13T14:57:47.878Z"
   },
   {
    "duration": 169,
    "start_time": "2024-05-13T14:59:07.558Z"
   },
   {
    "duration": 4,
    "start_time": "2024-05-13T14:59:09.014Z"
   },
   {
    "duration": 4,
    "start_time": "2024-05-13T14:59:10.792Z"
   },
   {
    "duration": 4,
    "start_time": "2024-05-13T14:59:23.243Z"
   },
   {
    "duration": 4,
    "start_time": "2024-05-13T14:59:45.012Z"
   },
   {
    "duration": 4,
    "start_time": "2024-05-13T15:00:11.856Z"
   },
   {
    "duration": 4,
    "start_time": "2024-05-13T15:00:23.164Z"
   },
   {
    "duration": 9084,
    "start_time": "2024-05-13T15:01:21.630Z"
   },
   {
    "duration": 135,
    "start_time": "2024-05-13T15:01:32.016Z"
   },
   {
    "duration": 3,
    "start_time": "2024-05-13T15:01:36.712Z"
   },
   {
    "duration": 923,
    "start_time": "2024-05-13T15:01:37.709Z"
   },
   {
    "duration": 56,
    "start_time": "2024-05-13T15:01:44.562Z"
   },
   {
    "duration": 3,
    "start_time": "2024-05-13T15:01:46.092Z"
   },
   {
    "duration": 42,
    "start_time": "2024-05-13T15:01:47.095Z"
   },
   {
    "duration": 105,
    "start_time": "2024-05-13T15:01:48.429Z"
   },
   {
    "duration": 35,
    "start_time": "2024-05-13T15:01:49.604Z"
   },
   {
    "duration": 55,
    "start_time": "2024-05-13T15:01:55.429Z"
   },
   {
    "duration": 79,
    "start_time": "2024-05-13T15:02:03.823Z"
   },
   {
    "duration": 13,
    "start_time": "2024-05-13T15:02:08.510Z"
   },
   {
    "duration": 126,
    "start_time": "2024-05-13T15:02:10.005Z"
   },
   {
    "duration": 59,
    "start_time": "2024-05-13T15:02:17.871Z"
   },
   {
    "duration": 6,
    "start_time": "2024-05-13T15:02:19.326Z"
   },
   {
    "duration": 2,
    "start_time": "2024-05-13T15:02:20.678Z"
   },
   {
    "duration": 302,
    "start_time": "2024-05-13T15:02:22.091Z"
   },
   {
    "duration": 271,
    "start_time": "2024-05-13T15:02:26.403Z"
   },
   {
    "duration": 230,
    "start_time": "2024-05-13T15:02:27.389Z"
   },
   {
    "duration": 92,
    "start_time": "2024-05-13T15:02:28.718Z"
   },
   {
    "duration": 143,
    "start_time": "2024-05-13T15:02:32.862Z"
   },
   {
    "duration": 305,
    "start_time": "2024-05-13T15:02:33.933Z"
   },
   {
    "duration": 63,
    "start_time": "2024-05-13T15:02:38.214Z"
   },
   {
    "duration": 85,
    "start_time": "2024-05-13T15:02:40.175Z"
   },
   {
    "duration": 20,
    "start_time": "2024-05-13T15:02:43.885Z"
   },
   {
    "duration": 84,
    "start_time": "2024-05-13T15:02:44.974Z"
   },
   {
    "duration": 6,
    "start_time": "2024-05-13T15:02:46.144Z"
   },
   {
    "duration": 25,
    "start_time": "2024-05-13T15:02:51.425Z"
   },
   {
    "duration": 4,
    "start_time": "2024-05-13T15:02:52.685Z"
   },
   {
    "duration": 14,
    "start_time": "2024-05-13T15:02:54.117Z"
   },
   {
    "duration": 291,
    "start_time": "2024-05-13T15:02:58.455Z"
   },
   {
    "duration": 157,
    "start_time": "2024-05-13T15:03:00.590Z"
   },
   {
    "duration": 128,
    "start_time": "2024-05-13T15:03:02.429Z"
   },
   {
    "duration": 4,
    "start_time": "2024-05-13T15:03:04.132Z"
   },
   {
    "duration": 116,
    "start_time": "2024-05-13T15:03:11.173Z"
   },
   {
    "duration": 3,
    "start_time": "2024-05-13T15:03:12.358Z"
   },
   {
    "duration": 4,
    "start_time": "2024-05-13T15:03:13.592Z"
   },
   {
    "duration": 81,
    "start_time": "2024-05-13T15:03:14.844Z"
   },
   {
    "duration": 4,
    "start_time": "2024-05-13T15:03:20.245Z"
   },
   {
    "duration": 5,
    "start_time": "2024-05-13T15:03:21.527Z"
   },
   {
    "duration": 3,
    "start_time": "2024-05-13T15:03:22.685Z"
   },
   {
    "duration": 4,
    "start_time": "2024-05-13T15:03:30.585Z"
   },
   {
    "duration": 372,
    "start_time": "2024-05-13T15:03:36.395Z"
   },
   {
    "duration": 311,
    "start_time": "2024-05-13T15:03:38.496Z"
   },
   {
    "duration": 30,
    "start_time": "2024-05-13T15:03:44.109Z"
   },
   {
    "duration": 4,
    "start_time": "2024-05-13T15:03:52.135Z"
   },
   {
    "duration": 4,
    "start_time": "2024-05-13T15:03:53.660Z"
   },
   {
    "duration": 4,
    "start_time": "2024-05-13T15:03:55.317Z"
   },
   {
    "duration": 185,
    "start_time": "2024-05-13T15:05:33.355Z"
   },
   {
    "duration": 4,
    "start_time": "2024-05-13T15:05:35.573Z"
   },
   {
    "duration": 4,
    "start_time": "2024-05-13T15:05:39.742Z"
   },
   {
    "duration": 4,
    "start_time": "2024-05-13T15:05:41.601Z"
   },
   {
    "duration": 213,
    "start_time": "2024-05-13T15:06:39.568Z"
   },
   {
    "duration": 4,
    "start_time": "2024-05-13T15:06:40.822Z"
   },
   {
    "duration": 4,
    "start_time": "2024-05-13T15:07:09.982Z"
   },
   {
    "duration": 3,
    "start_time": "2024-05-13T15:07:11.168Z"
   },
   {
    "duration": 4,
    "start_time": "2024-05-13T15:07:12.543Z"
   },
   {
    "duration": 178,
    "start_time": "2024-05-13T15:07:15.392Z"
   },
   {
    "duration": 4,
    "start_time": "2024-05-13T15:07:16.832Z"
   },
   {
    "duration": 4,
    "start_time": "2024-05-13T15:07:18.343Z"
   },
   {
    "duration": 4,
    "start_time": "2024-05-13T15:07:23.529Z"
   },
   {
    "duration": 4,
    "start_time": "2024-05-13T15:07:31.912Z"
   },
   {
    "duration": 4,
    "start_time": "2024-05-13T15:09:13.068Z"
   },
   {
    "duration": 4,
    "start_time": "2024-05-13T15:09:14.500Z"
   },
   {
    "duration": 5,
    "start_time": "2024-05-13T15:09:15.862Z"
   },
   {
    "duration": 169,
    "start_time": "2024-05-13T15:09:17.382Z"
   },
   {
    "duration": 4,
    "start_time": "2024-05-13T15:09:18.632Z"
   },
   {
    "duration": 131,
    "start_time": "2024-05-13T15:16:07.824Z"
   },
   {
    "duration": 132,
    "start_time": "2024-05-13T15:21:53.741Z"
   },
   {
    "duration": 4,
    "start_time": "2024-05-13T15:21:55.944Z"
   },
   {
    "duration": 70,
    "start_time": "2024-05-13T15:23:11.163Z"
   },
   {
    "duration": 4,
    "start_time": "2024-05-13T15:23:12.543Z"
   },
   {
    "duration": 4,
    "start_time": "2024-05-13T15:23:13.824Z"
   },
   {
    "duration": 4,
    "start_time": "2024-05-13T15:23:22.286Z"
   },
   {
    "duration": 3,
    "start_time": "2024-05-13T15:23:23.933Z"
   },
   {
    "duration": 4,
    "start_time": "2024-05-13T15:23:25.066Z"
   },
   {
    "duration": 32969,
    "start_time": "2024-05-13T15:23:39.459Z"
   },
   {
    "duration": 4,
    "start_time": "2024-05-13T15:25:38.683Z"
   },
   {
    "duration": 4,
    "start_time": "2024-05-13T15:25:56.901Z"
   },
   {
    "duration": 12,
    "start_time": "2024-05-13T15:26:35.472Z"
   },
   {
    "duration": 4,
    "start_time": "2024-05-13T15:26:47.413Z"
   },
   {
    "duration": 4,
    "start_time": "2024-05-13T15:27:01.692Z"
   },
   {
    "duration": 9069,
    "start_time": "2024-05-13T15:27:22.492Z"
   },
   {
    "duration": 146,
    "start_time": "2024-05-13T15:27:33.461Z"
   },
   {
    "duration": 3,
    "start_time": "2024-05-13T15:27:38.581Z"
   },
   {
    "duration": 984,
    "start_time": "2024-05-13T15:27:39.586Z"
   },
   {
    "duration": 53,
    "start_time": "2024-05-13T15:27:45.738Z"
   },
   {
    "duration": 3,
    "start_time": "2024-05-13T15:27:47.084Z"
   },
   {
    "duration": 42,
    "start_time": "2024-05-13T15:27:48.296Z"
   },
   {
    "duration": 93,
    "start_time": "2024-05-13T15:27:49.636Z"
   },
   {
    "duration": 38,
    "start_time": "2024-05-13T15:27:50.936Z"
   },
   {
    "duration": 46,
    "start_time": "2024-05-13T15:27:55.921Z"
   },
   {
    "duration": 67,
    "start_time": "2024-05-13T15:28:04.754Z"
   },
   {
    "duration": 13,
    "start_time": "2024-05-13T15:28:09.566Z"
   },
   {
    "duration": 52,
    "start_time": "2024-05-13T15:28:15.162Z"
   },
   {
    "duration": 5,
    "start_time": "2024-05-13T15:28:16.116Z"
   },
   {
    "duration": 2,
    "start_time": "2024-05-13T15:28:17.293Z"
   },
   {
    "duration": 297,
    "start_time": "2024-05-13T15:28:18.769Z"
   },
   {
    "duration": 312,
    "start_time": "2024-05-13T15:28:23.425Z"
   },
   {
    "duration": 244,
    "start_time": "2024-05-13T15:28:24.614Z"
   },
   {
    "duration": 103,
    "start_time": "2024-05-13T15:28:26.181Z"
   },
   {
    "duration": 167,
    "start_time": "2024-05-13T15:28:31.173Z"
   },
   {
    "duration": 269,
    "start_time": "2024-05-13T15:28:32.461Z"
   },
   {
    "duration": 62,
    "start_time": "2024-05-13T15:28:33.807Z"
   },
   {
    "duration": 85,
    "start_time": "2024-05-13T15:28:34.999Z"
   },
   {
    "duration": 21,
    "start_time": "2024-05-13T15:28:38.574Z"
   },
   {
    "duration": 6,
    "start_time": "2024-05-13T15:28:42.062Z"
   },
   {
    "duration": 30,
    "start_time": "2024-05-13T15:28:43.248Z"
   },
   {
    "duration": 3,
    "start_time": "2024-05-13T15:28:44.543Z"
   },
   {
    "duration": 13,
    "start_time": "2024-05-13T15:28:49.469Z"
   },
   {
    "duration": 318,
    "start_time": "2024-05-13T15:28:51.013Z"
   },
   {
    "duration": 149,
    "start_time": "2024-05-13T15:29:02.212Z"
   },
   {
    "duration": 147,
    "start_time": "2024-05-13T15:29:03.090Z"
   },
   {
    "duration": 4,
    "start_time": "2024-05-13T15:29:04.379Z"
   },
   {
    "duration": 8912,
    "start_time": "2024-05-13T15:29:14.835Z"
   },
   {
    "duration": 164,
    "start_time": "2024-05-13T15:29:25.471Z"
   },
   {
    "duration": 5,
    "start_time": "2024-05-13T15:29:30.273Z"
   },
   {
    "duration": 960,
    "start_time": "2024-05-13T15:29:31.264Z"
   },
   {
    "duration": 162,
    "start_time": "2024-05-13T15:29:33.355Z"
   },
   {
    "duration": 51,
    "start_time": "2024-05-13T15:29:37.146Z"
   },
   {
    "duration": 3,
    "start_time": "2024-05-13T15:29:40.952Z"
   },
   {
    "duration": 44,
    "start_time": "2024-05-13T15:29:42.028Z"
   },
   {
    "duration": 89,
    "start_time": "2024-05-13T15:29:43.425Z"
   },
   {
    "duration": 32,
    "start_time": "2024-05-13T15:29:44.492Z"
   },
   {
    "duration": 41,
    "start_time": "2024-05-13T15:29:48.368Z"
   },
   {
    "duration": 78,
    "start_time": "2024-05-13T15:29:55.423Z"
   },
   {
    "duration": 13,
    "start_time": "2024-05-13T15:29:59.512Z"
   },
   {
    "duration": 52,
    "start_time": "2024-05-13T15:30:04.286Z"
   },
   {
    "duration": 6,
    "start_time": "2024-05-13T15:30:05.646Z"
   },
   {
    "duration": 3,
    "start_time": "2024-05-13T15:30:06.717Z"
   },
   {
    "duration": 282,
    "start_time": "2024-05-13T15:30:08.102Z"
   },
   {
    "duration": 291,
    "start_time": "2024-05-13T15:30:12.492Z"
   },
   {
    "duration": 227,
    "start_time": "2024-05-13T15:30:13.646Z"
   },
   {
    "duration": 155,
    "start_time": "2024-05-13T15:30:18.029Z"
   },
   {
    "duration": 271,
    "start_time": "2024-05-13T15:30:21.555Z"
   },
   {
    "duration": 58,
    "start_time": "2024-05-13T15:30:22.639Z"
   },
   {
    "duration": 103,
    "start_time": "2024-05-13T15:30:23.636Z"
   },
   {
    "duration": 21,
    "start_time": "2024-05-13T15:30:25.312Z"
   },
   {
    "duration": 80,
    "start_time": "2024-05-13T15:30:26.349Z"
   },
   {
    "duration": 6,
    "start_time": "2024-05-13T15:30:30.293Z"
   },
   {
    "duration": 28,
    "start_time": "2024-05-13T15:30:31.644Z"
   },
   {
    "duration": 12,
    "start_time": "2024-05-13T15:30:33.065Z"
   },
   {
    "duration": 3,
    "start_time": "2024-05-13T15:30:37.469Z"
   },
   {
    "duration": 14,
    "start_time": "2024-05-13T15:30:39.071Z"
   },
   {
    "duration": 275,
    "start_time": "2024-05-13T15:30:43.759Z"
   },
   {
    "duration": 156,
    "start_time": "2024-05-13T15:30:45.578Z"
   },
   {
    "duration": 4,
    "start_time": "2024-05-13T15:30:46.989Z"
   },
   {
    "duration": 62,
    "start_time": "2024-05-13T15:30:53.559Z"
   },
   {
    "duration": 4,
    "start_time": "2024-05-13T15:30:56.186Z"
   },
   {
    "duration": 3,
    "start_time": "2024-05-13T15:30:57.533Z"
   },
   {
    "duration": 55,
    "start_time": "2024-05-13T15:31:03.226Z"
   },
   {
    "duration": 4,
    "start_time": "2024-05-13T15:31:04.860Z"
   },
   {
    "duration": 4,
    "start_time": "2024-05-13T15:31:06.021Z"
   },
   {
    "duration": 4,
    "start_time": "2024-05-13T15:31:07.940Z"
   },
   {
    "duration": 3,
    "start_time": "2024-05-13T15:31:20.741Z"
   },
   {
    "duration": 392,
    "start_time": "2024-05-13T15:31:21.836Z"
   },
   {
    "duration": 323,
    "start_time": "2024-05-13T15:31:25.988Z"
   },
   {
    "duration": 33,
    "start_time": "2024-05-13T15:31:32.717Z"
   },
   {
    "duration": 4,
    "start_time": "2024-05-13T15:31:34.756Z"
   },
   {
    "duration": 4,
    "start_time": "2024-05-13T15:31:35.998Z"
   },
   {
    "duration": 4,
    "start_time": "2024-05-13T15:31:37.853Z"
   },
   {
    "duration": 3,
    "start_time": "2024-05-13T15:31:39.114Z"
   },
   {
    "duration": 4,
    "start_time": "2024-05-13T15:31:40.528Z"
   },
   {
    "duration": 75,
    "start_time": "2024-05-13T15:32:39.328Z"
   },
   {
    "duration": 4,
    "start_time": "2024-05-13T15:32:41.339Z"
   },
   {
    "duration": 4,
    "start_time": "2024-05-13T15:32:42.386Z"
   },
   {
    "duration": 46,
    "start_time": "2024-05-13T15:32:47.701Z"
   },
   {
    "duration": 4,
    "start_time": "2024-05-13T15:32:49.052Z"
   },
   {
    "duration": 4,
    "start_time": "2024-05-13T15:32:50.033Z"
   },
   {
    "duration": 4,
    "start_time": "2024-05-13T15:32:51.467Z"
   },
   {
    "duration": 3,
    "start_time": "2024-05-13T15:32:53.140Z"
   },
   {
    "duration": 335,
    "start_time": "2024-05-13T15:32:57.463Z"
   },
   {
    "duration": 330,
    "start_time": "2024-05-13T15:33:03.374Z"
   },
   {
    "duration": 28,
    "start_time": "2024-05-13T15:33:07.788Z"
   },
   {
    "duration": 4,
    "start_time": "2024-05-13T15:33:09.083Z"
   },
   {
    "duration": 9,
    "start_time": "2024-05-13T15:33:10.038Z"
   },
   {
    "duration": 5,
    "start_time": "2024-05-13T15:33:11.193Z"
   },
   {
    "duration": 4,
    "start_time": "2024-05-13T15:33:12.276Z"
   },
   {
    "duration": 4,
    "start_time": "2024-05-13T15:33:13.656Z"
   },
   {
    "duration": 4,
    "start_time": "2024-05-13T15:33:17.486Z"
   },
   {
    "duration": 69,
    "start_time": "2024-05-13T15:33:19.009Z"
   },
   {
    "duration": 4,
    "start_time": "2024-05-13T15:33:20.556Z"
   },
   {
    "duration": 3,
    "start_time": "2024-05-13T15:33:24.595Z"
   },
   {
    "duration": 3,
    "start_time": "2024-05-13T15:33:26.064Z"
   },
   {
    "duration": 4,
    "start_time": "2024-05-13T15:33:28.033Z"
   },
   {
    "duration": 3,
    "start_time": "2024-05-13T15:33:29.877Z"
   },
   {
    "duration": 34784,
    "start_time": "2024-05-13T15:33:35.311Z"
   },
   {
    "duration": 125,
    "start_time": "2024-05-13T15:35:54.596Z"
   },
   {
    "duration": 47,
    "start_time": "2024-05-13T15:35:56.093Z"
   },
   {
    "duration": 28,
    "start_time": "2024-05-13T15:36:02.938Z"
   },
   {
    "duration": 107889,
    "start_time": "2024-05-13T15:36:08.126Z"
   },
   {
    "duration": 27916,
    "start_time": "2024-05-13T15:37:56.017Z"
   },
   {
    "duration": 11,
    "start_time": "2024-05-13T15:41:37.201Z"
   },
   {
    "duration": 81,
    "start_time": "2024-05-13T15:45:53.555Z"
   },
   {
    "duration": 16425,
    "start_time": "2024-05-14T09:25:26.495Z"
   },
   {
    "duration": 143,
    "start_time": "2024-05-14T09:25:42.922Z"
   },
   {
    "duration": 3,
    "start_time": "2024-05-14T09:25:43.067Z"
   },
   {
    "duration": 1253,
    "start_time": "2024-05-14T09:25:43.072Z"
   },
   {
    "duration": 17,
    "start_time": "2024-05-14T09:25:44.328Z"
   },
   {
    "duration": 163,
    "start_time": "2024-05-14T09:25:44.347Z"
   },
   {
    "duration": 63,
    "start_time": "2024-05-14T09:25:44.512Z"
   },
   {
    "duration": 3,
    "start_time": "2024-05-14T09:25:44.577Z"
   },
   {
    "duration": 63,
    "start_time": "2024-05-14T09:25:44.582Z"
   },
   {
    "duration": 100,
    "start_time": "2024-05-14T09:25:44.647Z"
   },
   {
    "duration": 42,
    "start_time": "2024-05-14T09:25:44.749Z"
   },
   {
    "duration": 11,
    "start_time": "2024-05-14T09:25:44.793Z"
   },
   {
    "duration": 54,
    "start_time": "2024-05-14T09:25:44.805Z"
   },
   {
    "duration": 47,
    "start_time": "2024-05-14T09:25:44.862Z"
   },
   {
    "duration": 13,
    "start_time": "2024-05-14T09:25:44.910Z"
   },
   {
    "duration": 108,
    "start_time": "2024-05-14T09:25:44.924Z"
   },
   {
    "duration": 40,
    "start_time": "2024-05-14T09:25:45.034Z"
   },
   {
    "duration": 52,
    "start_time": "2024-05-14T09:25:45.075Z"
   },
   {
    "duration": 99,
    "start_time": "2024-05-14T09:25:45.128Z"
   },
   {
    "duration": 27,
    "start_time": "2024-05-14T09:25:45.228Z"
   },
   {
    "duration": 119,
    "start_time": "2024-05-14T09:25:45.256Z"
   },
   {
    "duration": 70,
    "start_time": "2024-05-14T09:25:45.377Z"
   },
   {
    "duration": 11,
    "start_time": "2024-05-14T09:25:45.449Z"
   },
   {
    "duration": 5277,
    "start_time": "2024-05-14T09:25:48.278Z"
   },
   {
    "duration": 1181,
    "start_time": "2024-05-14T09:25:53.556Z"
   },
   {
    "duration": 22,
    "start_time": "2024-05-14T09:25:54.739Z"
   },
   {
    "duration": 91,
    "start_time": "2024-05-14T09:25:54.762Z"
   },
   {
    "duration": 54,
    "start_time": "2024-05-14T09:25:54.855Z"
   },
   {
    "duration": 3,
    "start_time": "2024-05-14T09:25:54.911Z"
   },
   {
    "duration": 9715,
    "start_time": "2024-05-14T10:07:42.591Z"
   },
   {
    "duration": 144,
    "start_time": "2024-05-14T10:07:52.309Z"
   },
   {
    "duration": 3,
    "start_time": "2024-05-14T10:07:52.455Z"
   },
   {
    "duration": 972,
    "start_time": "2024-05-14T10:07:52.460Z"
   },
   {
    "duration": 17,
    "start_time": "2024-05-14T10:07:53.435Z"
   },
   {
    "duration": 169,
    "start_time": "2024-05-14T10:07:53.454Z"
   },
   {
    "duration": 61,
    "start_time": "2024-05-14T10:07:53.625Z"
   },
   {
    "duration": 3,
    "start_time": "2024-05-14T10:07:53.688Z"
   },
   {
    "duration": 84,
    "start_time": "2024-05-14T10:07:53.693Z"
   },
   {
    "duration": 125,
    "start_time": "2024-05-14T10:07:53.779Z"
   },
   {
    "duration": 36,
    "start_time": "2024-05-14T10:07:53.906Z"
   },
   {
    "duration": 12,
    "start_time": "2024-05-14T10:07:53.944Z"
   },
   {
    "duration": 31,
    "start_time": "2024-05-14T10:07:53.958Z"
   },
   {
    "duration": 48,
    "start_time": "2024-05-14T10:07:53.992Z"
   },
   {
    "duration": 11,
    "start_time": "2024-05-14T10:07:54.042Z"
   },
   {
    "duration": 116,
    "start_time": "2024-05-14T10:07:54.055Z"
   },
   {
    "duration": 18,
    "start_time": "2024-05-14T10:07:54.173Z"
   },
   {
    "duration": 22,
    "start_time": "2024-05-14T10:07:54.193Z"
   },
   {
    "duration": 95,
    "start_time": "2024-05-14T10:07:54.217Z"
   },
   {
    "duration": 27,
    "start_time": "2024-05-14T10:07:54.314Z"
   },
   {
    "duration": 126,
    "start_time": "2024-05-14T10:07:54.343Z"
   },
   {
    "duration": 55,
    "start_time": "2024-05-14T10:07:54.471Z"
   },
   {
    "duration": 12,
    "start_time": "2024-05-14T10:07:54.527Z"
   },
   {
    "duration": 103,
    "start_time": "2024-05-14T10:07:54.540Z"
   },
   {
    "duration": 7,
    "start_time": "2024-05-14T10:07:54.644Z"
   },
   {
    "duration": 60,
    "start_time": "2024-05-14T10:07:54.652Z"
   },
   {
    "duration": 4,
    "start_time": "2024-05-14T10:07:54.713Z"
   },
   {
    "duration": 54,
    "start_time": "2024-05-14T10:07:54.719Z"
   },
   {
    "duration": 41,
    "start_time": "2024-05-14T10:07:54.775Z"
   },
   {
    "duration": 293,
    "start_time": "2024-05-14T10:07:54.818Z"
   },
   {
    "duration": 39,
    "start_time": "2024-05-14T10:07:55.113Z"
   },
   {
    "duration": 286,
    "start_time": "2024-05-14T10:07:55.154Z"
   },
   {
    "duration": 260,
    "start_time": "2024-05-14T10:07:55.442Z"
   },
   {
    "duration": 102,
    "start_time": "2024-05-14T10:07:55.704Z"
   },
   {
    "duration": 40,
    "start_time": "2024-05-14T10:07:55.808Z"
   },
   {
    "duration": 179,
    "start_time": "2024-05-14T10:07:55.850Z"
   },
   {
    "duration": 296,
    "start_time": "2024-05-14T10:07:56.031Z"
   },
   {
    "duration": 60,
    "start_time": "2024-05-14T10:07:56.328Z"
   },
   {
    "duration": 87,
    "start_time": "2024-05-14T10:07:56.390Z"
   },
   {
    "duration": 21,
    "start_time": "2024-05-14T10:07:56.478Z"
   },
   {
    "duration": 92,
    "start_time": "2024-05-14T10:07:56.503Z"
   },
   {
    "duration": 5,
    "start_time": "2024-05-14T10:07:56.596Z"
   },
   {
    "duration": 34,
    "start_time": "2024-05-14T10:07:56.603Z"
   },
   {
    "duration": 11,
    "start_time": "2024-05-14T10:07:56.639Z"
   },
   {
    "duration": 19,
    "start_time": "2024-05-14T10:07:56.652Z"
   },
   {
    "duration": 16,
    "start_time": "2024-05-14T10:07:56.673Z"
   },
   {
    "duration": 12,
    "start_time": "2024-05-14T10:07:56.691Z"
   },
   {
    "duration": 299,
    "start_time": "2024-05-14T10:07:56.704Z"
   },
   {
    "duration": 156,
    "start_time": "2024-05-14T10:07:57.004Z"
   },
   {
    "duration": 123,
    "start_time": "2024-05-14T10:07:57.162Z"
   },
   {
    "duration": 4,
    "start_time": "2024-05-14T10:07:57.287Z"
   },
   {
    "duration": 5194,
    "start_time": "2024-05-14T10:07:57.293Z"
   },
   {
    "duration": 1376,
    "start_time": "2024-05-14T10:08:02.489Z"
   },
   {
    "duration": 21,
    "start_time": "2024-05-14T10:08:03.867Z"
   },
   {
    "duration": 84,
    "start_time": "2024-05-14T10:08:03.889Z"
   },
   {
    "duration": 53,
    "start_time": "2024-05-14T10:08:03.975Z"
   },
   {
    "duration": 3,
    "start_time": "2024-05-14T10:08:04.030Z"
   },
   {
    "duration": 366,
    "start_time": "2024-05-14T10:08:04.035Z"
   },
   {
    "duration": 373,
    "start_time": "2024-05-14T10:08:04.403Z"
   },
   {
    "duration": 137,
    "start_time": "2024-05-14T10:08:04.778Z"
   },
   {
    "duration": 0,
    "start_time": "2024-05-14T10:08:04.917Z"
   },
   {
    "duration": 0,
    "start_time": "2024-05-14T10:08:04.919Z"
   },
   {
    "duration": 0,
    "start_time": "2024-05-14T10:08:04.922Z"
   },
   {
    "duration": 24,
    "start_time": "2024-05-14T10:09:05.314Z"
   },
   {
    "duration": 3,
    "start_time": "2024-05-14T10:09:38.353Z"
   },
   {
    "duration": 28,
    "start_time": "2024-05-14T10:09:40.056Z"
   },
   {
    "duration": 72,
    "start_time": "2024-05-14T10:09:45.016Z"
   },
   {
    "duration": 36677,
    "start_time": "2024-05-14T10:09:45.700Z"
   },
   {
    "duration": 191,
    "start_time": "2024-05-14T10:10:22.379Z"
   },
   {
    "duration": 9,
    "start_time": "2024-05-14T10:10:36.617Z"
   },
   {
    "duration": 10,
    "start_time": "2024-05-14T10:11:01.489Z"
   },
   {
    "duration": 31892,
    "start_time": "2024-05-14T10:11:18.914Z"
   },
   {
    "duration": 4,
    "start_time": "2024-05-14T10:12:24.733Z"
   },
   {
    "duration": 43,
    "start_time": "2024-05-14T10:18:14.044Z"
   },
   {
    "duration": 4,
    "start_time": "2024-05-14T10:18:19.365Z"
   },
   {
    "duration": 9371,
    "start_time": "2024-05-14T10:20:16.270Z"
   },
   {
    "duration": 143,
    "start_time": "2024-05-14T10:20:25.644Z"
   },
   {
    "duration": 3,
    "start_time": "2024-05-14T10:20:25.789Z"
   },
   {
    "duration": 940,
    "start_time": "2024-05-14T10:20:25.793Z"
   },
   {
    "duration": 17,
    "start_time": "2024-05-14T10:20:26.735Z"
   },
   {
    "duration": 167,
    "start_time": "2024-05-14T10:20:26.754Z"
   },
   {
    "duration": 61,
    "start_time": "2024-05-14T10:20:26.924Z"
   },
   {
    "duration": 2,
    "start_time": "2024-05-14T10:20:26.987Z"
   },
   {
    "duration": 53,
    "start_time": "2024-05-14T10:20:26.991Z"
   },
   {
    "duration": 104,
    "start_time": "2024-05-14T10:20:27.046Z"
   },
   {
    "duration": 39,
    "start_time": "2024-05-14T10:20:27.152Z"
   },
   {
    "duration": 11,
    "start_time": "2024-05-14T10:20:27.193Z"
   },
   {
    "duration": 49,
    "start_time": "2024-05-14T10:20:27.205Z"
   },
   {
    "duration": 60,
    "start_time": "2024-05-14T10:20:27.257Z"
   },
   {
    "duration": 14,
    "start_time": "2024-05-14T10:20:27.318Z"
   },
   {
    "duration": 120,
    "start_time": "2024-05-14T10:20:27.333Z"
   },
   {
    "duration": 5,
    "start_time": "2024-05-14T10:20:27.455Z"
   },
   {
    "duration": 16,
    "start_time": "2024-05-14T10:20:27.469Z"
   },
   {
    "duration": 89,
    "start_time": "2024-05-14T10:20:27.487Z"
   },
   {
    "duration": 26,
    "start_time": "2024-05-14T10:20:27.577Z"
   },
   {
    "duration": 106,
    "start_time": "2024-05-14T10:20:27.605Z"
   },
   {
    "duration": 66,
    "start_time": "2024-05-14T10:20:27.712Z"
   },
   {
    "duration": 11,
    "start_time": "2024-05-14T10:20:27.780Z"
   },
   {
    "duration": 109,
    "start_time": "2024-05-14T10:20:27.792Z"
   },
   {
    "duration": 17,
    "start_time": "2024-05-14T10:20:27.902Z"
   },
   {
    "duration": 62,
    "start_time": "2024-05-14T10:20:27.920Z"
   },
   {
    "duration": 4,
    "start_time": "2024-05-14T10:20:27.984Z"
   },
   {
    "duration": 24,
    "start_time": "2024-05-14T10:20:27.990Z"
   },
   {
    "duration": 48,
    "start_time": "2024-05-14T10:20:28.016Z"
   },
   {
    "duration": 337,
    "start_time": "2024-05-14T10:20:28.066Z"
   },
   {
    "duration": 36,
    "start_time": "2024-05-14T10:20:28.404Z"
   },
   {
    "duration": 288,
    "start_time": "2024-05-14T10:20:28.441Z"
   },
   {
    "duration": 228,
    "start_time": "2024-05-14T10:20:28.730Z"
   },
   {
    "duration": 109,
    "start_time": "2024-05-14T10:20:28.960Z"
   },
   {
    "duration": 41,
    "start_time": "2024-05-14T10:20:29.071Z"
   },
   {
    "duration": 172,
    "start_time": "2024-05-14T10:20:29.113Z"
   },
   {
    "duration": 299,
    "start_time": "2024-05-14T10:20:29.286Z"
   },
   {
    "duration": 60,
    "start_time": "2024-05-14T10:20:29.587Z"
   },
   {
    "duration": 88,
    "start_time": "2024-05-14T10:20:29.649Z"
   },
   {
    "duration": 57,
    "start_time": "2024-05-14T10:20:29.739Z"
   },
   {
    "duration": 101,
    "start_time": "2024-05-14T10:20:29.800Z"
   },
   {
    "duration": 10,
    "start_time": "2024-05-14T10:20:29.903Z"
   },
   {
    "duration": 30,
    "start_time": "2024-05-14T10:20:29.916Z"
   },
   {
    "duration": 12,
    "start_time": "2024-05-14T10:20:29.948Z"
   },
   {
    "duration": 6,
    "start_time": "2024-05-14T10:20:29.970Z"
   },
   {
    "duration": 21,
    "start_time": "2024-05-14T10:20:29.977Z"
   },
   {
    "duration": 11,
    "start_time": "2024-05-14T10:20:30.000Z"
   },
   {
    "duration": 296,
    "start_time": "2024-05-14T10:20:30.013Z"
   },
   {
    "duration": 167,
    "start_time": "2024-05-14T10:20:30.311Z"
   },
   {
    "duration": 135,
    "start_time": "2024-05-14T10:20:30.480Z"
   },
   {
    "duration": 5,
    "start_time": "2024-05-14T10:20:30.617Z"
   },
   {
    "duration": 5102,
    "start_time": "2024-05-14T10:20:30.623Z"
   },
   {
    "duration": 1190,
    "start_time": "2024-05-14T10:20:35.727Z"
   },
   {
    "duration": 20,
    "start_time": "2024-05-14T10:20:36.918Z"
   },
   {
    "duration": 100,
    "start_time": "2024-05-14T10:20:36.940Z"
   },
   {
    "duration": 52,
    "start_time": "2024-05-14T10:20:37.042Z"
   },
   {
    "duration": 4,
    "start_time": "2024-05-14T10:20:37.095Z"
   },
   {
    "duration": 340,
    "start_time": "2024-05-14T10:20:37.101Z"
   },
   {
    "duration": 329,
    "start_time": "2024-05-14T10:20:37.443Z"
   },
   {
    "duration": 127,
    "start_time": "2024-05-14T10:20:37.774Z"
   },
   {
    "duration": 13711,
    "start_time": "2024-05-14T11:26:00.649Z"
   },
   {
    "duration": 134,
    "start_time": "2024-05-14T11:26:16.848Z"
   },
   {
    "duration": 3,
    "start_time": "2024-05-14T11:26:51.184Z"
   },
   {
    "duration": 2890,
    "start_time": "2024-05-14T11:26:52.526Z"
   },
   {
    "duration": 55,
    "start_time": "2024-05-14T11:27:00.374Z"
   },
   {
    "duration": 3,
    "start_time": "2024-05-14T11:27:01.848Z"
   },
   {
    "duration": 50,
    "start_time": "2024-05-14T11:27:03.052Z"
   },
   {
    "duration": 107,
    "start_time": "2024-05-14T11:27:04.583Z"
   },
   {
    "duration": 29,
    "start_time": "2024-05-14T11:27:06.046Z"
   },
   {
    "duration": 39,
    "start_time": "2024-05-14T11:27:12.496Z"
   },
   {
    "duration": 102,
    "start_time": "2024-05-14T11:27:14.190Z"
   },
   {
    "duration": 4,
    "start_time": "2024-05-14T11:27:19.471Z"
   },
   {
    "duration": 7,
    "start_time": "2024-05-14T11:27:20.546Z"
   },
   {
    "duration": 58,
    "start_time": "2024-05-14T11:28:15.935Z"
   },
   {
    "duration": 11,
    "start_time": "2024-05-14T11:28:30.742Z"
   },
   {
    "duration": 89,
    "start_time": "2024-05-14T11:29:48.532Z"
   },
   {
    "duration": 8,
    "start_time": "2024-05-14T11:29:53.504Z"
   },
   {
    "duration": 43,
    "start_time": "2024-05-14T11:30:01.711Z"
   },
   {
    "duration": 8,
    "start_time": "2024-05-14T11:30:03.662Z"
   },
   {
    "duration": 3,
    "start_time": "2024-05-14T11:30:06.099Z"
   },
   {
    "duration": 300,
    "start_time": "2024-05-14T11:30:12.295Z"
   },
   {
    "duration": 244,
    "start_time": "2024-05-14T11:30:14.782Z"
   },
   {
    "duration": 215,
    "start_time": "2024-05-14T11:30:16.722Z"
   },
   {
    "duration": 83,
    "start_time": "2024-05-14T11:30:18.542Z"
   },
   {
    "duration": 45,
    "start_time": "2024-05-14T11:30:23.695Z"
   },
   {
    "duration": 130,
    "start_time": "2024-05-14T11:30:26.076Z"
   },
   {
    "duration": 250,
    "start_time": "2024-05-14T11:30:28.853Z"
   },
   {
    "duration": 61,
    "start_time": "2024-05-14T11:30:30.845Z"
   },
   {
    "duration": 73,
    "start_time": "2024-05-14T11:30:32.046Z"
   },
   {
    "duration": 19,
    "start_time": "2024-05-14T11:30:36.159Z"
   },
   {
    "duration": 70,
    "start_time": "2024-05-14T11:30:37.352Z"
   },
   {
    "duration": 5,
    "start_time": "2024-05-14T11:30:43.693Z"
   },
   {
    "duration": 26,
    "start_time": "2024-05-14T11:30:45.592Z"
   },
   {
    "duration": 10,
    "start_time": "2024-05-14T11:30:47.013Z"
   },
   {
    "duration": 3,
    "start_time": "2024-05-14T11:30:53.429Z"
   },
   {
    "duration": 16,
    "start_time": "2024-05-14T11:34:32.613Z"
   },
   {
    "duration": 263,
    "start_time": "2024-05-14T11:34:38.409Z"
   },
   {
    "duration": 161,
    "start_time": "2024-05-14T11:34:45.710Z"
   },
   {
    "duration": 122,
    "start_time": "2024-05-14T11:34:46.725Z"
   },
   {
    "duration": 4,
    "start_time": "2024-05-14T11:34:48.499Z"
   },
   {
    "duration": 56,
    "start_time": "2024-05-14T11:39:28.617Z"
   },
   {
    "duration": 51,
    "start_time": "2024-05-14T11:39:32.511Z"
   },
   {
    "duration": 3,
    "start_time": "2024-05-14T11:39:37.281Z"
   },
   {
    "duration": 317,
    "start_time": "2024-05-14T11:39:40.338Z"
   },
   {
    "duration": 292,
    "start_time": "2024-05-14T11:39:45.152Z"
   },
   {
    "duration": 27,
    "start_time": "2024-05-14T11:39:47.431Z"
   },
   {
    "duration": 69,
    "start_time": "2024-05-14T11:40:05.181Z"
   },
   {
    "duration": 36593,
    "start_time": "2024-05-14T11:40:06.969Z"
   },
   {
    "duration": 8091,
    "start_time": "2024-05-14T12:02:31.539Z"
   },
   {
    "duration": 133,
    "start_time": "2024-05-14T12:02:41.693Z"
   },
   {
    "duration": 3,
    "start_time": "2024-05-14T12:02:44.508Z"
   },
   {
    "duration": 824,
    "start_time": "2024-05-14T12:02:49.026Z"
   },
   {
    "duration": 51,
    "start_time": "2024-05-14T12:02:55.859Z"
   },
   {
    "duration": 2,
    "start_time": "2024-05-14T12:02:57.700Z"
   },
   {
    "duration": 39,
    "start_time": "2024-05-14T12:02:58.797Z"
   },
   {
    "duration": 97,
    "start_time": "2024-05-14T12:03:00.187Z"
   },
   {
    "duration": 33,
    "start_time": "2024-05-14T12:03:04.926Z"
   },
   {
    "duration": 39,
    "start_time": "2024-05-14T12:03:07.097Z"
   },
   {
    "duration": 100,
    "start_time": "2024-05-14T12:03:14.444Z"
   },
   {
    "duration": 4,
    "start_time": "2024-05-14T12:03:16.019Z"
   },
   {
    "duration": 6,
    "start_time": "2024-05-14T12:03:16.836Z"
   },
   {
    "duration": 64,
    "start_time": "2024-05-14T12:03:27.017Z"
   },
   {
    "duration": 11,
    "start_time": "2024-05-14T12:03:32.288Z"
   },
   {
    "duration": 88,
    "start_time": "2024-05-14T12:03:34.298Z"
   },
   {
    "duration": 8,
    "start_time": "2024-05-14T12:03:38.227Z"
   },
   {
    "duration": 47,
    "start_time": "2024-05-14T12:03:39.984Z"
   },
   {
    "duration": 5,
    "start_time": "2024-05-14T12:03:41.007Z"
   },
   {
    "duration": 3,
    "start_time": "2024-05-14T12:03:45.060Z"
   },
   {
    "duration": 256,
    "start_time": "2024-05-14T12:03:47.437Z"
   },
   {
    "duration": 238,
    "start_time": "2024-05-14T12:03:49.182Z"
   },
   {
    "duration": 198,
    "start_time": "2024-05-14T12:03:50.272Z"
   },
   {
    "duration": 99,
    "start_time": "2024-05-14T12:03:55.452Z"
   },
   {
    "duration": 129,
    "start_time": "2024-05-14T12:03:57.553Z"
   },
   {
    "duration": 244,
    "start_time": "2024-05-14T12:03:59.152Z"
   },
   {
    "duration": 55,
    "start_time": "2024-05-14T12:04:04.057Z"
   },
   {
    "duration": 77,
    "start_time": "2024-05-14T12:04:05.452Z"
   },
   {
    "duration": 18,
    "start_time": "2024-05-14T12:04:06.892Z"
   },
   {
    "duration": 85,
    "start_time": "2024-05-14T12:04:07.993Z"
   },
   {
    "duration": 5,
    "start_time": "2024-05-14T12:04:12.508Z"
   },
   {
    "duration": 26,
    "start_time": "2024-05-14T12:04:13.817Z"
   },
   {
    "duration": 3,
    "start_time": "2024-05-14T12:04:15.570Z"
   },
   {
    "duration": 12,
    "start_time": "2024-05-14T12:04:20.208Z"
   },
   {
    "duration": 14,
    "start_time": "2024-05-14T12:04:22.848Z"
   },
   {
    "duration": 251,
    "start_time": "2024-05-14T12:04:24.768Z"
   },
   {
    "duration": 134,
    "start_time": "2024-05-14T12:04:54.707Z"
   },
   {
    "duration": 113,
    "start_time": "2024-05-14T12:04:55.518Z"
   },
   {
    "duration": 4,
    "start_time": "2024-05-14T12:04:56.638Z"
   },
   {
    "duration": 62,
    "start_time": "2024-05-14T12:05:27.219Z"
   },
   {
    "duration": 49,
    "start_time": "2024-05-14T12:05:28.892Z"
   },
   {
    "duration": 3,
    "start_time": "2024-05-14T12:05:30.917Z"
   },
   {
    "duration": 343,
    "start_time": "2024-05-14T12:05:35.347Z"
   },
   {
    "duration": 294,
    "start_time": "2024-05-14T12:05:53.197Z"
   },
   {
    "duration": 33,
    "start_time": "2024-05-14T12:06:11.780Z"
   },
   {
    "duration": 9,
    "start_time": "2024-05-14T12:06:45.779Z"
   },
   {
    "duration": 8,
    "start_time": "2024-05-14T12:07:03.307Z"
   },
   {
    "duration": 10,
    "start_time": "2024-05-14T12:07:23.379Z"
   },
   {
    "duration": 71,
    "start_time": "2024-05-14T12:10:55.551Z"
   },
   {
    "duration": 36555,
    "start_time": "2024-05-14T12:14:27.806Z"
   },
   {
    "duration": 32844,
    "start_time": "2024-05-14T12:18:10.819Z"
   },
   {
    "duration": 98,
    "start_time": "2024-05-14T12:26:58.797Z"
   },
   {
    "duration": 52,
    "start_time": "2024-05-14T12:27:00.406Z"
   },
   {
    "duration": 24,
    "start_time": "2024-05-14T12:27:05.345Z"
   },
   {
    "duration": 68536,
    "start_time": "2024-05-14T12:27:10.056Z"
   },
   {
    "duration": 23680,
    "start_time": "2024-05-14T12:28:38.513Z"
   },
   {
    "duration": 8,
    "start_time": "2024-05-14T12:30:29.045Z"
   },
   {
    "duration": 60,
    "start_time": "2024-05-14T12:34:32.451Z"
   },
   {
    "duration": 15151,
    "start_time": "2024-05-15T06:57:11.245Z"
   },
   {
    "duration": 156,
    "start_time": "2024-05-15T06:57:26.398Z"
   },
   {
    "duration": 3,
    "start_time": "2024-05-15T06:57:26.556Z"
   },
   {
    "duration": 3045,
    "start_time": "2024-05-15T06:57:26.561Z"
   },
   {
    "duration": 16,
    "start_time": "2024-05-15T06:57:29.608Z"
   },
   {
    "duration": 174,
    "start_time": "2024-05-15T06:57:29.626Z"
   },
   {
    "duration": 59,
    "start_time": "2024-05-15T06:57:29.801Z"
   },
   {
    "duration": 3,
    "start_time": "2024-05-15T06:57:29.863Z"
   },
   {
    "duration": 56,
    "start_time": "2024-05-15T06:57:29.867Z"
   },
   {
    "duration": 126,
    "start_time": "2024-05-15T06:57:29.924Z"
   },
   {
    "duration": 49,
    "start_time": "2024-05-15T06:57:30.052Z"
   },
   {
    "duration": 11,
    "start_time": "2024-05-15T06:57:30.103Z"
   },
   {
    "duration": 44,
    "start_time": "2024-05-15T06:57:30.119Z"
   },
   {
    "duration": 78,
    "start_time": "2024-05-15T06:57:30.165Z"
   },
   {
    "duration": 49,
    "start_time": "2024-05-15T06:57:30.245Z"
   },
   {
    "duration": 178,
    "start_time": "2024-05-15T06:57:30.296Z"
   },
   {
    "duration": 90,
    "start_time": "2024-05-15T06:57:30.476Z"
   },
   {
    "duration": 90,
    "start_time": "2024-05-15T06:57:30.567Z"
   },
   {
    "duration": 154,
    "start_time": "2024-05-15T06:57:30.659Z"
   },
   {
    "duration": 47,
    "start_time": "2024-05-15T06:57:30.814Z"
   },
   {
    "duration": 149,
    "start_time": "2024-05-15T06:57:30.862Z"
   },
   {
    "duration": 98,
    "start_time": "2024-05-15T06:57:31.013Z"
   },
   {
    "duration": 16,
    "start_time": "2024-05-15T06:57:31.113Z"
   },
   {
    "duration": 130,
    "start_time": "2024-05-15T06:57:31.131Z"
   },
   {
    "duration": 34,
    "start_time": "2024-05-15T06:57:31.263Z"
   },
   {
    "duration": 114,
    "start_time": "2024-05-15T06:57:31.301Z"
   },
   {
    "duration": 5,
    "start_time": "2024-05-15T06:57:31.417Z"
   },
   {
    "duration": 13,
    "start_time": "2024-05-15T06:57:31.424Z"
   },
   {
    "duration": 64,
    "start_time": "2024-05-15T06:57:31.439Z"
   },
   {
    "duration": 366,
    "start_time": "2024-05-15T06:57:31.505Z"
   },
   {
    "duration": 48,
    "start_time": "2024-05-15T06:57:31.872Z"
   },
   {
    "duration": 302,
    "start_time": "2024-05-15T06:57:31.923Z"
   },
   {
    "duration": 233,
    "start_time": "2024-05-15T06:57:32.226Z"
   },
   {
    "duration": 132,
    "start_time": "2024-05-15T06:57:32.461Z"
   },
   {
    "duration": 39,
    "start_time": "2024-05-15T06:57:32.596Z"
   },
   {
    "duration": 194,
    "start_time": "2024-05-15T06:57:32.636Z"
   },
   {
    "duration": 304,
    "start_time": "2024-05-15T06:57:32.832Z"
   },
   {
    "duration": 80,
    "start_time": "2024-05-15T06:57:33.138Z"
   },
   {
    "duration": 135,
    "start_time": "2024-05-15T06:57:33.221Z"
   },
   {
    "duration": 48,
    "start_time": "2024-05-15T06:57:33.358Z"
   },
   {
    "duration": 101,
    "start_time": "2024-05-15T06:57:33.410Z"
   },
   {
    "duration": 6,
    "start_time": "2024-05-15T06:57:33.512Z"
   },
   {
    "duration": 30,
    "start_time": "2024-05-15T06:57:33.519Z"
   },
   {
    "duration": 36,
    "start_time": "2024-05-15T06:57:33.551Z"
   },
   {
    "duration": 7,
    "start_time": "2024-05-15T06:57:33.588Z"
   },
   {
    "duration": 19,
    "start_time": "2024-05-15T06:57:33.596Z"
   },
   {
    "duration": 11,
    "start_time": "2024-05-15T06:57:33.617Z"
   },
   {
    "duration": 319,
    "start_time": "2024-05-15T06:57:33.630Z"
   },
   {
    "duration": 179,
    "start_time": "2024-05-15T06:57:33.951Z"
   },
   {
    "duration": 132,
    "start_time": "2024-05-15T06:57:34.132Z"
   },
   {
    "duration": 3,
    "start_time": "2024-05-15T06:57:34.266Z"
   },
   {
    "duration": 5405,
    "start_time": "2024-05-15T06:57:34.274Z"
   },
   {
    "duration": 1264,
    "start_time": "2024-05-15T06:57:39.681Z"
   },
   {
    "duration": 20,
    "start_time": "2024-05-15T06:57:40.946Z"
   },
   {
    "duration": 76,
    "start_time": "2024-05-15T06:57:40.968Z"
   },
   {
    "duration": 62,
    "start_time": "2024-05-15T06:57:41.045Z"
   },
   {
    "duration": 3,
    "start_time": "2024-05-15T06:57:41.108Z"
   },
   {
    "duration": 399,
    "start_time": "2024-05-15T06:57:41.113Z"
   },
   {
    "duration": 391,
    "start_time": "2024-05-15T06:57:41.513Z"
   },
   {
    "duration": 164,
    "start_time": "2024-05-15T06:57:41.906Z"
   },
   {
    "duration": 10,
    "start_time": "2024-05-15T06:59:36.617Z"
   },
   {
    "duration": 4,
    "start_time": "2024-05-15T06:59:50.842Z"
   },
   {
    "duration": 10,
    "start_time": "2024-05-15T07:00:14.526Z"
   },
   {
    "duration": 4,
    "start_time": "2024-05-15T07:00:24.132Z"
   },
   {
    "duration": 46,
    "start_time": "2024-05-15T10:01:36.949Z"
   },
   {
    "duration": 13200,
    "start_time": "2024-05-15T10:01:45.295Z"
   },
   {
    "duration": 130,
    "start_time": "2024-05-15T10:02:02.163Z"
   },
   {
    "duration": 3,
    "start_time": "2024-05-15T10:02:10.936Z"
   },
   {
    "duration": 2901,
    "start_time": "2024-05-15T10:02:12.868Z"
   },
   {
    "duration": 17,
    "start_time": "2024-05-15T10:02:15.771Z"
   },
   {
    "duration": 53,
    "start_time": "2024-05-15T10:04:07.680Z"
   },
   {
    "duration": 2,
    "start_time": "2024-05-15T10:04:09.955Z"
   },
   {
    "duration": 36,
    "start_time": "2024-05-15T10:04:11.166Z"
   },
   {
    "duration": 93,
    "start_time": "2024-05-15T10:04:12.676Z"
   },
   {
    "duration": 31,
    "start_time": "2024-05-15T10:04:18.455Z"
   },
   {
    "duration": 42,
    "start_time": "2024-05-15T10:04:21.575Z"
   },
   {
    "duration": 66,
    "start_time": "2024-05-15T10:04:37.155Z"
   },
   {
    "duration": 12,
    "start_time": "2024-05-15T10:04:45.450Z"
   },
   {
    "duration": 43,
    "start_time": "2024-05-15T10:04:54.908Z"
   },
   {
    "duration": 5,
    "start_time": "2024-05-15T10:04:56.535Z"
   },
   {
    "duration": 2,
    "start_time": "2024-05-15T10:04:59.947Z"
   },
   {
    "duration": 282,
    "start_time": "2024-05-15T10:05:02.475Z"
   },
   {
    "duration": 247,
    "start_time": "2024-05-15T10:05:08.630Z"
   },
   {
    "duration": 194,
    "start_time": "2024-05-15T10:05:10.197Z"
   },
   {
    "duration": 85,
    "start_time": "2024-05-15T10:05:12.247Z"
   },
   {
    "duration": 148,
    "start_time": "2024-05-15T10:05:17.795Z"
   },
   {
    "duration": 257,
    "start_time": "2024-05-15T10:05:19.328Z"
   },
   {
    "duration": 52,
    "start_time": "2024-05-15T10:05:20.876Z"
   },
   {
    "duration": 72,
    "start_time": "2024-05-15T10:05:21.905Z"
   },
   {
    "duration": 22,
    "start_time": "2024-05-15T10:05:23.368Z"
   },
   {
    "duration": 86,
    "start_time": "2024-05-15T10:05:27.893Z"
   },
   {
    "duration": 5,
    "start_time": "2024-05-15T10:05:31.172Z"
   },
   {
    "duration": 25,
    "start_time": "2024-05-15T10:05:36.253Z"
   },
   {
    "duration": 3,
    "start_time": "2024-05-15T10:05:42.196Z"
   },
   {
    "duration": 12,
    "start_time": "2024-05-15T10:05:46.790Z"
   },
   {
    "duration": 245,
    "start_time": "2024-05-15T10:05:52.719Z"
   },
   {
    "duration": 136,
    "start_time": "2024-05-15T10:05:55.563Z"
   },
   {
    "duration": 104,
    "start_time": "2024-05-15T10:05:56.548Z"
   },
   {
    "duration": 3,
    "start_time": "2024-05-15T10:05:58.115Z"
   },
   {
    "duration": 13,
    "start_time": "2024-05-15T10:07:23.579Z"
   },
   {
    "duration": 53,
    "start_time": "2024-05-15T10:07:26.284Z"
   },
   {
    "duration": 56,
    "start_time": "2024-05-15T10:07:31.266Z"
   },
   {
    "duration": 10,
    "start_time": "2024-05-15T10:07:34.690Z"
   },
   {
    "duration": 79,
    "start_time": "2024-05-15T10:08:04.988Z"
   },
   {
    "duration": 4,
    "start_time": "2024-05-15T10:08:23.518Z"
   },
   {
    "duration": 304,
    "start_time": "2024-05-15T10:08:24.850Z"
   },
   {
    "duration": 298,
    "start_time": "2024-05-15T10:08:40.894Z"
   },
   {
    "duration": 24,
    "start_time": "2024-05-15T10:08:46.397Z"
   },
   {
    "duration": 7,
    "start_time": "2024-05-15T10:10:53.084Z"
   },
   {
    "duration": 7,
    "start_time": "2024-05-15T10:10:54.427Z"
   },
   {
    "duration": 6,
    "start_time": "2024-05-15T10:10:55.612Z"
   },
   {
    "duration": 69,
    "start_time": "2024-05-15T10:11:00.692Z"
   },
   {
    "duration": 35794,
    "start_time": "2024-05-15T10:11:03.362Z"
   },
   {
    "duration": 125,
    "start_time": "2024-05-15T10:12:43.811Z"
   },
   {
    "duration": 42,
    "start_time": "2024-05-15T10:12:45.130Z"
   },
   {
    "duration": 23,
    "start_time": "2024-05-15T10:12:50.609Z"
   },
   {
    "duration": 8376,
    "start_time": "2024-05-15T10:16:52.905Z"
   },
   {
    "duration": 128,
    "start_time": "2024-05-15T10:17:03.105Z"
   },
   {
    "duration": 4,
    "start_time": "2024-05-15T10:17:04.894Z"
   },
   {
    "duration": 868,
    "start_time": "2024-05-15T10:17:10.693Z"
   },
   {
    "duration": 49,
    "start_time": "2024-05-15T10:17:18.253Z"
   },
   {
    "duration": 2,
    "start_time": "2024-05-15T10:17:20.389Z"
   },
   {
    "duration": 50,
    "start_time": "2024-05-15T10:17:22.612Z"
   },
   {
    "duration": 84,
    "start_time": "2024-05-15T10:17:24.759Z"
   },
   {
    "duration": 30,
    "start_time": "2024-05-15T10:17:26.460Z"
   },
   {
    "duration": 40,
    "start_time": "2024-05-15T10:17:32.083Z"
   },
   {
    "duration": 69,
    "start_time": "2024-05-15T10:17:41.189Z"
   },
   {
    "duration": 13,
    "start_time": "2024-05-15T10:17:48.082Z"
   },
   {
    "duration": 44,
    "start_time": "2024-05-15T10:17:55.012Z"
   },
   {
    "duration": 4,
    "start_time": "2024-05-15T10:17:56.253Z"
   },
   {
    "duration": 2,
    "start_time": "2024-05-15T10:17:57.972Z"
   },
   {
    "duration": 273,
    "start_time": "2024-05-15T10:17:59.824Z"
   },
   {
    "duration": 248,
    "start_time": "2024-05-15T10:18:04.491Z"
   },
   {
    "duration": 213,
    "start_time": "2024-05-15T10:18:05.732Z"
   },
   {
    "duration": 99,
    "start_time": "2024-05-15T10:18:07.195Z"
   },
   {
    "duration": 141,
    "start_time": "2024-05-15T10:18:12.724Z"
   },
   {
    "duration": 250,
    "start_time": "2024-05-15T10:18:14.060Z"
   },
   {
    "duration": 65,
    "start_time": "2024-05-15T10:18:15.265Z"
   },
   {
    "duration": 74,
    "start_time": "2024-05-15T10:18:16.305Z"
   },
   {
    "duration": 21,
    "start_time": "2024-05-15T10:18:18.221Z"
   },
   {
    "duration": 88,
    "start_time": "2024-05-15T10:18:19.272Z"
   },
   {
    "duration": 6,
    "start_time": "2024-05-15T10:18:24.001Z"
   },
   {
    "duration": 27,
    "start_time": "2024-05-15T10:18:32.519Z"
   },
   {
    "duration": 10,
    "start_time": "2024-05-15T10:18:34.140Z"
   },
   {
    "duration": 4,
    "start_time": "2024-05-15T10:18:46.254Z"
   },
   {
    "duration": 13,
    "start_time": "2024-05-15T10:18:47.820Z"
   },
   {
    "duration": 11,
    "start_time": "2024-05-15T10:18:50.540Z"
   },
   {
    "duration": 252,
    "start_time": "2024-05-15T10:18:55.660Z"
   },
   {
    "duration": 146,
    "start_time": "2024-05-15T10:18:58.031Z"
   },
   {
    "duration": 110,
    "start_time": "2024-05-15T10:18:59.035Z"
   },
   {
    "duration": 3,
    "start_time": "2024-05-15T10:19:00.195Z"
   },
   {
    "duration": 13,
    "start_time": "2024-05-15T10:19:08.940Z"
   },
   {
    "duration": 55,
    "start_time": "2024-05-15T10:19:14.613Z"
   },
   {
    "duration": 45,
    "start_time": "2024-05-15T10:19:16.793Z"
   },
   {
    "duration": 3,
    "start_time": "2024-05-15T10:19:22.023Z"
   },
   {
    "duration": 292,
    "start_time": "2024-05-15T10:19:23.715Z"
   },
   {
    "duration": 329,
    "start_time": "2024-05-15T10:19:26.033Z"
   },
   {
    "duration": 24,
    "start_time": "2024-05-15T10:19:30.902Z"
   },
   {
    "duration": 8,
    "start_time": "2024-05-15T10:20:04.389Z"
   },
   {
    "duration": 68,
    "start_time": "2024-05-15T10:20:06.084Z"
   },
   {
    "duration": 36141,
    "start_time": "2024-05-15T10:20:08.905Z"
   },
   {
    "duration": 98,
    "start_time": "2024-05-15T10:21:54.453Z"
   },
   {
    "duration": 36,
    "start_time": "2024-05-15T10:21:56.823Z"
   },
   {
    "duration": 22,
    "start_time": "2024-05-15T10:22:03.629Z"
   },
   {
    "duration": 8303,
    "start_time": "2024-05-15T10:26:13.637Z"
   },
   {
    "duration": 129,
    "start_time": "2024-05-15T10:26:21.943Z"
   },
   {
    "duration": 3,
    "start_time": "2024-05-15T10:26:22.074Z"
   },
   {
    "duration": 845,
    "start_time": "2024-05-15T10:26:22.078Z"
   },
   {
    "duration": 24,
    "start_time": "2024-05-15T10:26:22.924Z"
   },
   {
    "duration": 149,
    "start_time": "2024-05-15T10:26:22.949Z"
   },
   {
    "duration": 56,
    "start_time": "2024-05-15T10:26:23.100Z"
   },
   {
    "duration": 3,
    "start_time": "2024-05-15T10:26:23.157Z"
   },
   {
    "duration": 47,
    "start_time": "2024-05-15T10:26:23.162Z"
   },
   {
    "duration": 98,
    "start_time": "2024-05-15T10:26:23.213Z"
   },
   {
    "duration": 33,
    "start_time": "2024-05-15T10:26:23.313Z"
   },
   {
    "duration": 11,
    "start_time": "2024-05-15T10:26:23.348Z"
   },
   {
    "duration": 24,
    "start_time": "2024-05-15T10:26:23.360Z"
   },
   {
    "duration": 66,
    "start_time": "2024-05-15T10:26:23.385Z"
   },
   {
    "duration": 15,
    "start_time": "2024-05-15T10:26:23.453Z"
   },
   {
    "duration": 128,
    "start_time": "2024-05-15T10:26:23.470Z"
   },
   {
    "duration": 3,
    "start_time": "2024-05-15T10:26:23.599Z"
   },
   {
    "duration": 8,
    "start_time": "2024-05-15T10:26:23.604Z"
   },
   {
    "duration": 84,
    "start_time": "2024-05-15T10:26:23.613Z"
   },
   {
    "duration": 24,
    "start_time": "2024-05-15T10:26:23.699Z"
   },
   {
    "duration": 104,
    "start_time": "2024-05-15T10:26:23.724Z"
   },
   {
    "duration": 60,
    "start_time": "2024-05-15T10:26:23.830Z"
   },
   {
    "duration": 11,
    "start_time": "2024-05-15T10:26:23.891Z"
   },
   {
    "duration": 97,
    "start_time": "2024-05-15T10:26:23.904Z"
   },
   {
    "duration": 7,
    "start_time": "2024-05-15T10:26:24.003Z"
   },
   {
    "duration": 53,
    "start_time": "2024-05-15T10:26:24.011Z"
   },
   {
    "duration": 5,
    "start_time": "2024-05-15T10:26:24.065Z"
   },
   {
    "duration": 10,
    "start_time": "2024-05-15T10:26:24.074Z"
   },
   {
    "duration": 27,
    "start_time": "2024-05-15T10:26:24.085Z"
   },
   {
    "duration": 269,
    "start_time": "2024-05-15T10:26:24.114Z"
   },
   {
    "duration": 35,
    "start_time": "2024-05-15T10:26:24.385Z"
   },
   {
    "duration": 277,
    "start_time": "2024-05-15T10:26:24.422Z"
   },
   {
    "duration": 220,
    "start_time": "2024-05-15T10:26:24.701Z"
   },
   {
    "duration": 95,
    "start_time": "2024-05-15T10:26:24.923Z"
   },
   {
    "duration": 48,
    "start_time": "2024-05-15T10:26:25.020Z"
   },
   {
    "duration": 146,
    "start_time": "2024-05-15T10:26:25.070Z"
   },
   {
    "duration": 255,
    "start_time": "2024-05-15T10:26:25.218Z"
   },
   {
    "duration": 56,
    "start_time": "2024-05-15T10:26:25.475Z"
   },
   {
    "duration": 84,
    "start_time": "2024-05-15T10:26:25.532Z"
   },
   {
    "duration": 29,
    "start_time": "2024-05-15T10:26:25.618Z"
   },
   {
    "duration": 90,
    "start_time": "2024-05-15T10:26:25.649Z"
   },
   {
    "duration": 12,
    "start_time": "2024-05-15T10:26:25.741Z"
   },
   {
    "duration": 49,
    "start_time": "2024-05-15T10:26:25.755Z"
   },
   {
    "duration": 12,
    "start_time": "2024-05-15T10:26:25.805Z"
   },
   {
    "duration": 23,
    "start_time": "2024-05-15T10:26:25.818Z"
   },
   {
    "duration": 23,
    "start_time": "2024-05-15T10:26:25.843Z"
   },
   {
    "duration": 23,
    "start_time": "2024-05-15T10:26:25.868Z"
   },
   {
    "duration": 275,
    "start_time": "2024-05-15T10:26:25.892Z"
   },
   {
    "duration": 154,
    "start_time": "2024-05-15T10:26:26.170Z"
   },
   {
    "duration": 106,
    "start_time": "2024-05-15T10:26:26.326Z"
   },
   {
    "duration": 3,
    "start_time": "2024-05-15T10:26:26.434Z"
   },
   {
    "duration": 4671,
    "start_time": "2024-05-15T10:26:26.445Z"
   },
   {
    "duration": 1189,
    "start_time": "2024-05-15T10:26:31.117Z"
   },
   {
    "duration": 19,
    "start_time": "2024-05-15T10:26:32.308Z"
   },
   {
    "duration": 87,
    "start_time": "2024-05-15T10:26:32.328Z"
   },
   {
    "duration": 48,
    "start_time": "2024-05-15T10:26:32.417Z"
   },
   {
    "duration": 11,
    "start_time": "2024-05-15T10:26:32.466Z"
   },
   {
    "duration": 8,
    "start_time": "2024-05-15T10:26:32.479Z"
   },
   {
    "duration": 314,
    "start_time": "2024-05-15T10:26:32.488Z"
   },
   {
    "duration": 318,
    "start_time": "2024-05-15T10:26:32.804Z"
   },
   {
    "duration": 27,
    "start_time": "2024-05-15T10:26:33.124Z"
   },
   {
    "duration": 4,
    "start_time": "2024-05-15T10:26:33.152Z"
   },
   {
    "duration": 12,
    "start_time": "2024-05-15T10:26:33.158Z"
   },
   {
    "duration": 13,
    "start_time": "2024-05-15T10:26:33.172Z"
   },
   {
    "duration": 13,
    "start_time": "2024-05-15T10:26:33.187Z"
   },
   {
    "duration": 95,
    "start_time": "2024-05-15T10:26:33.202Z"
   },
   {
    "duration": 33054,
    "start_time": "2024-05-15T10:26:33.299Z"
   },
   {
    "duration": 275,
    "start_time": "2024-05-15T10:27:06.355Z"
   },
   {
    "duration": 41,
    "start_time": "2024-05-15T10:27:06.632Z"
   },
   {
    "duration": 22,
    "start_time": "2024-05-15T10:27:06.675Z"
   },
   {
    "duration": 269,
    "start_time": "2024-05-15T10:27:06.698Z"
   },
   {
    "duration": 0,
    "start_time": "2024-05-15T10:27:06.969Z"
   },
   {
    "duration": 0,
    "start_time": "2024-05-15T10:27:06.971Z"
   },
   {
    "duration": 0,
    "start_time": "2024-05-15T10:27:06.972Z"
   },
   {
    "duration": 258311,
    "start_time": "2024-05-15T10:27:33.435Z"
   },
   {
    "duration": 22530,
    "start_time": "2024-05-15T10:32:36.648Z"
   },
   {
    "duration": 10,
    "start_time": "2024-05-15T10:33:09.817Z"
   },
   {
    "duration": 57,
    "start_time": "2024-05-15T10:34:55.222Z"
   },
   {
    "duration": 15555,
    "start_time": "2024-05-15T18:10:51.205Z"
   },
   {
    "duration": 193,
    "start_time": "2024-05-15T18:11:06.763Z"
   },
   {
    "duration": 4,
    "start_time": "2024-05-15T18:11:06.957Z"
   },
   {
    "duration": 1304,
    "start_time": "2024-05-15T18:11:06.964Z"
   },
   {
    "duration": 21,
    "start_time": "2024-05-15T18:11:08.270Z"
   },
   {
    "duration": 175,
    "start_time": "2024-05-15T18:11:08.292Z"
   },
   {
    "duration": 71,
    "start_time": "2024-05-15T18:11:08.468Z"
   },
   {
    "duration": 2,
    "start_time": "2024-05-15T18:11:08.542Z"
   },
   {
    "duration": 75,
    "start_time": "2024-05-15T18:11:08.546Z"
   },
   {
    "duration": 137,
    "start_time": "2024-05-15T18:11:08.625Z"
   },
   {
    "duration": 51,
    "start_time": "2024-05-15T18:11:08.764Z"
   },
   {
    "duration": 14,
    "start_time": "2024-05-15T18:11:08.818Z"
   },
   {
    "duration": 34,
    "start_time": "2024-05-15T18:11:08.834Z"
   },
   {
    "duration": 59,
    "start_time": "2024-05-15T18:11:08.870Z"
   },
   {
    "duration": 11,
    "start_time": "2024-05-15T18:11:08.931Z"
   },
   {
    "duration": 227,
    "start_time": "2024-05-15T18:11:08.944Z"
   },
   {
    "duration": 8,
    "start_time": "2024-05-15T18:11:09.173Z"
   },
   {
    "duration": 16,
    "start_time": "2024-05-15T18:11:09.183Z"
   },
   {
    "duration": 100,
    "start_time": "2024-05-15T18:11:09.201Z"
   },
   {
    "duration": 29,
    "start_time": "2024-05-15T18:11:09.303Z"
   },
   {
    "duration": 111,
    "start_time": "2024-05-15T18:11:09.333Z"
   },
   {
    "duration": 67,
    "start_time": "2024-05-15T18:11:09.446Z"
   },
   {
    "duration": 12,
    "start_time": "2024-05-15T18:11:09.515Z"
   },
   {
    "duration": 111,
    "start_time": "2024-05-15T18:11:09.528Z"
   },
   {
    "duration": 8,
    "start_time": "2024-05-15T18:11:09.641Z"
   },
   {
    "duration": 75,
    "start_time": "2024-05-15T18:11:09.650Z"
   },
   {
    "duration": 5,
    "start_time": "2024-05-15T18:11:09.726Z"
   },
   {
    "duration": 16,
    "start_time": "2024-05-15T18:11:09.735Z"
   },
   {
    "duration": 27,
    "start_time": "2024-05-15T18:11:09.753Z"
   },
   {
    "duration": 335,
    "start_time": "2024-05-15T18:11:09.782Z"
   },
   {
    "duration": 37,
    "start_time": "2024-05-15T18:11:10.119Z"
   },
   {
    "duration": 304,
    "start_time": "2024-05-15T18:11:10.158Z"
   },
   {
    "duration": 287,
    "start_time": "2024-05-15T18:11:10.464Z"
   },
   {
    "duration": 104,
    "start_time": "2024-05-15T18:11:10.753Z"
   },
   {
    "duration": 61,
    "start_time": "2024-05-15T18:11:10.859Z"
   },
   {
    "duration": 177,
    "start_time": "2024-05-15T18:11:10.922Z"
   },
   {
    "duration": 281,
    "start_time": "2024-05-15T18:11:11.101Z"
   },
   {
    "duration": 66,
    "start_time": "2024-05-15T18:11:11.384Z"
   },
   {
    "duration": 97,
    "start_time": "2024-05-15T18:11:11.452Z"
   },
   {
    "duration": 30,
    "start_time": "2024-05-15T18:11:11.551Z"
   },
   {
    "duration": 105,
    "start_time": "2024-05-15T18:11:11.584Z"
   },
   {
    "duration": 8,
    "start_time": "2024-05-15T18:11:11.691Z"
   },
   {
    "duration": 31,
    "start_time": "2024-05-15T18:11:11.701Z"
   },
   {
    "duration": 12,
    "start_time": "2024-05-15T18:11:11.734Z"
   },
   {
    "duration": 26,
    "start_time": "2024-05-15T18:11:11.747Z"
   },
   {
    "duration": 20,
    "start_time": "2024-05-15T18:11:11.775Z"
   },
   {
    "duration": 16,
    "start_time": "2024-05-15T18:11:11.798Z"
   },
   {
    "duration": 369,
    "start_time": "2024-05-15T18:11:11.816Z"
   },
   {
    "duration": 175,
    "start_time": "2024-05-15T18:11:12.187Z"
   },
   {
    "duration": 149,
    "start_time": "2024-05-15T18:11:12.365Z"
   },
   {
    "duration": 4,
    "start_time": "2024-05-15T18:11:12.516Z"
   },
   {
    "duration": 5340,
    "start_time": "2024-05-15T18:11:12.522Z"
   },
   {
    "duration": 665,
    "start_time": "2024-05-15T18:11:17.864Z"
   },
   {
    "duration": 158,
    "start_time": "2024-05-15T18:11:18.531Z"
   },
   {
    "duration": 235,
    "start_time": "2024-05-15T18:11:18.691Z"
   },
   {
    "duration": 129,
    "start_time": "2024-05-15T18:11:18.928Z"
   },
   {
    "duration": 96,
    "start_time": "2024-05-15T18:11:19.059Z"
   },
   {
    "duration": 22,
    "start_time": "2024-05-15T18:11:19.158Z"
   },
   {
    "duration": 463,
    "start_time": "2024-05-15T18:11:19.183Z"
   },
   {
    "duration": 397,
    "start_time": "2024-05-15T18:11:19.648Z"
   },
   {
    "duration": 34,
    "start_time": "2024-05-15T18:11:20.046Z"
   },
   {
    "duration": 6,
    "start_time": "2024-05-15T18:11:38.701Z"
   }
  ],
  "kernelspec": {
   "display_name": "Python 3 (ipykernel)",
   "language": "python",
   "name": "python3"
  },
  "language_info": {
   "codemirror_mode": {
    "name": "ipython",
    "version": 3
   },
   "file_extension": ".py",
   "mimetype": "text/x-python",
   "name": "python",
   "nbconvert_exporter": "python",
   "pygments_lexer": "ipython3",
   "version": "3.11.5"
  },
  "toc": {
   "base_numbering": 1,
   "nav_menu": {},
   "number_sections": true,
   "sideBar": true,
   "skip_h1_title": true,
   "title_cell": "Table of Contents",
   "title_sidebar": "Contents",
   "toc_cell": false,
   "toc_position": {
    "height": "calc(100% - 180px)",
    "left": "10px",
    "top": "150px",
    "width": "235.818px"
   },
   "toc_section_display": true,
   "toc_window_display": true
  }
 },
 "nbformat": 4,
 "nbformat_minor": 2
}
